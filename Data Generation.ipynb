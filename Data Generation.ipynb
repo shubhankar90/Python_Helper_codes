{
 "cells": [
  {
   "cell_type": "markdown",
   "metadata": {
    "collapsed": true
   },
   "source": [
    "# <center>Data Generation and experimentation to understand regression</center>"
   ]
  },
  {
   "cell_type": "markdown",
   "metadata": {},
   "source": [
    "### Initialize required packages"
   ]
  },
  {
   "cell_type": "code",
   "execution_count": 1,
   "metadata": {
    "collapsed": true
   },
   "outputs": [],
   "source": [
    "    %matplotlib inline\n",
    "\n",
    "    import numpy as np\n",
    "    import pandas as pd\n",
    "    import matplotlib.pyplot as plt\n",
    "from random import randrange"
   ]
  },
  {
   "cell_type": "markdown",
   "metadata": {},
   "source": [
    "### Step 1: Create predictor Variables"
   ]
  },
  {
   "cell_type": "code",
   "execution_count": 2,
   "metadata": {
    "collapsed": false
   },
   "outputs": [
    {
     "name": "stdout",
     "output_type": "stream",
     "text": [
      "[[ 1.          0.14010411  0.07918163  0.13975212  0.26680898]\n",
      " [ 0.14010411  1.          0.06617256  0.07921974  0.18702709]\n",
      " [ 0.07918163  0.06617256  1.          0.25329078  0.25945618]\n",
      " [ 0.13975212  0.07921974  0.25329078  1.          0.27396032]\n",
      " [ 0.26680898  0.18702709  0.25945618  0.27396032  1.        ]]\n",
      "                 0            1            2            3            4\n",
      "count  1000.000000  1000.000000  1000.000000  1000.000000  1000.000000\n",
      "mean     49.387729    49.784478    49.303834    49.345343    49.752428\n",
      "std       9.622746    10.163527    10.171829     9.904923     9.701977\n",
      "min      24.144755    16.247437    20.954768    15.609507    19.999783\n",
      "25%      43.026066    43.151376    42.247023    41.899617    43.060687\n",
      "50%      49.251580    49.683165    49.458126    49.633101    49.404889\n",
      "75%      56.065987    56.624329    56.207225    56.126653    56.423824\n",
      "max      81.875027    81.180788    82.332069    77.945018    76.298413\n"
     ]
    }
   ],
   "source": [
    "##############Define dataset#############\n",
    "num_variables = 5\n",
    "num_samples = 1000\n",
    "##Correlation matrix\n",
    "cov = [[1.0, 0.2, 0.1, 0.2, 0.3], \n",
    "       [0.2, 1.0, 0.1, 0.1, 0.2], \n",
    "       [0.1, 0.1, 1.0, 0.2, 0.2], \n",
    "       [0.2, 0.1, 0.2, 1.0, 0.3], \n",
    "       [0.3, 0.2, 0.2, 0.3, 1.0]]\n",
    "mean = [50, 50, 50, 50, 50]\n",
    "std_dev = [10, 10, 10, 10, 10]\n",
    "##To ensure results remain consistent between runs for the same user definations\n",
    "random_state = 23\n",
    "##############Define dataset#############\n",
    "\n",
    "rnd = np.random.RandomState(random_state)\n",
    "\n",
    "## Creating cholesky decomposition matrix from correlation structure\n",
    "L = np.linalg.cholesky(cov)\n",
    "\n",
    "## Creating base dataset derived from standard normal distribution\n",
    "uncorrelated = rnd.standard_normal((num_variables, num_samples))\n",
    "\n",
    "## Imposing desired correlation structure on base dataset\n",
    "correlated = np.dot(L, uncorrelated)\n",
    "final_dataset = np.empty((num_variables, num_samples))\n",
    "\n",
    "## Imposing mean and standard deviation on dataset\n",
    "for i in range(0,num_variables):\n",
    "    final_dataset[i] = correlated[i] * std_dev[i] + mean[i]\n",
    "\n",
    "## Shape of numpy array as required by sklearn    \n",
    "final_dataset = final_dataset.T\n",
    "\n",
    "##############Check dataset#########################\n",
    "print(np.corrcoef(final_dataset.T))\n",
    "print(pd.DataFrame(final_dataset).describe())\n",
    "##############Check dataset#########################"
   ]
  },
  {
   "cell_type": "markdown",
   "metadata": {},
   "source": [
    "### Step 2: Create dependent variable from predictors according to desired parametric relation"
   ]
  },
  {
   "cell_type": "code",
   "execution_count": 7,
   "metadata": {
    "collapsed": false
   },
   "outputs": [
    {
     "name": "stdout",
     "output_type": "stream",
     "text": [
      "396\n",
      "[0.38410907205330996, 0.28272483973862617, 0.41658579663149237, 0.43974104080424953, 0.321079775371163]\n"
     ]
    },
    {
     "data": {
      "text/plain": [
       "(array([  17.,   69.,  124.,  178.,  152.,  171.,  157.,   94.,   31.,    7.]),\n",
       " array([  54579.47741265,   63967.72455989,   73355.97170714,\n",
       "          82744.21885439,   92132.46600163,  101520.71314888,\n",
       "         110908.96029612,  120297.20744337,  129685.45459062,\n",
       "         139073.70173786,  148461.94888511]),\n",
       " <a list of 10 Patch objects>)"
      ]
     },
     "execution_count": 7,
     "metadata": {},
     "output_type": "execute_result"
    },
    {
     "data": {
      "image/png": "[encoded data removed]",
      "text/plain": [
       "<matplotlib.figure.Figure at 0xb6cbc88>"
      ]
     },
     "metadata": {},
     "output_type": "display_data"
    }
   ],
   "source": [
    "##function to created dependent variable valuea\n",
    "def gen_data(inp, param, noise=0, n_outliers=0, random_state=0):\n",
    "    rnd = np.random.RandomState(random_state)\n",
    "    t=np.copy(inp.T)\n",
    "    ##Reducing the effect of one the predictors\n",
    "    dependence_reducer = rnd.randint(0, len(t[0]), 500)\n",
    "    t[1][dependence_reducer] *= 0\n",
    "    print(len(np.where(t[1] == 0)[0]))\n",
    "    ##Parametric relation between dependant variable and predictors\n",
    "    y = param[0] * (t[0]) + param[1] * (t[1]) + param[2] * (t[2]) + param[3] * (t[3]) + param[5]\n",
    "    \n",
    "    ##Generating gaussian error\n",
    "    error = noise * rnd.randn(len(t[0]))\n",
    "    ##Randomly assigning outlier positions\n",
    "    outliers = rnd.randint(0, len(t[0]), n_outliers)\n",
    "    error[outliers] *= 3\n",
    "    #print(error)\n",
    "    return y + error\n",
    "\n",
    "##Model parameters\n",
    "param = [555, 555, 555, 555, 555, 100]\n",
    "noise = 10\n",
    "n_outliers = 10\n",
    "\n",
    "##Creating indendent predictor variables\n",
    "t_train = np.array([[randrange(5,200) for x in range(0,num_samples)],[randrange(400,800) for x in range(0,num_samples)]]).T\n",
    "\n",
    "##Using correlated predictor variables\n",
    "t_train = final_dataset\n",
    "\n",
    "y_train = gen_data(t_train, param, noise=noise, n_outliers=n_outliers, random_state=random_state)\n",
    "\n",
    "#print(pd.DataFrame(y_train).describe())\n",
    "y_correlation = [(np.corrcoef(y_train,idv)[0][1]) for idv in t_train.T]\n",
    "print(y_correlation)\n",
    "plt.hist(y_train.T)\n"
   ]
  },
  {
   "cell_type": "markdown",
   "metadata": {},
   "source": [
    "### Experiment with statsmodels ols and rlm"
   ]
  },
  {
   "cell_type": "code",
   "execution_count": 6,
   "metadata": {
    "collapsed": false
   },
   "outputs": [
    {
     "name": "stdout",
     "output_type": "stream",
     "text": [
      "                    Robust linear Model Regression Results                    \n",
      "==============================================================================\n",
      "Dep. Variable:                      y   No. Observations:                 1000\n",
      "Model:                            RLM   Df Residuals:                      995\n",
      "Method:                          IRLS   Df Model:                            4\n",
      "Norm:                          HuberT                                         \n",
      "Scale Est.:                       mad                                         \n",
      "Cov Type:                          H1                                         \n",
      "Date:                Fri, 22 Jul 2016                                         \n",
      "Time:                        16:19:06                                         \n",
      "No. Iterations:                     3                                         \n",
      "==============================================================================\n",
      "                 coef    std err          z      P>|z|      [95.0% Conf. Int.]\n",
      "------------------------------------------------------------------------------\n",
      "Intercept   1.255e+04   3881.212      3.232      0.001      4938.566  2.02e+04\n",
      "x0           522.1662     51.400     10.159      0.000       421.423   622.909\n",
      "x1           357.2392     47.641      7.499      0.000       263.865   450.614\n",
      "x3           653.3604     49.834     13.111      0.000       555.687   751.034\n",
      "x4           214.8445     52.829      4.067      0.000       111.301   318.388\n",
      "==============================================================================\n",
      "\n",
      "If the model instance has been used for another fit with different fit\n",
      "parameters, then the fit options might not be the correct ones anymore .\n",
      "14641.985860907498\n"
     ]
    }
   ],
   "source": [
    "from statsmodels.formula.api import ols,rlm\n",
    "\n",
    "df = pd.DataFrame({'x0':t_train.T[0], 'x1':t_train.T[1], 'x2':t_train.T[2], 'x3':t_train.T[3], 'x4':t_train.T[4],'y':y_train})\n",
    "ols_fit = rlm(\"y ~ x0+x1+x3+ x4 +1\", df).fit()\n",
    "\n",
    "print(ols_fit.summary())\n",
    "print(np.mean((ols_fit.fittedvalues-df.y)**2)**.5)\n",
    "#plt.scatter(y_train,ols_fit.fittedvalues-y_train)\n"
   ]
  },
  {
   "cell_type": "markdown",
   "metadata": {},
   "source": [
    "### Inferences from experimentation with regression:\n",
    "1. robust least squares is better option. It may have higher RMSE but outlier treatment and better feature coefficient estimates and outlier treatment make it come out on top.\n",
    "\n",
    "2. p values good for removing features but not good for being confident of the feature affecting the dependent variable.\n",
    "\n",
    "3. High correlations (above .85) results in uncertainty of only the concerned features coefficients.\n",
    "\n",
    "4. Importance of predictors can be found out by normalizing the feature set and judging from the coefficient values of the significant features. Uncertainty between highly correlated variables.\n",
    "\n",
    "5. Correlations with dependent variable of features dont shed light on the actual relationship."
   ]
  },
  {
   "cell_type": "markdown",
   "metadata": {},
   "source": [
    "### Experimenting with scipy least_squares"
   ]
  },
  {
   "cell_type": "code",
   "execution_count": 12,
   "metadata": {
    "collapsed": false
   },
   "outputs": [
    {
     "name": "stdout",
     "output_type": "stream",
     "text": [
      "{'shapiro_res': (0.9280182719230652, 1.715293699705991e-21), 'r_sq': 0.25692693664124766}\n",
      "[  515.46041496   593.91637021   100.00000226   700.35329123   266.96359347\n",
      "  1097.11692112]\n"
     ]
    },
    {
     "data": {
      "text/plain": [
       "<matplotlib.collections.PathCollection at 0x5bb1160>"
      ]
     },
     "execution_count": 12,
     "metadata": {},
     "output_type": "execute_result"
    },
    {
     "data": {
      "image/png": "[encoded data removed]",
      "text/plain": [
       "<matplotlib.figure.Figure at 0x5afc240>"
      ]
     },
     "metadata": {},
     "output_type": "display_data"
    }
   ],
   "source": [
    "from scipy.optimize import least_squares\n",
    "from scipy.stats.stats import pearsonr\n",
    "from scipy.stats import shapiro\n",
    "from scipy.optimize._lsq.trf import trf\n",
    "from scipy.optimize._lsq.dogbox import dogbox\n",
    "from scipy.optimize._lsq.common import EPS, in_bounds, make_strictly_feasible\n",
    "\n",
    "\n",
    "class ParametricModelling:\n",
    "    \n",
    "    def __init__(self, user_para_function=None, residual_function=False):\n",
    "        self._residual_function = residual_function\n",
    "        self.user_para_function = user_para_function\n",
    "        self._x=None\n",
    "        self._y=None\n",
    "        self.coeff_ = None\n",
    "        self.residuals_ = None\n",
    "        \n",
    "    def _para_residual_function(self, para, x, y):\n",
    "        return np.array(self.user_para_function(para, x)) - y\n",
    "            \n",
    "    def fit(self, x0, jac='2-point', bounds=(-np.inf, np.inf), method='trf',\n",
    "        ftol=EPS**0.5, xtol=EPS**0.5, gtol=EPS**0.5, x_scale=1.0,\n",
    "        loss='linear', f_scale=1.0, diff_step=None, tr_solver=None,\n",
    "        tr_options={}, jac_sparsity=None, max_nfev=None, verbose=0, x_data=None, y_data=None,\n",
    "        kwargs={}):\n",
    "        if self._residual_function == True:\n",
    "            func = self.user_para_function\n",
    "        else:\n",
    "            func = self._para_residual_function\n",
    "        res = least_squares(func, x0, jac=jac, bounds=bounds, method=method,\n",
    "            ftol=ftol, xtol=xtol, gtol=gtol, x_scale=x_scale,\n",
    "            loss=loss, f_scale=f_scale, diff_step=diff_step, tr_solver=tr_solver,\n",
    "            tr_options=tr_options, jac_sparsity=jac_sparsity, max_nfev=max_nfev, verbose=verbose, args=(x_data.T,y_data),\n",
    "            kwargs=kwargs)\n",
    "        self._x=x_data\n",
    "        self._y=y_data\n",
    "        self.residuals_ = res.fun\n",
    "        self.coeff_ = res.x\n",
    "        return self\n",
    "    \n",
    "    def predict(self, inp):\n",
    "        if self._residual_function == True:\n",
    "            return self.user_para_function(self.coeff, np.array(inp).T, y=0)\n",
    "        else:\n",
    "            return self.user_para_function(self.coeff, np.array(inp).T)\n",
    "    \n",
    "    def model_metrics(self):\n",
    "        r_sq = 1 - (np.mean(self.residuals_**2) /\n",
    "        np.mean((self._y-np.mean(self._y))**2)) \n",
    "        \n",
    "        shapiro_res = shapiro(self.residuals_)\n",
    "        \n",
    "        return {'r_sq': r_sq, 'shapiro_res': shapiro_res}\n",
    "    \n",
    "\n",
    "def func(coeff,X):\n",
    "    return coeff[0] * (X[0]) + coeff[1] * (X[1]) + coeff[3] * (X[3]) + coeff[4] * (X[4]) + coeff[5]    \n",
    "\n",
    "test = ParametricModelling(func)\n",
    "\n",
    "\n",
    "    \n",
    "test = test.fit([100,100,100,100,100,100], x_data=t_train,y_data= y_train,loss='huber' )\n",
    "print(test.model_metrics())\n",
    "\n",
    "print(test.coeff_)\n",
    "\n",
    "plt.scatter(y_train+test.residuals_,test.residuals_)\n",
    "    \n",
    "    \n",
    "    \n",
    "        "
   ]
  }
 ],
 "metadata": {
  "kernelspec": {
   "display_name": "Python 3",
   "language": "python",
   "name": "python3"
  },
  "language_info": {
   "codemirror_mode": {
    "name": "ipython",
    "version": 3
   },
   "file_extension": ".py",
   "mimetype": "text/x-python",
   "name": "python",
   "nbconvert_exporter": "python",
   "pygments_lexer": "ipython3",
   "version": "3.4.4"
  }
 },
 "nbformat": 4,
 "nbformat_minor": 0
}
