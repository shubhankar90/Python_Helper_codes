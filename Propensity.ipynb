{
 "cells": [
  {
   "cell_type": "code",
   "execution_count": 1,
   "metadata": {
    "collapsed": false
   },
   "outputs": [],
   "source": [
    "import pandas as pd\n",
    "from pandasql import sqldf\n",
    "pysqldf = lambda q: sqldf(q, globals())"
   ]
  },
  {
   "cell_type": "code",
   "execution_count": 2,
   "metadata": {
    "collapsed": false
   },
   "outputs": [],
   "source": [
    "Account_Segment=pd.read_csv('C:\\\\WinPython-64bit-2.7.10.2\\\\work\\\\AdvAna\\\\Account_Segment.txt')\n",
    "Beh_Seg_Lookup=pd.read_csv('C:\\\\WinPython-64bit-2.7.10.2\\\\work\\\\AdvAna\\\\Beh_Seg_Lookup.txt')\n",
    "Eng_Seg_Lookup=pd.read_csv('C:\\\\WinPython-64bit-2.7.10.2\\\\work\\\\AdvAna\\\\Eng_Seg_Lookup.txt')\n",
    "Cluster_Lookup=pd.read_csv('C:\\\\WinPython-64bit-2.7.10.2\\\\work\\\\AdvAna\\\\Cluster_Lookup.txt')\n",
    "Demographic_Vars=pd.read_csv('C:\\\\WinPython-64bit-2.7.10.2\\\\work\\\\AdvAna\\\\Demographic_Vars.txt')\n",
    "Customer_Account_Details=pd.read_csv('C:\\\\WinPython-64bit-2.7.10.2\\\\work\\\\AdvAna\\\\Customer_Account_Details.txt')\n",
    "Transaction_Fact=pd.read_csv('C:\\\\WinPython-64bit-2.7.10.2\\\\work\\\\AdvAna\\\\Transaction_Fact.txt')\n",
    "Campaign_Vars=pd.read_csv('C:\\\\WinPython-64bit-2.7.10.2\\\\work\\\\AdvAna\\\\Campaign_Vars.txt')"
   ]
  },
  {
   "cell_type": "code",
   "execution_count": 3,
   "metadata": {
    "collapsed": false
   },
   "outputs": [
    {
     "name": "stdout",
     "output_type": "stream",
     "text": [
      "<class 'pandas.core.frame.DataFrame'>\n",
      "Int64Index: 398668 entries, 0 to 398667\n",
      "Data columns (total 8 columns):\n",
      "Cust_id    398668 non-null int64\n",
      "mth_id     398668 non-null int64\n",
      "TPV        398668 non-null float64\n",
      "TXN        398668 non-null int64\n",
      "FMX_CC     398668 non-null float64\n",
      "FMX_BC     398668 non-null float64\n",
      "FMX_ACH    398668 non-null float64\n",
      "FMX_BAL    398668 non-null float64\n",
      "dtypes: float64(5), int64(3)\n",
      "memory usage: 27.4 MB\n"
     ]
    }
   ],
   "source": [
    "Transaction_Fact.info()"
   ]
  },
  {
   "cell_type": "code",
   "execution_count": 4,
   "metadata": {
    "collapsed": false
   },
   "outputs": [],
   "source": [
    "def mnthsel(mnth):\n",
    "    if 1359<=mnth and mnth<=1364:\n",
    "        return 1\n",
    "    elif 1365<=mnth and mnth<=1370:\n",
    "        return 2\n",
    "    else:\n",
    "        return None\n",
    "ds1=Transaction_Fact\n",
    "ds1['TimeInt']=pd.Series([mnthsel(mnth) for mnth in ds1['mth_id']],index=ds1.index)\n",
    "ds1_Fsix=ds1[ds1['TimeInt']==1]\n",
    "ds1_Lsix=ds1[ds1['TimeInt']==2]\n",
    "ds1_Fsix_G=ds1_Fsix.groupby('Cust_id').sum()\n",
    "ds1_Fsix_G['Cust_id']=ds1_Fsix_G.index\n",
    "ds1_Lsix_G=ds1_Lsix.groupby('Cust_id').sum()\n",
    "ds1_Lsix_G['Cust_id']=ds1_Lsix_G.index\n",
    "ds1_Twelve_G=ds1.groupby('Cust_id').sum()\n",
    "ds1_Twelve_G['Cust_id']=ds1_Twelve_G.index\n",
    "ds2=pd.merge(Account_Segment,Customer_Account_Details,how='left',on='Cust_id')\n",
    "ds3=pd.merge(ds2,Demographic_Vars,how='left',on='Cust_id')\n",
    "ds4=pd.merge(ds3,Campaign_Vars,how='left',on='Cust_id')\n",
    "\n",
    "\n",
    "\n",
    "\n",
    "\n",
    "\n",
    "\n"
   ]
  },
  {
   "cell_type": "code",
   "execution_count": 5,
   "metadata": {
    "collapsed": false
   },
   "outputs": [
    {
     "name": "stdout",
     "output_type": "stream",
     "text": [
      "<class 'pandas.core.frame.DataFrame'>\n",
      "Int64Index: 75000 entries, 0 to 74999\n",
      "Data columns (total 34 columns):\n",
      "Cust_id                  75000 non-null int64\n",
      "cust_engagmnt_seg_key    75000 non-null int64\n",
      "Acquisition_channel      75000 non-null object\n",
      "bhvrl_seg_type_key       75000 non-null int64\n",
      "activity_segment         75000 non-null object\n",
      "clstr_num                75000 non-null object\n",
      "engaged_byr_y_n          75000 non-null object\n",
      "CC_Added_Date            75000 non-null object\n",
      "Bank_Added_date          75000 non-null object\n",
      "PREPAID_Y_N              75000 non-null int64\n",
      "age_cd                   75000 non-null int64\n",
      "gender                   75000 non-null object\n",
      "mtl_sts_cd               75000 non-null object\n",
      "income_cd                75000 non-null int64\n",
      "emailable_flag           75000 non-null int64\n",
      "Email_open_y_n_3m        75000 non-null int64\n",
      "Email_open_y_n_6m        75000 non-null int64\n",
      "Email_open_y_n_12m       75000 non-null int64\n",
      "mth_id_x                 62064 non-null float64\n",
      "TPV_x                    62064 non-null float64\n",
      "TXN_x                    62064 non-null float64\n",
      "FMX_CC_x                 62064 non-null float64\n",
      "FMX_BC_x                 62064 non-null float64\n",
      "FMX_ACH_x                62064 non-null float64\n",
      "FMX_BAL_x                62064 non-null float64\n",
      "TimeInt_x                62064 non-null float64\n",
      "mth_id_y                 74583 non-null float64\n",
      "TPV_y                    74583 non-null float64\n",
      "TXN_y                    74583 non-null float64\n",
      "FMX_CC_y                 74583 non-null float64\n",
      "FMX_BC_y                 74583 non-null float64\n",
      "FMX_ACH_y                74583 non-null float64\n",
      "FMX_BAL_y                74583 non-null float64\n",
      "TimeInt_y                74583 non-null float64\n",
      "dtypes: float64(16), int64(10), object(8)\n",
      "memory usage: 20.0+ MB\n",
      "<class 'pandas.core.frame.DataFrame'>\n",
      "Int64Index: 75000 entries, 0 to 74999\n",
      "Data columns (total 30 columns):\n",
      "Cust_id                  75000 non-null int64\n",
      "cust_engagmnt_seg_key    75000 non-null int64\n",
      "Acquisition_channel      75000 non-null object\n",
      "bhvrl_seg_type_key       75000 non-null int64\n",
      "activity_segment         75000 non-null object\n",
      "clstr_num                75000 non-null object\n",
      "engaged_byr_y_n          75000 non-null object\n",
      "CC_Added_Date            75000 non-null object\n",
      "Bank_Added_date          75000 non-null object\n",
      "PREPAID_Y_N              75000 non-null int64\n",
      "age_cd                   75000 non-null int64\n",
      "gender                   75000 non-null object\n",
      "mtl_sts_cd               75000 non-null object\n",
      "income_cd                75000 non-null int64\n",
      "emailable_flag           75000 non-null int64\n",
      "Email_open_y_n_3m        75000 non-null int64\n",
      "Email_open_y_n_6m        75000 non-null int64\n",
      "Email_open_y_n_12m       75000 non-null int64\n",
      "TPV_x                    62064 non-null float64\n",
      "TXN_x                    62064 non-null float64\n",
      "FMX_CC_x                 62064 non-null float64\n",
      "FMX_BC_x                 62064 non-null float64\n",
      "FMX_ACH_x                62064 non-null float64\n",
      "FMX_BAL_x                62064 non-null float64\n",
      "TPV_y                    74583 non-null float64\n",
      "TXN_y                    74583 non-null float64\n",
      "FMX_CC_y                 74583 non-null float64\n",
      "FMX_BC_y                 74583 non-null float64\n",
      "FMX_ACH_y                74583 non-null float64\n",
      "FMX_BAL_y                74583 non-null float64\n",
      "dtypes: float64(12), int64(10), object(8)\n",
      "memory usage: 17.7+ MB\n"
     ]
    }
   ],
   "source": [
    "ds5=pd.merge(ds4,ds1_Lsix_G,how='left',on='Cust_id')\n",
    "ds6=pd.merge(ds5,ds1_Twelve_G,how='left',on='Cust_id')\n",
    "ds6.info()\n",
    "ds7=ds6.drop(ds6.columns[[18,25,26,33]], axis=1)\n",
    "ds7.info()"
   ]
  },
  {
   "cell_type": "code",
   "execution_count": 6,
   "metadata": {
    "collapsed": false
   },
   "outputs": [
    {
     "name": "stdout",
     "output_type": "stream",
     "text": [
      "18\n",
      "TPV_x\n",
      "<class 'pandas.core.series.Series'>\n",
      "19\n",
      "TXN_x\n",
      "<class 'pandas.core.series.Series'>\n",
      "20\n",
      "FMX_CC_x\n",
      "<class 'pandas.core.series.Series'>\n",
      "21\n",
      "FMX_BC_x\n",
      "<class 'pandas.core.series.Series'>\n",
      "22\n",
      "FMX_ACH_x\n",
      "<class 'pandas.core.series.Series'>\n",
      "23\n",
      "FMX_BAL_x\n",
      "<class 'pandas.core.series.Series'>\n",
      "24\n",
      "TPV_y\n",
      "<class 'pandas.core.series.Series'>\n",
      "25\n",
      "TXN_y\n",
      "<class 'pandas.core.series.Series'>\n",
      "26\n",
      "FMX_CC_y\n",
      "<class 'pandas.core.series.Series'>\n",
      "27\n",
      "FMX_BC_y\n",
      "<class 'pandas.core.series.Series'>\n",
      "28\n",
      "FMX_ACH_y\n",
      "<class 'pandas.core.series.Series'>\n",
      "29\n",
      "FMX_BAL_y\n",
      "<class 'pandas.core.series.Series'>\n"
     ]
    }
   ],
   "source": [
    "for i in range(18,30):\n",
    "    print i\n",
    "    print ds7.columns[i]\n",
    "    print type(ds7[ds7.columns[i]].isnull())\n",
    "    ds7.loc[ds7[ds7.columns[i]].isnull(),ds7.columns[i]]=0\n",
    "\n"
   ]
  },
  {
   "cell_type": "code",
   "execution_count": 7,
   "metadata": {
    "collapsed": false
   },
   "outputs": [
    {
     "name": "stdout",
     "output_type": "stream",
     "text": [
      "<class 'pandas.core.frame.DataFrame'>\n",
      "Int64Index: 75000 entries, 0 to 74999\n",
      "Data columns (total 32 columns):\n",
      "Cust_id                  75000 non-null int64\n",
      "cust_engagmnt_seg_key    75000 non-null int64\n",
      "Acquisition_channel      75000 non-null object\n",
      "bhvrl_seg_type_key       75000 non-null int64\n",
      "activity_segment         75000 non-null object\n",
      "clstr_num                75000 non-null object\n",
      "engaged_byr_y_n          75000 non-null object\n",
      "CC_Added_Date            75000 non-null object\n",
      "Bank_Added_date          75000 non-null object\n",
      "PREPAID_Y_N              75000 non-null int64\n",
      "age_cd                   75000 non-null int64\n",
      "gender                   75000 non-null object\n",
      "mtl_sts_cd               75000 non-null object\n",
      "income_cd                75000 non-null int64\n",
      "emailable_flag           75000 non-null int64\n",
      "Email_open_y_n_3m        75000 non-null int64\n",
      "Email_open_y_n_6m        75000 non-null int64\n",
      "Email_open_y_n_12m       75000 non-null int64\n",
      "TPV_x                    75000 non-null float64\n",
      "TXN_x                    75000 non-null float64\n",
      "FMX_CC_x                 75000 non-null float64\n",
      "FMX_BC_x                 75000 non-null float64\n",
      "FMX_ACH_x                75000 non-null float64\n",
      "FMX_BAL_x                75000 non-null float64\n",
      "TPV_y                    75000 non-null float64\n",
      "TXN_y                    75000 non-null float64\n",
      "FMX_CC_y                 75000 non-null float64\n",
      "FMX_BC_y                 75000 non-null float64\n",
      "FMX_ACH_y                75000 non-null float64\n",
      "FMX_BAL_y                75000 non-null float64\n",
      "CC_Added                 75000 non-null int64\n",
      "Bank_Added               75000 non-null int64\n",
      "dtypes: float64(12), int64(12), object(8)\n",
      "memory usage: 18.9+ MB\n"
     ]
    }
   ],
   "source": [
    "ds7['CC_Added']=1\n",
    "ds7.loc[ds7['CC_Added_Date'].isin(['12/31/1969']),'CC_Added']=0\n",
    "ds7['Bank_Added']=1\n",
    "ds7.loc[ds7['Bank_Added_date'].isin(['12/31/1969']),'Bank_Added']=0\n",
    "ds7.info()"
   ]
  },
  {
   "cell_type": "code",
   "execution_count": 8,
   "metadata": {
    "collapsed": false
   },
   "outputs": [
    {
     "name": "stdout",
     "output_type": "stream",
     "text": [
      "<class 'pandas.core.frame.DataFrame'>\n",
      "Int64Index: 75000 entries, 0 to 74999\n",
      "Data columns (total 32 columns):\n",
      "Cust_id                  75000 non-null int64\n",
      "cust_engagmnt_seg_key    75000 non-null int64\n",
      "Acquisition_channel      75000 non-null object\n",
      "bhvrl_seg_type_key       75000 non-null int64\n",
      "activity_segment         75000 non-null object\n",
      "clstr_num                75000 non-null object\n",
      "engaged_byr_y_n          75000 non-null object\n",
      "CC_Added_Date            75000 non-null object\n",
      "Bank_Added_date          75000 non-null object\n",
      "PREPAID_Y_N              75000 non-null int64\n",
      "age_cd                   75000 non-null int64\n",
      "gender                   75000 non-null object\n",
      "mtl_sts_cd               75000 non-null object\n",
      "income_cd                75000 non-null int64\n",
      "emailable_flag           75000 non-null int64\n",
      "Email_open_y_n_3m        75000 non-null int64\n",
      "Email_open_y_n_6m        75000 non-null int64\n",
      "Email_open_y_n_12m       75000 non-null int64\n",
      "TPV_x                    75000 non-null float64\n",
      "TXN_x                    75000 non-null float64\n",
      "FMX_CC_x                 75000 non-null float64\n",
      "FMX_BC_x                 75000 non-null float64\n",
      "FMX_ACH_x                75000 non-null float64\n",
      "FMX_BAL_x                75000 non-null float64\n",
      "TPV_y                    75000 non-null float64\n",
      "TXN_y                    75000 non-null float64\n",
      "FMX_CC_y                 75000 non-null float64\n",
      "FMX_BC_y                 75000 non-null float64\n",
      "FMX_ACH_y                75000 non-null float64\n",
      "FMX_BAL_y                75000 non-null float64\n",
      "CC_Added                 75000 non-null int64\n",
      "Bank_Added               75000 non-null int64\n",
      "dtypes: float64(12), int64(12), object(8)\n",
      "memory usage: 18.9+ MB\n",
      "<class 'pandas.core.frame.DataFrame'>\n",
      "Int64Index: 75000 entries, 0 to 74999\n",
      "Data columns (total 30 columns):\n",
      "Cust_id                  75000 non-null int64\n",
      "cust_engagmnt_seg_key    75000 non-null int64\n",
      "Acquisition_channel      75000 non-null object\n",
      "bhvrl_seg_type_key       75000 non-null int64\n",
      "activity_segment         75000 non-null object\n",
      "clstr_num                75000 non-null object\n",
      "engaged_byr_y_n          75000 non-null object\n",
      "PREPAID_Y_N              75000 non-null int64\n",
      "age_cd                   75000 non-null int64\n",
      "gender                   75000 non-null object\n",
      "mtl_sts_cd               75000 non-null object\n",
      "income_cd                75000 non-null int64\n",
      "emailable_flag           75000 non-null int64\n",
      "Email_open_y_n_3m        75000 non-null int64\n",
      "Email_open_y_n_6m        75000 non-null int64\n",
      "Email_open_y_n_12m       75000 non-null int64\n",
      "TPV_x                    75000 non-null float64\n",
      "TXN_x                    75000 non-null float64\n",
      "FMX_CC_x                 75000 non-null float64\n",
      "FMX_BC_x                 75000 non-null float64\n",
      "FMX_ACH_x                75000 non-null float64\n",
      "FMX_BAL_x                75000 non-null float64\n",
      "TPV_y                    75000 non-null float64\n",
      "TXN_y                    75000 non-null float64\n",
      "FMX_CC_y                 75000 non-null float64\n",
      "FMX_BC_y                 75000 non-null float64\n",
      "FMX_ACH_y                75000 non-null float64\n",
      "FMX_BAL_y                75000 non-null float64\n",
      "CC_Added                 75000 non-null int64\n",
      "Bank_Added               75000 non-null int64\n",
      "dtypes: float64(12), int64(12), object(6)\n",
      "memory usage: 17.7+ MB\n"
     ]
    }
   ],
   "source": [
    "ds7.info()\n",
    "ds8=ds7.drop(ds7.columns[[7,8]], axis=1)\n",
    "ds8.info()"
   ]
  },
  {
   "cell_type": "code",
   "execution_count": 9,
   "metadata": {
    "collapsed": false
   },
   "outputs": [
    {
     "name": "stdout",
     "output_type": "stream",
     "text": [
      "cust_engagmnt_seg_key  PREPAID_Y_N\n",
      "-98                    0                  2\n",
      "                       1                  1\n",
      " 5                     0               9871\n",
      "                       1               1524\n",
      " 6                     0              12537\n",
      "                       1               2575\n",
      " 7                     0              13794\n",
      "                       1               3223\n",
      " 8                     0               9494\n",
      "                       1               2415\n",
      " 9                     0               6787\n",
      "                       1               2139\n",
      " 10                    0               3562\n",
      "                       1               1464\n",
      " 11                    0               1447\n",
      "                       1                911\n",
      " 12                    0               2530\n",
      "                       1                724\n",
      "dtype: int64\n",
      "cust_engagmnt_seg_key  PREPAID_Y_N\n",
      "-98                    0                  2\n",
      "                       1                  1\n",
      " 5                     0               9871\n",
      "                       1               1524\n",
      " 6                     0              12537\n",
      "                       1               2575\n",
      " 7                     0              13794\n",
      "                       1               3223\n",
      " 8                     0               9494\n",
      "                       1               2415\n",
      " 9                     0               6787\n",
      "                       1               2139\n",
      " 10                    0               3562\n",
      "                       1               1464\n",
      " 11                    0               1447\n",
      "                       1                911\n",
      " 12                    0               2530\n",
      "                       1                724\n",
      "dtype: int64\n",
      "bhvrl_seg_type_key  PREPAID_Y_N\n",
      "3                   0                 16\n",
      "                    1                  4\n",
      "4                   0                933\n",
      "                    1               1005\n",
      "5                   0               2410\n",
      "                    1                722\n",
      "6                   0               3354\n",
      "                    1               2468\n",
      "7                   0               3730\n",
      "                    1                705\n",
      "8                   0               8576\n",
      "                    1               2072\n",
      "9                   0               1442\n",
      "                    1                603\n",
      "10                  0               6618\n",
      "                    1               1064\n",
      "11                  0              11414\n",
      "                    1               2065\n",
      "12                  0              12247\n",
      "                    1               2332\n",
      "14                  0               5540\n",
      "                    1               1249\n",
      "15                  0               3744\n",
      "                    1                687\n",
      "dtype: int64\n",
      "activity_segment                        PREPAID_Y_N\n",
      "Frequent Buyer                          0              10668\n",
      "                                        1               3105\n",
      "Low Activity                            0              26812\n",
      "                                        1               5610\n",
      "No Sent Activity in the last 12 months  1                  1\n",
      "Occasional Buyer                        0              17429\n",
      "                                        1               4442\n",
      "Top Buyer                               0               2954\n",
      "                                        1                920\n",
      "Uber Top Buyer                          0               2161\n",
      "                                        1                898\n",
      "dtype: int64\n",
      "clstr_num  PREPAID_Y_N\n",
      "Factor1    0               416\n",
      "           1               231\n",
      "Factor10   0              6895\n",
      "           1              2738\n",
      "Factor11   0               618\n",
      "           1               311\n",
      "Factor12   0              6435\n",
      "           1              1600\n",
      "Factor13   0              3262\n",
      "           1               615\n",
      "Factor14   0              2671\n",
      "           1               846\n",
      "Factor15   0              1256\n",
      "           1               375\n",
      "Factor16   0              1645\n",
      "           1               410\n",
      "Factor17   0              2925\n",
      "           1               509\n",
      "Factor18   0              1106\n",
      "           1               170\n",
      "Factor2    0              5987\n",
      "           1              1674\n",
      "Factor3    0              3170\n",
      "           1               587\n",
      "Factor4    0              7101\n",
      "           1               822\n",
      "Factor5    0              1314\n",
      "           1               634\n",
      "Factor6    0              3961\n",
      "           1              1010\n",
      "Factor7    0              2134\n",
      "           1               590\n",
      "Factor8    0              4201\n",
      "           1               858\n",
      "Factor9    0              3881\n",
      "           1               683\n",
      "Unknown    0              1046\n",
      "           1               313\n",
      "dtype: int64\n",
      "engaged_byr_y_n  PREPAID_Y_N\n",
      "N                0              26391\n",
      "                 1               5044\n",
      "Y                0              33633\n",
      "                 1               9932\n",
      "dtype: int64\n",
      "age_cd  PREPAID_Y_N\n",
      "-1      0              1400\n",
      "        1               285\n",
      " 18     0               443\n",
      "        1               137\n",
      " 20     0               826\n",
      "        1               266\n",
      " 22     0              1124\n",
      "        1               392\n",
      " 24     0              1538\n",
      "        1               535\n",
      " 26     0              1704\n",
      "        1               554\n",
      " 28     0              1953\n",
      "        1               561\n",
      " 30     0              2336\n",
      "        1               683\n",
      " 32     0              2242\n",
      "        1               697\n",
      " 34     0              2563\n",
      "        1               667\n",
      " 36     0              2334\n",
      "        1               685\n",
      " 38     0              2478\n",
      "        1               670\n",
      " 40     0              2568\n",
      "        1               678\n",
      " 42     0              2831\n",
      "        1               767\n",
      " 44     0              2811\n",
      "        1               738\n",
      "                       ... \n",
      " 72     0               692\n",
      "        1               165\n",
      " 74     0               595\n",
      "        1               133\n",
      " 76     0               359\n",
      "        1                91\n",
      " 78     0               261\n",
      "        1                47\n",
      " 80     0               234\n",
      "        1                47\n",
      " 82     0               231\n",
      "        1                57\n",
      " 84     0               166\n",
      "        1                36\n",
      " 86     0               155\n",
      "        1                34\n",
      " 88     0               115\n",
      "        1                31\n",
      " 90     0                81\n",
      "        1                15\n",
      " 92     0                67\n",
      "        1                15\n",
      " 94     0                28\n",
      "        1                 7\n",
      " 96     0                18\n",
      "        1                 4\n",
      " 98     0                19\n",
      "        1                 2\n",
      " 99     0                16\n",
      "        1                 5\n",
      "dtype: int64\n",
      "gender  PREPAID_Y_N\n",
      "F       0              23803\n",
      "        1               4454\n",
      "M       0              27054\n",
      "        1               7327\n",
      "U       0               9167\n",
      "        1               3195\n",
      "dtype: int64\n",
      "mtl_sts_cd  PREPAID_Y_N\n",
      "M           0              37193\n",
      "            1               8472\n",
      "S           0              21431\n",
      "            1               6219\n",
      "U           0               1400\n",
      "            1                285\n",
      "dtype: int64\n",
      "income_cd  PREPAID_Y_N\n",
      "-1         0               1400\n",
      "           1                285\n",
      " 1         0               4027\n",
      "           1               1796\n",
      " 2         0               2128\n",
      "           1                945\n",
      " 3         0               4314\n",
      "           1               1670\n",
      " 4         0               5066\n",
      "           1               1699\n",
      " 5         0               5672\n",
      "           1               1597\n",
      " 6         0              14856\n",
      "           1               3460\n",
      " 7         0               8856\n",
      "           1               1577\n",
      " 8         0               5908\n",
      "           1                937\n",
      " 9         0               7797\n",
      "           1               1010\n",
      "dtype: int64\n",
      "emailable_flag  PREPAID_Y_N\n",
      "0               0              16309\n",
      "                1               2789\n",
      "1               0              43715\n",
      "                1              12187\n",
      "dtype: int64\n",
      "Email_open_y_n_3m  PREPAID_Y_N\n",
      "0                  0              30283\n",
      "                   1               7461\n",
      "1                  0              29741\n",
      "                   1               7515\n",
      "dtype: int64\n",
      "Email_open_y_n_6m  PREPAID_Y_N\n",
      "0                  0              23007\n",
      "                   1               5821\n",
      "1                  0              37017\n",
      "                   1               9155\n",
      "dtype: int64\n",
      "Email_open_y_n_12m  PREPAID_Y_N\n",
      "0                   0              17320\n",
      "                    1               4436\n",
      "1                   0              42704\n",
      "                    1              10540\n",
      "dtype: int64\n",
      "CC_Added  PREPAID_Y_N\n",
      "0         0               3510\n",
      "          1               2704\n",
      "1         0              56514\n",
      "          1              12272\n",
      "dtype: int64\n",
      "Bank_Added  PREPAID_Y_N\n",
      "0           0              28544\n",
      "            1               5796\n",
      "1           0              31480\n",
      "            1               9180\n",
      "dtype: int64\n",
      "PREPAID_Y_N\n",
      "0    60024\n",
      "1    14976\n",
      "dtype: int64\n"
     ]
    }
   ],
   "source": [
    "print ds8.groupby(['cust_engagmnt_seg_key','PREPAID_Y_N']).size()\n",
    "print ds8.groupby(['cust_engagmnt_seg_key','PREPAID_Y_N']).size()\n",
    "print ds8.groupby(['bhvrl_seg_type_key','PREPAID_Y_N']).size()\n",
    "print ds8.groupby(['activity_segment','PREPAID_Y_N']).size()\n",
    "print ds8.groupby(['clstr_num','PREPAID_Y_N']).size()\n",
    "print ds8.groupby(['engaged_byr_y_n','PREPAID_Y_N']).size()\n",
    "print ds8.groupby(['age_cd','PREPAID_Y_N']).size()\n",
    "print ds8.groupby(['gender','PREPAID_Y_N']).size()\n",
    "print ds8.groupby(['mtl_sts_cd','PREPAID_Y_N']).size()\n",
    "print ds8.groupby(['income_cd','PREPAID_Y_N']).size()\n",
    "print ds8.groupby(['emailable_flag','PREPAID_Y_N']).size()\n",
    "print ds8.groupby(['Email_open_y_n_3m','PREPAID_Y_N']).size()\n",
    "print ds8.groupby(['Email_open_y_n_6m','PREPAID_Y_N']).size()\n",
    "print ds8.groupby(['Email_open_y_n_12m','PREPAID_Y_N']).size()\n",
    "print ds8.groupby(['CC_Added','PREPAID_Y_N']).size()\n",
    "print ds8.groupby(['Bank_Added','PREPAID_Y_N']).size()\n",
    "print ds8.groupby(['PREPAID_Y_N']).size()\n",
    "\n"
   ]
  },
  {
   "cell_type": "code",
   "execution_count": 10,
   "metadata": {
    "collapsed": false
   },
   "outputs": [
    {
     "name": "stdout",
     "output_type": "stream",
     "text": [
      "cust_engagmnt_seg_key\n",
      "-98        3\n",
      " 5     11395\n",
      " 6     15112\n",
      " 7     17017\n",
      " 8     11909\n",
      " 9      8926\n",
      " 10     5026\n",
      " 11     2358\n",
      " 12     3254\n",
      "dtype: int64\n",
      "cust_engagmnt_seg_key\n",
      "5     11395\n",
      "6     15112\n",
      "7     17017\n",
      "8     11909\n",
      "9      8926\n",
      "10     5026\n",
      "11     2358\n",
      "12     3254\n",
      "dtype: int64\n"
     ]
    }
   ],
   "source": [
    "ds9=ds8\n",
    "print ds9.groupby(['cust_engagmnt_seg_key']).size()\n",
    "ds9=ds9[~ds9['cust_engagmnt_seg_key'].isin([-98])]\n",
    "print ds9.groupby(['cust_engagmnt_seg_key']).size()"
   ]
  },
  {
   "cell_type": "code",
   "execution_count": 11,
   "metadata": {
    "collapsed": false
   },
   "outputs": [
    {
     "name": "stdout",
     "output_type": "stream",
     "text": [
      "bhvrl_seg_type_key\n",
      "3        19\n",
      "4      1938\n",
      "5      3131\n",
      "6      5822\n",
      "7      4434\n",
      "8     10648\n",
      "9      2045\n",
      "10     7682\n",
      "11    13479\n",
      "12    14579\n",
      "14     6789\n",
      "15     4431\n",
      "dtype: int64\n",
      "bhvrl_seg_type_key\n",
      "4      1938\n",
      "5      3131\n",
      "6      5822\n",
      "7      4434\n",
      "8     10648\n",
      "9      2045\n",
      "10     7682\n",
      "11    13479\n",
      "12    14579\n",
      "14     6789\n",
      "15     4431\n",
      "dtype: int64\n"
     ]
    }
   ],
   "source": [
    "print ds9.groupby(['bhvrl_seg_type_key']).size()\n",
    "ds9=ds9[~ds9['bhvrl_seg_type_key'].isin([3])]\n",
    "print ds9.groupby(['bhvrl_seg_type_key']).size()"
   ]
  },
  {
   "cell_type": "code",
   "execution_count": 12,
   "metadata": {
    "collapsed": false
   },
   "outputs": [
    {
     "name": "stdout",
     "output_type": "stream",
     "text": [
      "activity_segment\n",
      "Frequent Buyer      13768\n",
      "Low Activity        32419\n",
      "Occasional Buyer    21866\n",
      "Top Buyer            3870\n",
      "Uber Top Buyer       3055\n",
      "dtype: int64\n",
      "activity_segment\n",
      "Frequent Buyer      13768\n",
      "Low Activity        32419\n",
      "Occasional Buyer    21866\n",
      "Top Buyer            3870\n",
      "Uber Top Buyer       3055\n",
      "dtype: int64\n"
     ]
    }
   ],
   "source": [
    "print ds9.groupby(['activity_segment']).size()\n",
    "ds9=ds9[~(ds9['activity_segment']=='No Sent Activity in the last 12 months')]\n",
    "print ds9.groupby(['activity_segment']).size()"
   ]
  },
  {
   "cell_type": "code",
   "execution_count": 13,
   "metadata": {
    "collapsed": false
   },
   "outputs": [
    {
     "name": "stdout",
     "output_type": "stream",
     "text": [
      "age_cd\n",
      "-1     1685\n",
      " 18     579\n",
      " 20    1089\n",
      " 22    1516\n",
      " 24    2073\n",
      " 26    2258\n",
      " 28    2514\n",
      " 30    3017\n",
      " 32    2939\n",
      " 34    3229\n",
      " 36    3018\n",
      " 38    3148\n",
      " 40    3244\n",
      " 42    3598\n",
      " 44    3548\n",
      " 46    3269\n",
      " 48    3626\n",
      " 50    3654\n",
      " 52    3691\n",
      " 54    3508\n",
      " 56    3338\n",
      " 58    2979\n",
      " 60    2328\n",
      " 62    1851\n",
      " 64    1647\n",
      " 66    1524\n",
      " 68    1266\n",
      " 70    1117\n",
      " 72     857\n",
      " 74     728\n",
      " 76     450\n",
      " 78     308\n",
      " 80     280\n",
      " 82     288\n",
      " 84     202\n",
      " 86     189\n",
      " 88     146\n",
      " 90      96\n",
      " 92      82\n",
      " 94      35\n",
      " 96      22\n",
      " 98      21\n",
      " 99      21\n",
      "dtype: int64\n",
      "cust_age         PREPAID_Y_N\n",
      "30 to 55         0              34582\n",
      "                 1               8907\n",
      "NA               0               1400\n",
      "                 1                285\n",
      "greater than 55  0              16440\n",
      "                 1               3335\n",
      "less thank 30    0               7585\n",
      "                 1               2444\n",
      "dtype: int64\n"
     ]
    }
   ],
   "source": [
    "print ds9.groupby(['age_cd']).size()\n",
    "ds9['cust_age']='NA'\n",
    "ds9.loc[(ds9['age_cd']<30) & (ds9['age_cd']!=-1),'cust_age']='less thank 30'\n",
    "ds9.loc[(ds9['age_cd']>=30) &(ds9['age_cd']<55)& (ds9['age_cd']!=-1),'cust_age']='30 to 55'\n",
    "ds9.loc[(ds9['age_cd']>=55) & (ds9['age_cd']!=-1),'cust_age']='greater than 55'\n",
    "print ds9.groupby(['cust_age','PREPAID_Y_N']).size()\n"
   ]
  },
  {
   "cell_type": "code",
   "execution_count": 131,
   "metadata": {
    "collapsed": true
   },
   "outputs": [
    {
     "name": "stdout",
     "output_type": "stream",
     "text": [
      "<class 'pandas.core.frame.DataFrame'>\n",
      "Int64Index: 74978 entries, 0 to 74999\n",
      "Data columns (total 31 columns):\n",
      "Cust_id                  74978 non-null int64\n",
      "cust_engagmnt_seg_key    74978 non-null int64\n",
      "Acquisition_channel      74978 non-null object\n",
      "bhvrl_seg_type_key       74978 non-null int64\n",
      "activity_segment         74978 non-null object\n",
      "clstr_num                74978 non-null object\n",
      "engaged_byr_y_n          74978 non-null object\n",
      "PREPAID_Y_N              74978 non-null int64\n",
      "age_cd                   74978 non-null int64\n",
      "gender                   74978 non-null object\n",
      "mtl_sts_cd               74978 non-null object\n",
      "income_cd                74978 non-null int64\n",
      "emailable_flag           74978 non-null int64\n",
      "Email_open_y_n_3m        74978 non-null int64\n",
      "Email_open_y_n_6m        74978 non-null int64\n",
      "Email_open_y_n_12m       74978 non-null int64\n",
      "TPV_x                    74978 non-null float64\n",
      "TXN_x                    74978 non-null float64\n",
      "FMX_CC_x                 74978 non-null float64\n",
      "FMX_BC_x                 74978 non-null float64\n",
      "FMX_ACH_x                74978 non-null float64\n",
      "FMX_BAL_x                74978 non-null float64\n",
      "TPV_y                    74978 non-null float64\n",
      "TXN_y                    74978 non-null float64\n",
      "FMX_CC_y                 74978 non-null float64\n",
      "FMX_BC_y                 74978 non-null float64\n",
      "FMX_ACH_y                74978 non-null float64\n",
      "FMX_BAL_y                74978 non-null float64\n",
      "CC_Added                 74978 non-null int64\n",
      "Bank_Added               74978 non-null int64\n",
      "cust_age                 74978 non-null object\n",
      "dtypes: float64(12), int64(12), object(7)\n",
      "memory usage: 18.3+ MB\n",
      "<class 'pandas.core.frame.DataFrame'>\n",
      "Int64Index: 74978 entries, 0 to 74999\n",
      "Data columns (total 30 columns):\n",
      "Cust_id                  74978 non-null int64\n",
      "cust_engagmnt_seg_key    74978 non-null int64\n",
      "Acquisition_channel      74978 non-null object\n",
      "bhvrl_seg_type_key       74978 non-null int64\n",
      "activity_segment         74978 non-null object\n",
      "clstr_num                74978 non-null object\n",
      "engaged_byr_y_n          74978 non-null object\n",
      "PREPAID_Y_N              74978 non-null int64\n",
      "gender                   74978 non-null object\n",
      "mtl_sts_cd               74978 non-null object\n",
      "income_cd                74978 non-null int64\n",
      "emailable_flag           74978 non-null int64\n",
      "Email_open_y_n_3m        74978 non-null int64\n",
      "Email_open_y_n_6m        74978 non-null int64\n",
      "Email_open_y_n_12m       74978 non-null int64\n",
      "TPV_x                    74978 non-null float64\n",
      "TXN_x                    74978 non-null float64\n",
      "FMX_CC_x                 74978 non-null float64\n",
      "FMX_BC_x                 74978 non-null float64\n",
      "FMX_ACH_x                74978 non-null float64\n",
      "FMX_BAL_x                74978 non-null float64\n",
      "TPV_y                    74978 non-null float64\n",
      "TXN_y                    74978 non-null float64\n",
      "FMX_CC_y                 74978 non-null float64\n",
      "FMX_BC_y                 74978 non-null float64\n",
      "FMX_ACH_y                74978 non-null float64\n",
      "FMX_BAL_y                74978 non-null float64\n",
      "CC_Added                 74978 non-null int64\n",
      "Bank_Added               74978 non-null int64\n",
      "cust_age                 74978 non-null object\n",
      "dtypes: float64(12), int64(11), object(7)\n",
      "memory usage: 17.7+ MB\n"
     ]
    }
   ],
   "source": [
    "ds9.info()\n",
    "ds10=ds9.drop(ds9.columns[[8]],axis=1)\n",
    "ds10.info()"
   ]
  },
  {
   "cell_type": "code",
   "execution_count": 1,
   "metadata": {
    "collapsed": false
   },
   "outputs": [
    {
     "ename": "NameError",
     "evalue": "name 'ds10' is not defined",
     "output_type": "error",
     "traceback": [
      "\u001b[1;31m---------------------------------------------------------------------------\u001b[0m",
      "\u001b[1;31mNameError\u001b[0m                                 Traceback (most recent call last)",
      "\u001b[1;32m<ipython-input-1-5d382d7f72e8>\u001b[0m in \u001b[0;36m<module>\u001b[1;34m()\u001b[0m\n\u001b[0;32m      1\u001b[0m \u001b[1;31m#writer = ExcelWriter('C:\\\\WinPython-64bit-2.7.10.2\\\\work\\\\AdvAna\\\\correl.xlsx')\u001b[0m\u001b[1;33m\u001b[0m\u001b[1;33m\u001b[0m\u001b[0m\n\u001b[1;32m----> 2\u001b[1;33m \u001b[0mds10\u001b[0m\u001b[1;33m[\u001b[0m\u001b[0mds10\u001b[0m\u001b[1;33m.\u001b[0m\u001b[0mcolumns\u001b[0m\u001b[1;33m[\u001b[0m\u001b[1;33m[\u001b[0m\u001b[0mrange\u001b[0m\u001b[1;33m(\u001b[0m\u001b[1;36m15\u001b[0m\u001b[1;33m,\u001b[0m\u001b[1;36m27\u001b[0m\u001b[1;33m)\u001b[0m\u001b[1;33m]\u001b[0m\u001b[1;33m]\u001b[0m\u001b[1;33m]\u001b[0m\u001b[1;33m.\u001b[0m\u001b[0mcorr\u001b[0m\u001b[1;33m(\u001b[0m\u001b[0mmethod\u001b[0m\u001b[1;33m=\u001b[0m\u001b[1;34m'pearson'\u001b[0m\u001b[1;33m)\u001b[0m\u001b[1;33m.\u001b[0m\u001b[0mto_excel\u001b[0m\u001b[1;33m(\u001b[0m\u001b[1;34m'C:\\\\WinPython-64bit-2.7.10.2\\\\work\\\\AdvAna\\\\correl2.xlsx'\u001b[0m\u001b[1;33m)\u001b[0m\u001b[1;33m\u001b[0m\u001b[0m\n\u001b[0m",
      "\u001b[1;31mNameError\u001b[0m: name 'ds10' is not defined"
     ]
    }
   ],
   "source": [
    "#writer = ExcelWriter('C:\\\\WinPython-64bit-2.7.10.2\\\\work\\\\AdvAna\\\\correl.xlsx')\n",
    "ds10[ds10.columns[[range(15,27)]]].corr(method='pearson').to_excel('C:\\\\WinPython-64bit-2.7.10.2\\\\work\\\\AdvAna\\\\correl2.xlsx')"
   ]
  },
  {
   "cell_type": "code",
   "execution_count": 132,
   "metadata": {
    "collapsed": false
   },
   "outputs": [],
   "source": [
    "ds11=ds10.drop(ds10.columns[[range(15,21)]],axis=1)"
   ]
  },
  {
   "cell_type": "code",
   "execution_count": 140,
   "metadata": {
    "collapsed": false
   },
   "outputs": [],
   "source": [
    "from sklearn.cross_validation import train_test_split\n",
    "y=ds13['PREPAID_Y_N']\n",
    "X_train,X_test,y_ytrain,y_test=train_test_split(ds13.index,y,test_size=0.4)"
   ]
  },
  {
   "cell_type": "code",
   "execution_count": 37,
   "metadata": {
    "collapsed": false
   },
   "outputs": [],
   "source": [
    "train1=ds11.ix[X_train]\n",
    "\n"
   ]
  },
  {
   "cell_type": "code",
   "execution_count": 36,
   "metadata": {
    "collapsed": false
   },
   "outputs": [
    {
     "name": "stdout",
     "output_type": "stream",
     "text": [
      "['FMX_CC_y', 'TPV_y', 'FMX_BC_y', 'FMX_ACH_y', 'TXN_y', 'FMX_BAL_y']\n"
     ]
    }
   ],
   "source": [
    "\n",
    "ID_col=['Cust_id']\n",
    "cat_cols=['cust_engagmnt_seg_key','Acquisition_channel','bhvrl_seg_type_key'\\\n",
    "         ,'activity_segment','clstr_num','engaged_byr_y_n','gender','mtl_sts_cd'\\\n",
    "         ,'income_cd','emailable_flag','Email_open_y_n_3m','Email_open_y_n_6m'\\\n",
    "         ,'Email_open_y_n_12m','CC_Added','Bank_Added','cust_age']\n",
    "target_col=['PREPAID_Y_N']\n",
    "num_cols=list(set(train1.columns)-set(ID_col)-set(cat_cols)-set(target_col))\n",
    "print num_cols"
   ]
  },
  {
   "cell_type": "code",
   "execution_count": 133,
   "metadata": {
    "collapsed": true
   },
   "outputs": [
    {
     "name": "stdout",
     "output_type": "stream",
     "text": [
      "<class 'pandas.core.frame.DataFrame'>\n",
      "Int64Index: 74978 entries, 0 to 74999\n",
      "Data columns (total 90 columns):\n",
      "Cust_id                               74978 non-null int64\n",
      "cust_engagmnt_seg_key                 74978 non-null int64\n",
      "Acquisition_channel                   74978 non-null object\n",
      "bhvrl_seg_type_key                    74978 non-null int64\n",
      "activity_segment                      74978 non-null object\n",
      "clstr_num                             74978 non-null object\n",
      "engaged_byr_y_n                       74978 non-null object\n",
      "PREPAID_Y_N                           74978 non-null int64\n",
      "gender                                74978 non-null object\n",
      "mtl_sts_cd                            74978 non-null object\n",
      "income_cd                             74978 non-null int64\n",
      "emailable_flag                        74978 non-null int64\n",
      "Email_open_y_n_3m                     74978 non-null int64\n",
      "Email_open_y_n_6m                     74978 non-null int64\n",
      "Email_open_y_n_12m                    74978 non-null int64\n",
      "TPV_y                                 74978 non-null float64\n",
      "TXN_y                                 74978 non-null float64\n",
      "FMX_CC_y                              74978 non-null float64\n",
      "FMX_BC_y                              74978 non-null float64\n",
      "FMX_ACH_y                             74978 non-null float64\n",
      "FMX_BAL_y                             74978 non-null float64\n",
      "CC_Added                              74978 non-null int64\n",
      "Bank_Added                            74978 non-null int64\n",
      "cust_age                              74978 non-null object\n",
      "cust_engagmnt_seg_key_6               74978 non-null float64\n",
      "cust_engagmnt_seg_key_7               74978 non-null float64\n",
      "cust_engagmnt_seg_key_8               74978 non-null float64\n",
      "cust_engagmnt_seg_key_9               74978 non-null float64\n",
      "cust_engagmnt_seg_key_10              74978 non-null float64\n",
      "cust_engagmnt_seg_key_11              74978 non-null float64\n",
      "cust_engagmnt_seg_key_12              74978 non-null float64\n",
      "Acquisition_channel_Natural Search    74978 non-null float64\n",
      "Acquisition_channel_Organic           74978 non-null float64\n",
      "Acquisition_channel_Paid Search       74978 non-null float64\n",
      "Acquisition_channel_Partners          74978 non-null float64\n",
      "bhvrl_seg_type_key_5                  74978 non-null float64\n",
      "bhvrl_seg_type_key_6                  74978 non-null float64\n",
      "bhvrl_seg_type_key_7                  74978 non-null float64\n",
      "bhvrl_seg_type_key_8                  74978 non-null float64\n",
      "bhvrl_seg_type_key_9                  74978 non-null float64\n",
      "bhvrl_seg_type_key_10                 74978 non-null float64\n",
      "bhvrl_seg_type_key_11                 74978 non-null float64\n",
      "bhvrl_seg_type_key_12                 74978 non-null float64\n",
      "bhvrl_seg_type_key_14                 74978 non-null float64\n",
      "bhvrl_seg_type_key_15                 74978 non-null float64\n",
      "activity_segment_Low Activity         74978 non-null float64\n",
      "activity_segment_Occasional Buyer     74978 non-null float64\n",
      "activity_segment_Top Buyer            74978 non-null float64\n",
      "activity_segment_Uber Top Buyer       74978 non-null float64\n",
      "clstr_num_Factor10                    74978 non-null float64\n",
      "clstr_num_Factor11                    74978 non-null float64\n",
      "clstr_num_Factor12                    74978 non-null float64\n",
      "clstr_num_Factor13                    74978 non-null float64\n",
      "clstr_num_Factor14                    74978 non-null float64\n",
      "clstr_num_Factor15                    74978 non-null float64\n",
      "clstr_num_Factor16                    74978 non-null float64\n",
      "clstr_num_Factor17                    74978 non-null float64\n",
      "clstr_num_Factor18                    74978 non-null float64\n",
      "clstr_num_Factor2                     74978 non-null float64\n",
      "clstr_num_Factor3                     74978 non-null float64\n",
      "clstr_num_Factor4                     74978 non-null float64\n",
      "clstr_num_Factor5                     74978 non-null float64\n",
      "clstr_num_Factor6                     74978 non-null float64\n",
      "clstr_num_Factor7                     74978 non-null float64\n",
      "clstr_num_Factor8                     74978 non-null float64\n",
      "clstr_num_Factor9                     74978 non-null float64\n",
      "clstr_num_Unknown                     74978 non-null float64\n",
      "engaged_byr_y_n_Y                     74978 non-null float64\n",
      "gender_M                              74978 non-null float64\n",
      "gender_U                              74978 non-null float64\n",
      "mtl_sts_cd_S                          74978 non-null float64\n",
      "mtl_sts_cd_U                          74978 non-null float64\n",
      "income_cd_1                           74978 non-null float64\n",
      "income_cd_2                           74978 non-null float64\n",
      "income_cd_3                           74978 non-null float64\n",
      "income_cd_4                           74978 non-null float64\n",
      "income_cd_5                           74978 non-null float64\n",
      "income_cd_6                           74978 non-null float64\n",
      "income_cd_7                           74978 non-null float64\n",
      "income_cd_8                           74978 non-null float64\n",
      "income_cd_9                           74978 non-null float64\n",
      "emailable_flag_1                      74978 non-null float64\n",
      "Email_open_y_n_3m_1                   74978 non-null float64\n",
      "Email_open_y_n_6m_1                   74978 non-null float64\n",
      "Email_open_y_n_12m_1                  74978 non-null float64\n",
      "CC_Added_1                            74978 non-null float64\n",
      "Bank_Added_1                          74978 non-null float64\n",
      "cust_age_NA                           74978 non-null float64\n",
      "cust_age_greater than 55              74978 non-null float64\n",
      "cust_age_less thank 30                74978 non-null float64\n",
      "dtypes: float64(72), int64(11), object(7)\n",
      "memory usage: 52.1+ MB\n",
      "None\n"
     ]
    }
   ],
   "source": [
    "ds12=ds11\n",
    "#print pd.get_dummies(ds12['cust_engagmnt_seg_key'],prefix='cust_engagmnt_seg_key').head()\n",
    "for col in cat_cols:\n",
    "    ds12=ds12.join(pd.get_dummies(ds12[col],prefix=col).ix[:,range(1,len(ds12[col].unique()))])\n",
    "print ds12.info()\n"
   ]
  },
  {
   "cell_type": "code",
   "execution_count": 134,
   "metadata": {
    "collapsed": true
   },
   "outputs": [
    {
     "name": "stdout",
     "output_type": "stream",
     "text": [
      "<class 'pandas.core.frame.DataFrame'>\n",
      "Int64Index: 74978 entries, 0 to 74999\n",
      "Data columns (total 75 columns):\n",
      "FMX_CC_y                              74978 non-null float64\n",
      "cust_engagmnt_seg_key_10              74978 non-null float64\n",
      "Acquisition_channel_Paid_Search       74978 non-null float64\n",
      "bhvrl_seg_type_key_14                 74978 non-null float64\n",
      "clstr_num_Unknown                     74978 non-null float64\n",
      "bhvrl_seg_type_key_10                 74978 non-null float64\n",
      "FMX_ACH_y                             74978 non-null float64\n",
      "bhvrl_seg_type_key_12                 74978 non-null float64\n",
      "TXN_y                                 74978 non-null float64\n",
      "Acquisition_channel_Natural_Search    74978 non-null float64\n",
      "clstr_num_Factor4                     74978 non-null float64\n",
      "clstr_num_Factor5                     74978 non-null float64\n",
      "clstr_num_Factor6                     74978 non-null float64\n",
      "clstr_num_Factor7                     74978 non-null float64\n",
      "clstr_num_Factor2                     74978 non-null float64\n",
      "clstr_num_Factor3                     74978 non-null float64\n",
      "cust_engagmnt_seg_key_12              74978 non-null float64\n",
      "cust_engagmnt_seg_key_11              74978 non-null float64\n",
      "gender_U                              74978 non-null float64\n",
      "clstr_num_Factor8                     74978 non-null float64\n",
      "clstr_num_Factor9                     74978 non-null float64\n",
      "activity_segment_Top_Buyer            74978 non-null float64\n",
      "cust_engagmnt_seg_key_8               74978 non-null float64\n",
      "gender_M                              74978 non-null float64\n",
      "cust_engagmnt_seg_key_9               74978 non-null float64\n",
      "clstr_num_Factor18                    74978 non-null float64\n",
      "Email_open_y_n_12m_1                  74978 non-null float64\n",
      "clstr_num_Factor16                    74978 non-null float64\n",
      "clstr_num_Factor17                    74978 non-null float64\n",
      "clstr_num_Factor14                    74978 non-null float64\n",
      "Email_open_y_n_6m_1                   74978 non-null float64\n",
      "Acquisition_channel_Organic           74978 non-null float64\n",
      "clstr_num_Factor13                    74978 non-null float64\n",
      "clstr_num_Factor10                    74978 non-null float64\n",
      "activity_segment_Uber_Top_Buyer       74978 non-null float64\n",
      "TPV_y                                 74978 non-null float64\n",
      "Acquisition_channel_Partners          74978 non-null float64\n",
      "cust_age_less_thank_30                74978 non-null float64\n",
      "PREPAID_Y_N                           74978 non-null int64\n",
      "cust_engagmnt_seg_key_7               74978 non-null float64\n",
      "FMX_BC_y                              74978 non-null float64\n",
      "CC_Added_1                            74978 non-null float64\n",
      "income_cd_9                           74978 non-null float64\n",
      "income_cd_8                           74978 non-null float64\n",
      "income_cd_7                           74978 non-null float64\n",
      "income_cd_6                           74978 non-null float64\n",
      "income_cd_5                           74978 non-null float64\n",
      "income_cd_4                           74978 non-null float64\n",
      "income_cd_3                           74978 non-null float64\n",
      "income_cd_2                           74978 non-null float64\n",
      "income_cd_1                           74978 non-null float64\n",
      "cust_age_greater_than_55              74978 non-null float64\n",
      "emailable_flag_1                      74978 non-null float64\n",
      "clstr_num_Factor15                    74978 non-null float64\n",
      "activity_segment_Low_Activity         74978 non-null float64\n",
      "Bank_Added_1                          74978 non-null float64\n",
      "bhvrl_seg_type_key_8                  74978 non-null float64\n",
      "bhvrl_seg_type_key_9                  74978 non-null float64\n",
      "bhvrl_seg_type_key_6                  74978 non-null float64\n",
      "bhvrl_seg_type_key_7                  74978 non-null float64\n",
      "mtl_sts_cd_U                          74978 non-null float64\n",
      "bhvrl_seg_type_key_5                  74978 non-null float64\n",
      "mtl_sts_cd_S                          74978 non-null float64\n",
      "clstr_num_Factor12                    74978 non-null float64\n",
      "engaged_byr_y_n_Y                     74978 non-null float64\n",
      "Email_open_y_n_3m_1                   74978 non-null float64\n",
      "cust_engagmnt_seg_key_6               74978 non-null float64\n",
      "Cust_id                               74978 non-null int64\n",
      "activity_segment_Occasional_Buyer     74978 non-null float64\n",
      "cust_age_NA                           74978 non-null float64\n",
      "bhvrl_seg_type_key_15                 74978 non-null float64\n",
      "clstr_num_Factor11                    74978 non-null float64\n",
      "FMX_BAL_y                             74978 non-null float64\n",
      "bhvrl_seg_type_key_11                 74978 non-null float64\n",
      "Intercept                             74978 non-null float64\n",
      "dtypes: float64(73), int64(2)\n",
      "memory usage: 43.5 MB\n"
     ]
    },
    {
     "name": "stderr",
     "output_type": "stream",
     "text": [
      "C:\\WinPython-64bit-2.7.10.2\\python-2.7.10.amd64\\lib\\site-packages\\IPython\\kernel\\__main__.py:4: SettingWithCopyWarning: \n",
      "A value is trying to be set on a copy of a slice from a DataFrame.\n",
      "Try using .loc[row_indexer,col_indexer] = value instead\n",
      "\n",
      "See the the caveats in the documentation: http://pandas.pydata.org/pandas-docs/stable/indexing.html#indexing-view-versus-copy\n"
     ]
    }
   ],
   "source": [
    "features=list(set(list(ds12.columns))-set(cat_cols))\n",
    "ds13=ds12[list(features)]\n",
    "ds13.columns=[col.replace(' ','_') for col in ds13.columns]\n",
    "ds13['Intercept']=1.0\n",
    "ds13.info()"
   ]
  },
  {
   "cell_type": "code",
   "execution_count": 141,
   "metadata": {
    "collapsed": false
   },
   "outputs": [],
   "source": [
    "train1=ds13.ix[X_train]\n",
    "test1=ds13.ix[X_test]"
   ]
  },
  {
   "cell_type": "code",
   "execution_count": 146,
   "metadata": {
    "collapsed": false
   },
   "outputs": [
    {
     "ename": "NameError",
     "evalue": "name 'importancees' is not defined",
     "output_type": "error",
     "traceback": [
      "\u001b[1;31m---------------------------------------------------------------------------\u001b[0m",
      "\u001b[1;31mNameError\u001b[0m                                 Traceback (most recent call last)",
      "\u001b[1;32m<ipython-input-146-9fb3d2fb646d>\u001b[0m in \u001b[0;36m<module>\u001b[1;34m()\u001b[0m\n\u001b[0;32m     22\u001b[0m \u001b[0mforest\u001b[0m\u001b[1;33m.\u001b[0m\u001b[0mfit\u001b[0m\u001b[1;33m(\u001b[0m\u001b[0mX\u001b[0m\u001b[1;33m,\u001b[0m \u001b[0my\u001b[0m\u001b[1;33m)\u001b[0m\u001b[1;33m\u001b[0m\u001b[0m\n\u001b[0;32m     23\u001b[0m \u001b[0mimportances\u001b[0m \u001b[1;33m=\u001b[0m \u001b[0mforest\u001b[0m\u001b[1;33m.\u001b[0m\u001b[0mfeature_importances_\u001b[0m\u001b[1;33m\u001b[0m\u001b[0m\n\u001b[1;32m---> 24\u001b[1;33m \u001b[1;32mprint\u001b[0m \u001b[0mimportancees\u001b[0m\u001b[1;33m\u001b[0m\u001b[0m\n\u001b[0m",
      "\u001b[1;31mNameError\u001b[0m: name 'importancees' is not defined"
     ]
    }
   ],
   "source": [
    "import numpy as np\n",
    "import matplotlib.pyplot as plt\n",
    "\n",
    "from sklearn.datasets import make_classification\n",
    "from sklearn.ensemble import ExtraTreesClassifier\n",
    "\n",
    "# Build a classification task using 3 informative features\n",
    "X, y = make_classification(n_samples=1000,\n",
    "                           n_features=10,\n",
    "                           n_informative=3,\n",
    "                           n_redundant=0,\n",
    "                           n_repeated=0,\n",
    "                           n_classes=2,\n",
    "                           random_state=0,\n",
    "                           shuffle=False)\n",
    "\n",
    "# Build a forest and compute the feature importances\n",
    "forest = ExtraTreesClassifier(n_estimators=250,\n",
    "                              random_state=0)\n",
    "X=train1[list(set(list(ds13.columns))-set(ID_col)-set(target_col))].values\n",
    "y=train1['PREPAID_Y_N'].values\n",
    "forest.fit(X, y)\n",
    "importances = forest.feature_importances_\n",
    "indices = np.argsort(importances)[::-1]"
   ]
  },
  {
   "cell_type": "code",
   "execution_count": 156,
   "metadata": {
    "collapsed": false
   },
   "outputs": [
    {
     "name": "stdout",
     "output_type": "stream",
     "text": [
      "[ 0.05162271  0.01225064  0.00444151  0.0080737   0.00265914  0.00667788\n",
      "  0.04323134  0.00764025  0.04817515  0.01312945  0.0071635   0.00635192\n",
      "  0.00850047  0.00668247  0.01035833  0.00589643  0.00276183  0.00498231\n",
      "  0.00543171  0.00769911  0.00653079  0.          0.00880454  0.00283281\n",
      "  0.01464272  0.00520691  0.00426869  0.00796118  0.00500495  0.01214382\n",
      "  0.00713648  0.01115831  0.00378262  0.00736347  0.05395502  0.00050475\n",
      "  0.02045302  0.00905388  0.00988499  0.01473045  0.00380053  0.03252387\n",
      "  0.00818308  0.00760831  0.01004633  0.01359871  0.01039735  0.0095296\n",
      "  0.00875208  0.00700507  0.00758148  0.00866669  0.01347365  0.00609423\n",
      "  0.01486092  0.00924017  0.0048008   0.02127411  0.00684847  0.00156694\n",
      "  0.0027722   0.02176743  0.01009557  0.00877294  0.0180017   0.01783798\n",
      "  0.00896152  0.01504933  0.00153393  0.00556942  0.18705587  0.01946094\n",
      "  0.00811945]\n",
      "1. feature 70 (0.187056)\n",
      "2. feature 34 (0.053955)\n",
      "3. feature 0 (0.051623)\n",
      "4. feature 8 (0.048175)\n",
      "5. feature 6 (0.043231)\n",
      "6. feature 41 (0.032524)\n",
      "7. feature 61 (0.021767)\n",
      "8. feature 57 (0.021274)\n",
      "9. feature 36 (0.020453)\n",
      "10. feature 71 (0.019461)\n",
      "['FMX_BAL_y', 'TPV_y', 'FMX_CC_y', 'TXN_y', 'FMX_ACH_y', 'CC_Added_1', 'mtl_sts_cd_S', 'bhvrl_seg_type_key_6', 'Bank_Added_1', 'gender_M', 'Email_open_y_n_3m_1', 'cust_age_greater_than_55', 'Email_open_y_n_6m_1', 'cust_age_less_thank_30', 'FMX_BC_y', 'Email_open_y_n_12m_1', 'income_cd_6', 'emailable_flag_1', 'activity_segment_Occasional_Buyer', 'gender_U']\n"
     ]
    }
   ],
   "source": [
    "print importances\n",
    "for f in range(10):\n",
    "    print(\"%d. feature %d (%f)\" % (f + 1, indices[f], importances[indices[f]]))\n",
    "all_features=list(train1[list(set(list(ds13.columns))-set(ID_col)-set(target_col))].columns)\n",
    "imp_features=[all_features[indices[f]] for f in range(20)]\n",
    "print imp_features\n"
   ]
  },
  {
   "cell_type": "code",
   "execution_count": 157,
   "metadata": {
    "collapsed": true
   },
   "outputs": [
    {
     "name": "stdout",
     "output_type": "stream",
     "text": [
      "Optimization terminated successfully.\n",
      "         Current function value: 0.424679\n",
      "         Iterations 7\n",
      "                           Logit Regression Results                           \n",
      "==============================================================================\n",
      "Dep. Variable:            PREPAID_Y_N   No. Observations:                44986\n",
      "Model:                          Logit   Df Residuals:                    44966\n",
      "Method:                           MLE   Df Model:                           19\n",
      "Date:                Sun, 11 Oct 2015   Pseudo R-squ.:                  0.1526\n",
      "Time:                        13:59:31   Log-Likelihood:                -19105.\n",
      "converged:                       True   LL-Null:                       -22544.\n",
      "                                        LLR p-value:                     0.000\n",
      "=====================================================================================================\n",
      "                                        coef    std err          z      P>|z|      [95.0% Conf. Int.]\n",
      "-----------------------------------------------------------------------------------------------------\n",
      "FMX_BAL_y                            -0.0018      0.001     -2.318      0.020        -0.003    -0.000\n",
      "TPV_y                                 0.0035      0.001      4.453      0.000         0.002     0.005\n",
      "FMX_CC_y                             -0.0037      0.001     -4.688      0.000        -0.005    -0.002\n",
      "TXN_y                                 0.0070      0.001     13.612      0.000         0.006     0.008\n",
      "FMX_ACH_y                            -0.0039      0.001     -4.997      0.000        -0.005    -0.002\n",
      "CC_Added_1                           -1.7324      0.030    -57.082      0.000        -1.792    -1.673\n",
      "mtl_sts_cd_S                          0.0720      0.027      2.714      0.007         0.020     0.124\n",
      "bhvrl_seg_type_key_6                  0.6895      0.044     15.509      0.000         0.602     0.777\n",
      "Bank_Added_1                          0.0346      0.027      1.293      0.196        -0.018     0.087\n",
      "gender_M                              0.0758      0.028      2.722      0.006         0.021     0.130\n",
      "Email_open_y_n_3m_1                  -0.0043      0.044     -0.098      0.922        -0.090     0.081\n",
      "cust_age_greater_than_55             -0.3343      0.031    -10.629      0.000        -0.396    -0.273\n",
      "Email_open_y_n_6m_1                  -0.0422      0.058     -0.728      0.467        -0.156     0.071\n",
      "cust_age_less_thank_30                0.0607      0.038      1.610      0.107        -0.013     0.135\n",
      "FMX_BC_y                             -0.0036      0.001     -4.555      0.000        -0.005    -0.002\n",
      "Email_open_y_n_12m_1                 -0.2672      0.048     -5.582      0.000        -0.361    -0.173\n",
      "income_cd_6                          -0.2244      0.031     -7.202      0.000        -0.286    -0.163\n",
      "emailable_flag_1                      0.1565      0.028      5.530      0.000         0.101     0.212\n",
      "activity_segment_Occasional_Buyer     0.0099      0.029      0.346      0.729        -0.046     0.066\n",
      "gender_U                              0.2575      0.036      7.106      0.000         0.186     0.328\n",
      "=====================================================================================================\n"
     ]
    }
   ],
   "source": [
    "import statsmodels.api as sm\n",
    "logit=sm.Logit(train1['PREPAID_Y_N'],train1[imp_features])\n",
    "result=logit.fit()\n",
    "print result.summary()"
   ]
  },
  {
   "cell_type": "code",
   "execution_count": 160,
   "metadata": {
    "collapsed": false
   },
   "outputs": [
    {
     "name": "stdout",
     "output_type": "stream",
     "text": [
      "0.82865780465\n",
      "0.830854894639\n"
     ]
    }
   ],
   "source": [
    "from sklearn.linear_model import LogisticRegression\n",
    "model=LogisticRegression()\n",
    "model=model.fit(train1[imp_features].values,train1['PREPAID_Y_N'].values)\n",
    "print model.score(train1[imp_features].values,train1['PREPAID_Y_N'].values)\n",
    "print model.score(test1[imp_features].values,test1['PREPAID_Y_N'].values)"
   ]
  },
  {
   "cell_type": "code",
   "execution_count": 177,
   "metadata": {
    "collapsed": false
   },
   "outputs": [
    {
     "name": "stdout",
     "output_type": "stream",
     "text": [
      "[ 0.82933333  0.83374083  0.82573905  0.82596132  0.8246277   0.82881281\n",
      "  0.83081369  0.83081369  0.82881281  0.82814584]\n",
      "0.828680108146\n"
     ]
    }
   ],
   "source": [
    "from sklearn.cross_validation import cross_val_score\n",
    "scores = cross_val_score(LogisticRegression(), train1[imp_features].values, train1['PREPAID_Y_N'].values, scoring='accuracy', cv=10)\n",
    "print scores\n",
    "print scores.mean()"
   ]
  },
  {
   "cell_type": "code",
   "execution_count": 217,
   "metadata": {
    "collapsed": false
   },
   "outputs": [
    {
     "name": "stderr",
     "output_type": "stream",
     "text": [
      "C:\\WinPython-64bit-2.7.10.2\\python-2.7.10.amd64\\lib\\site-packages\\IPython\\kernel\\__main__.py:2: SettingWithCopyWarning: \n",
      "A value is trying to be set on a copy of a slice from a DataFrame.\n",
      "Try using .loc[row_indexer,col_indexer] = value instead\n",
      "\n",
      "See the the caveats in the documentation: http://pandas.pydata.org/pandas-docs/stable/indexing.html#indexing-view-versus-copy\n",
      "  from IPython.kernel.zmq import kernelapp as app\n",
      "C:\\WinPython-64bit-2.7.10.2\\python-2.7.10.amd64\\lib\\site-packages\\IPython\\kernel\\__main__.py:3: SettingWithCopyWarning: \n",
      "A value is trying to be set on a copy of a slice from a DataFrame.\n",
      "Try using .loc[row_indexer,col_indexer] = value instead\n",
      "\n",
      "See the the caveats in the documentation: http://pandas.pydata.org/pandas-docs/stable/indexing.html#indexing-view-versus-copy\n",
      "  app.launch_new_instance()\n",
      "C:\\WinPython-64bit-2.7.10.2\\python-2.7.10.amd64\\lib\\site-packages\\IPython\\kernel\\__main__.py:8: SettingWithCopyWarning: \n",
      "A value is trying to be set on a copy of a slice from a DataFrame.\n",
      "Try using .loc[row_indexer,col_indexer] = value instead\n",
      "\n",
      "See the the caveats in the documentation: http://pandas.pydata.org/pandas-docs/stable/indexing.html#indexing-view-versus-copy\n",
      "C:\\WinPython-64bit-2.7.10.2\\python-2.7.10.amd64\\lib\\site-packages\\IPython\\kernel\\__main__.py:9: SettingWithCopyWarning: \n",
      "A value is trying to be set on a copy of a slice from a DataFrame.\n",
      "Try using .loc[row_indexer,col_indexer] = value instead\n",
      "\n",
      "See the the caveats in the documentation: http://pandas.pydata.org/pandas-docs/stable/indexing.html#indexing-view-versus-copy\n"
     ]
    }
   ],
   "source": [
    "outTest= test1[['PREPAID_Y_N','Cust_id']]\n",
    "outTest['predicted']=pd.Series(model.predict(test1[imp_features].values),index=outTest.index)\n",
    "outTest['predProb']=pd.Series([pr[1] for pr in model.predict_proba(test1[imp_features].values)],index=outTest.index)\n",
    "outTest.to_excel('C:\\\\WinPython-64bit-2.7.10.2\\\\work\\\\AdvAna\\\\TestResult.xlsx')\n",
    "\n",
    "\n",
    "outTrain= train1[['PREPAID_Y_N','Cust_id']]\n",
    "outTrain['predicted']=pd.Series(model.predict(train1[imp_features].values),index=outTrain.index)\n",
    "outTrain['predProb']=pd.Series([pr[1] for pr in model.predict_proba(train1[imp_features].values)],index=outTrain.index)\n",
    "outTrain.to_excel('C:\\\\WinPython-64bit-2.7.10.2\\\\work\\\\AdvAna\\\\TrainResult.xlsx')"
   ]
  },
  {
   "cell_type": "code",
   "execution_count": 182,
   "metadata": {
    "collapsed": false
   },
   "outputs": [
    {
     "data": {
      "text/plain": [
       "array([[23488,   554],\n",
       "       [ 4519,  1431]])"
      ]
     },
     "execution_count": 182,
     "metadata": {},
     "output_type": "execute_result"
    }
   ],
   "source": [
    "from sklearn import metrics\n",
    "metrics.confusion_matrix(test1['PREPAID_Y_N'].values,model.predict(test1[imp_features].values))"
   ]
  },
  {
   "cell_type": "code",
   "execution_count": 214,
   "metadata": {
    "collapsed": false
   },
   "outputs": [
    {
     "name": "stdout",
     "output_type": "stream",
     "text": [
      "0.808387747433\n"
     ]
    },
    {
     "data": {
      "text/plain": [
       "[<matplotlib.lines.Line2D at 0x3931f2b0>]"
      ]
     },
     "execution_count": 214,
     "metadata": {},
     "output_type": "execute_result"
    },
    {
     "data": {
      "image/png": "[encoded data removed]",
      "text/plain": [
       "<matplotlib.figure.Figure at 0x45152e10>"
      ]
     },
     "metadata": {},
     "output_type": "display_data"
    }
   ],
   "source": [
    "from sklearn import metrics\n",
    "import matplotlib.pyplot as plt\n",
    "status =model.predict_proba(train1[imp_features].values)\n",
    "fpr, tpr, _ = metrics.roc_curve(train1['PREPAID_Y_N'].values, status[:,1])\n",
    "roc_auc = metrics.auc(fpr, tpr)\n",
    "print roc_auc\n",
    "plt.figure()\n",
    "plt.plot(fpr,tpr)"
   ]
  },
  {
   "cell_type": "code",
   "execution_count": 176,
   "metadata": {
    "collapsed": false
   },
   "outputs": [
    {
     "data": {
      "text/plain": [
       "array([[ 0.79734185,  0.20265815],\n",
       "       [ 0.86380913,  0.13619087],\n",
       "       [ 0.91473402,  0.08526598],\n",
       "       ..., \n",
       "       [ 0.41485223,  0.58514777],\n",
       "       [ 0.8355772 ,  0.1644228 ],\n",
       "       [ 0.83977898,  0.16022102]])"
      ]
     },
     "execution_count": 176,
     "metadata": {},
     "output_type": "execute_result"
    }
   ],
   "source": [
    "model.predict_proba(test1[imp_features].values)"
   ]
  },
  {
   "cell_type": "code",
   "execution_count": 51,
   "metadata": {
    "collapsed": false
   },
   "outputs": [
    {
     "data": {
      "text/plain": [
       "array([[ 0.85540335,  0.14459665],\n",
       "       [ 0.92592116,  0.07407884],\n",
       "       [ 0.84805431,  0.15194569],\n",
       "       ..., \n",
       "       [ 0.86948375,  0.13051625],\n",
       "       [ 0.7492527 ,  0.2507473 ],\n",
       "       [ 0.92573235,  0.07426765]])"
      ]
     },
     "execution_count": 51,
     "metadata": {},
     "output_type": "execute_result"
    }
   ],
   "source": [
    "model.predict_proba(x_test)"
   ]
  },
  {
   "cell_type": "code",
   "execution_count": 52,
   "metadata": {
    "collapsed": true
   },
   "outputs": [
    {
     "name": "stdout",
     "output_type": "stream",
     "text": [
      "0.83282208589\n"
     ]
    }
   ],
   "source": [
    "from sklearn import metrics\n",
    "print metrics.accuracy_score(y_test, model.predict(x_test))"
   ]
  },
  {
   "cell_type": "code",
   "execution_count": 19,
   "metadata": {
    "collapsed": false
   },
   "outputs": [
    {
     "name": "stdout",
     "output_type": "stream",
     "text": [
      "<class 'pandas.core.frame.DataFrame'>\n",
      "Int64Index: 44986 entries, 63967 to 55834\n",
      "Data columns (total 24 columns):\n",
      "Cust_id                  44986 non-null int64\n",
      "cust_engagmnt_seg_key    44986 non-null int64\n",
      "Acquisition_channel      44986 non-null object\n",
      "bhvrl_seg_type_key       44986 non-null int64\n",
      "activity_segment         44986 non-null object\n",
      "clstr_num                44986 non-null object\n",
      "engaged_byr_y_n          44986 non-null object\n",
      "PREPAID_Y_N              44986 non-null int32\n",
      "gender                   44986 non-null object\n",
      "mtl_sts_cd               44986 non-null object\n",
      "income_cd                44986 non-null int64\n",
      "emailable_flag           44986 non-null int64\n",
      "Email_open_y_n_3m        44986 non-null int64\n",
      "Email_open_y_n_6m        44986 non-null int64\n",
      "Email_open_y_n_12m       44986 non-null int64\n",
      "TPV_y                    44986 non-null float64\n",
      "TXN_y                    44986 non-null float64\n",
      "FMX_CC_y                 44986 non-null float64\n",
      "FMX_BC_y                 44986 non-null float64\n",
      "FMX_ACH_y                44986 non-null float64\n",
      "FMX_BAL_y                44986 non-null float64\n",
      "CC_Added                 44986 non-null int64\n",
      "Bank_Added               44986 non-null int32\n",
      "cust_age                 44986 non-null object\n",
      "dtypes: float64(6), int32(2), int64(9), object(7)\n",
      "memory usage: 8.2+ MB\n"
     ]
    }
   ],
   "source": [
    "train1['PREPAID_Y_N']=train1['PREPAID_Y_N'].astype(\"int\")\n",
    "train1['Bank_Added']=train1['Bank_Added'].astype(\"int\")\n",
    "train1.info()"
   ]
  },
  {
   "cell_type": "code",
   "execution_count": 21,
   "metadata": {
    "collapsed": false
   },
   "outputs": [
    {
     "data": {
      "text/plain": [
       "Cust_id                  False\n",
       "cust_engagmnt_seg_key    False\n",
       "Acquisition_channel      False\n",
       "bhvrl_seg_type_key       False\n",
       "activity_segment         False\n",
       "clstr_num                False\n",
       "engaged_byr_y_n          False\n",
       "PREPAID_Y_N              False\n",
       "gender                   False\n",
       "mtl_sts_cd               False\n",
       "income_cd                False\n",
       "emailable_flag           False\n",
       "Email_open_y_n_3m        False\n",
       "Email_open_y_n_6m        False\n",
       "Email_open_y_n_12m       False\n",
       "TPV_y                    False\n",
       "TXN_y                    False\n",
       "FMX_CC_y                 False\n",
       "FMX_BC_y                 False\n",
       "FMX_ACH_y                False\n",
       "FMX_BAL_y                False\n",
       "CC_Added                 False\n",
       "Bank_Added               False\n",
       "cust_age                 False\n",
       "dtype: bool"
      ]
     },
     "execution_count": 21,
     "metadata": {},
     "output_type": "execute_result"
    }
   ],
   "source": [
    "train1.isnull().any()"
   ]
  },
  {
   "cell_type": "code",
   "execution_count": 137,
   "metadata": {
    "collapsed": true
   },
   "outputs": [
    {
     "ename": "ValueError",
     "evalue": "For numerical factors, num_columns must be an int",
     "output_type": "error",
     "traceback": [
      "\u001b[1;31m---------------------------------------------------------------------------\u001b[0m",
      "\u001b[1;31mValueError\u001b[0m                                Traceback (most recent call last)",
      "\u001b[1;32m<ipython-input-137-293affd29aa7>\u001b[0m in \u001b[0;36m<module>\u001b[1;34m()\u001b[0m\n\u001b[0;32m      1\u001b[0m \u001b[1;32mfrom\u001b[0m \u001b[0mpatsy\u001b[0m \u001b[1;32mimport\u001b[0m \u001b[0mdmatrices\u001b[0m\u001b[1;33m\u001b[0m\u001b[0m\n\u001b[1;32m----> 2\u001b[1;33m \u001b[0my\u001b[0m\u001b[1;33m,\u001b[0m\u001b[0mX\u001b[0m\u001b[1;33m=\u001b[0m\u001b[0mdmatrices\u001b[0m\u001b[1;33m(\u001b[0m\u001b[1;34m'PREPAID_Y_N~C(cust_engagmnt_seg_key)+C(Acquisition_channel)              +C(bhvrl_seg_type_key)+C(activity_segment)+C(clstr_num)              +C(engaged_byr_y_n)+C(gender)+C(mtl_sts_cd)+C(income_cd)              +C(emailable_flag)+C(Email_open_y_n_3m)+C(Email_open_y_n_6m)+C(Email_open_y_n_12m)              +C(CC_Added)+C(Bank_Added)+C(cust_age)+TPV_y+TXN_y+FMX_CC_y              +FMX_BC_y'\u001b[0m\u001b[1;33m,\u001b[0m\u001b[0mtrain1\u001b[0m\u001b[1;33m,\u001b[0m\u001b[0mreturn_type\u001b[0m\u001b[1;33m=\u001b[0m\u001b[1;34m'dataframe'\u001b[0m\u001b[1;33m)\u001b[0m\u001b[1;33m\u001b[0m\u001b[0m\n\u001b[0m\u001b[0;32m      3\u001b[0m \u001b[1;32mprint\u001b[0m \u001b[0mX\u001b[0m\u001b[1;33m.\u001b[0m\u001b[0mcolumns\u001b[0m\u001b[1;33m\u001b[0m\u001b[0m\n",
      "\u001b[1;32mC:\\WinPython-64bit-2.7.10.2\\python-2.7.10.amd64\\lib\\site-packages\\patsy\\highlevel.py\u001b[0m in \u001b[0;36mdmatrices\u001b[1;34m(formula_like, data, eval_env, NA_action, return_type)\u001b[0m\n\u001b[0;32m    295\u001b[0m     \u001b[0meval_env\u001b[0m \u001b[1;33m=\u001b[0m \u001b[0mEvalEnvironment\u001b[0m\u001b[1;33m.\u001b[0m\u001b[0mcapture\u001b[0m\u001b[1;33m(\u001b[0m\u001b[0meval_env\u001b[0m\u001b[1;33m,\u001b[0m \u001b[0mreference\u001b[0m\u001b[1;33m=\u001b[0m\u001b[1;36m1\u001b[0m\u001b[1;33m)\u001b[0m\u001b[1;33m\u001b[0m\u001b[0m\n\u001b[0;32m    296\u001b[0m     (lhs, rhs) = _do_highlevel_design(formula_like, data, eval_env,\n\u001b[1;32m--> 297\u001b[1;33m                                       NA_action, return_type)\n\u001b[0m\u001b[0;32m    298\u001b[0m     \u001b[1;32mif\u001b[0m \u001b[0mlhs\u001b[0m\u001b[1;33m.\u001b[0m\u001b[0mshape\u001b[0m\u001b[1;33m[\u001b[0m\u001b[1;36m1\u001b[0m\u001b[1;33m]\u001b[0m \u001b[1;33m==\u001b[0m \u001b[1;36m0\u001b[0m\u001b[1;33m:\u001b[0m\u001b[1;33m\u001b[0m\u001b[0m\n\u001b[0;32m    299\u001b[0m         \u001b[1;32mraise\u001b[0m \u001b[0mPatsyError\u001b[0m\u001b[1;33m(\u001b[0m\u001b[1;34m\"model is missing required outcome variables\"\u001b[0m\u001b[1;33m)\u001b[0m\u001b[1;33m\u001b[0m\u001b[0m\n",
      "\u001b[1;32mC:\\WinPython-64bit-2.7.10.2\\python-2.7.10.amd64\\lib\\site-packages\\patsy\\highlevel.py\u001b[0m in \u001b[0;36m_do_highlevel_design\u001b[1;34m(formula_like, data, eval_env, NA_action, return_type)\u001b[0m\n\u001b[0;32m    150\u001b[0m         \u001b[1;32mreturn\u001b[0m \u001b[0miter\u001b[0m\u001b[1;33m(\u001b[0m\u001b[1;33m[\u001b[0m\u001b[0mdata\u001b[0m\u001b[1;33m]\u001b[0m\u001b[1;33m)\u001b[0m\u001b[1;33m\u001b[0m\u001b[0m\n\u001b[0;32m    151\u001b[0m     design_infos = _try_incr_builders(formula_like, data_iter_maker, eval_env,\n\u001b[1;32m--> 152\u001b[1;33m                                       NA_action)\n\u001b[0m\u001b[0;32m    153\u001b[0m     \u001b[1;32mif\u001b[0m \u001b[0mdesign_infos\u001b[0m \u001b[1;32mis\u001b[0m \u001b[1;32mnot\u001b[0m \u001b[0mNone\u001b[0m\u001b[1;33m:\u001b[0m\u001b[1;33m\u001b[0m\u001b[0m\n\u001b[0;32m    154\u001b[0m         return build_design_matrices(design_infos, data,\n",
      "\u001b[1;32mC:\\WinPython-64bit-2.7.10.2\\python-2.7.10.amd64\\lib\\site-packages\\patsy\\highlevel.py\u001b[0m in \u001b[0;36m_try_incr_builders\u001b[1;34m(formula_like, data_iter_maker, eval_env, NA_action)\u001b[0m\n\u001b[0;32m     55\u001b[0m                                       \u001b[0mdata_iter_maker\u001b[0m\u001b[1;33m,\u001b[0m\u001b[1;33m\u001b[0m\u001b[0m\n\u001b[0;32m     56\u001b[0m                                       \u001b[0meval_env\u001b[0m\u001b[1;33m,\u001b[0m\u001b[1;33m\u001b[0m\u001b[0m\n\u001b[1;32m---> 57\u001b[1;33m                                       NA_action)\n\u001b[0m\u001b[0;32m     58\u001b[0m     \u001b[1;32melse\u001b[0m\u001b[1;33m:\u001b[0m\u001b[1;33m\u001b[0m\u001b[0m\n\u001b[0;32m     59\u001b[0m         \u001b[1;32mreturn\u001b[0m \u001b[0mNone\u001b[0m\u001b[1;33m\u001b[0m\u001b[0m\n",
      "\u001b[1;32mC:\\WinPython-64bit-2.7.10.2\\python-2.7.10.amd64\\lib\\site-packages\\patsy\\build.py\u001b[0m in \u001b[0;36mdesign_matrix_builders\u001b[1;34m(termlists, data_iter_maker, eval_env, NA_action)\u001b[0m\n\u001b[0;32m    704\u001b[0m                             \u001b[0mfactor_states\u001b[0m\u001b[1;33m[\u001b[0m\u001b[0mfactor\u001b[0m\u001b[1;33m]\u001b[0m\u001b[1;33m,\u001b[0m\u001b[1;33m\u001b[0m\u001b[0m\n\u001b[0;32m    705\u001b[0m                             \u001b[0mnum_columns\u001b[0m\u001b[1;33m=\u001b[0m\u001b[0mnum_column_counts\u001b[0m\u001b[1;33m[\u001b[0m\u001b[0mfactor\u001b[0m\u001b[1;33m]\u001b[0m\u001b[1;33m,\u001b[0m\u001b[1;33m\u001b[0m\u001b[0m\n\u001b[1;32m--> 706\u001b[1;33m                             categories=None)\n\u001b[0m\u001b[0;32m    707\u001b[0m         \u001b[1;32melse\u001b[0m\u001b[1;33m:\u001b[0m\u001b[1;33m\u001b[0m\u001b[0m\n\u001b[0;32m    708\u001b[0m             \u001b[1;32massert\u001b[0m \u001b[0mfactor\u001b[0m \u001b[1;32min\u001b[0m \u001b[0mcat_levels_contrasts\u001b[0m\u001b[1;33m\u001b[0m\u001b[0m\n",
      "\u001b[1;32mC:\\WinPython-64bit-2.7.10.2\\python-2.7.10.amd64\\lib\\site-packages\\patsy\\design_info.py\u001b[0m in \u001b[0;36m__init__\u001b[1;34m(self, factor, type, state, num_columns, categories)\u001b[0m\n\u001b[0;32m     86\u001b[0m         \u001b[1;32mif\u001b[0m \u001b[0mself\u001b[0m\u001b[1;33m.\u001b[0m\u001b[0mtype\u001b[0m \u001b[1;33m==\u001b[0m \u001b[1;34m\"numerical\"\u001b[0m\u001b[1;33m:\u001b[0m\u001b[1;33m\u001b[0m\u001b[0m\n\u001b[0;32m     87\u001b[0m             \u001b[1;32mif\u001b[0m \u001b[1;32mnot\u001b[0m \u001b[0misinstance\u001b[0m\u001b[1;33m(\u001b[0m\u001b[0mnum_columns\u001b[0m\u001b[1;33m,\u001b[0m \u001b[0mint\u001b[0m\u001b[1;33m)\u001b[0m\u001b[1;33m:\u001b[0m\u001b[1;33m\u001b[0m\u001b[0m\n\u001b[1;32m---> 88\u001b[1;33m                 raise ValueError(\"For numerical factors, num_columns \"\n\u001b[0m\u001b[0;32m     89\u001b[0m                                  \"must be an int\")\n\u001b[0;32m     90\u001b[0m             \u001b[1;32mif\u001b[0m \u001b[0mcategories\u001b[0m \u001b[1;32mis\u001b[0m \u001b[1;32mnot\u001b[0m \u001b[0mNone\u001b[0m\u001b[1;33m:\u001b[0m\u001b[1;33m\u001b[0m\u001b[0m\n",
      "\u001b[1;31mValueError\u001b[0m: For numerical factors, num_columns must be an int"
     ]
    }
   ],
   "source": [
    "from patsy import dmatrices\n",
    "y,X=dmatrices('PREPAID_Y_N~C(cust_engagmnt_seg_key)+C(Acquisition_channel)\\\n",
    "              +C(bhvrl_seg_type_key)+C(activity_segment)+C(clstr_num)\\\n",
    "              +C(engaged_byr_y_n)+C(gender)+C(mtl_sts_cd)+C(income_cd)\\\n",
    "              +C(emailable_flag)+C(Email_open_y_n_3m)+C(Email_open_y_n_6m)+C(Email_open_y_n_12m)\\\n",
    "              +C(CC_Added)+C(Bank_Added)+C(cust_age)+TPV_y+TXN_y+FMX_CC_y\\\n",
    "              +FMX_BC_y',train1,return_type='dataframe')\n",
    "print X.columns"
   ]
  },
  {
   "cell_type": "code",
   "execution_count": 130,
   "metadata": {
    "collapsed": true
   },
   "outputs": [
    {
     "data": {
      "text/plain": [
       "Cust_id\n",
       "2138053927267259561    1\n",
       "1153611310959672655    0\n",
       "1527716133818506699    1\n",
       "1734025596409684745    0\n",
       "1464402850882574781    0\n",
       "2161500817158043838    0\n",
       "1408094626582109613    0\n",
       "1730860034452992375    0\n",
       "1242461055918067605    0\n",
       "2059436750813483078    0\n",
       "1827389268951835280    0\n",
       "1272400790360026685    0\n",
       "1879617958997057806    1\n",
       "1877433678364568462    0\n",
       "1717422870287862059    0\n",
       "1166545861387565599    0\n",
       "1641649373197731459    0\n",
       "2097530259310263863    0\n",
       "2294905925056100072    1\n",
       "1244522629598262331    1\n",
       "2128589223746220772    0\n",
       "1564029217181133124    0\n",
       "2089048834147497837    0\n",
       "1739290057131254806    0\n",
       "1282447196005824163    0\n",
       "2081942297465779060    0\n",
       "1838441841983610902    0\n",
       "1986264621872886059    1\n",
       "1539438625067535886    0\n",
       "1712791607697948318    0\n",
       "                      ..\n",
       "1449645143013960715    1\n",
       "1651637011055950045    1\n",
       "1515590042661308944    0\n",
       "1709820468121249615    0\n",
       "2086698061182840578    0\n",
       "1626576471058497150    0\n",
       "1683416697174182700    1\n",
       "2241383003806837323    0\n",
       "1379624269328225564    1\n",
       "1374054082165321047    1\n",
       "1861914682659413482    0\n",
       "1852583370349381836    1\n",
       "2068706961000664316    0\n",
       "1177100622180347122    0\n",
       "1804408336418304843    1\n",
       "1694479737827382423    0\n",
       "1157428245817130075    1\n",
       "1860324211171591314    0\n",
       "2254862232693972688    0\n",
       "1746446384617217986    0\n",
       "1943881046065729266    0\n",
       "2104245050837601407    0\n",
       "1729185759043619826    0\n",
       "1874412521083313973    1\n",
       "2288328843704378906    0\n",
       "1773213544644512424    0\n",
       "1973317489035006293    1\n",
       "1488586866998547669    0\n",
       "2272132527328213868    0\n",
       "2292958298347495737    0\n",
       "Name: PREPAID_Y_N, dtype: int64"
      ]
     },
     "execution_count": 130,
     "metadata": {},
     "output_type": "execute_result"
    }
   ],
   "source": []
  }
 ],
 "metadata": {
  "kernelspec": {
   "display_name": "Python 3",
   "language": "python",
   "name": "python3"
  },
  "language_info": {
   "codemirror_mode": {
    "name": "ipython",
    "version": 3
   },
   "file_extension": ".py",
   "mimetype": "text/x-python",
   "name": "python",
   "nbconvert_exporter": "python",
   "pygments_lexer": "ipython3",
   "version": "3.4.4"
  }
 },
 "nbformat": 4,
 "nbformat_minor": 0
}
