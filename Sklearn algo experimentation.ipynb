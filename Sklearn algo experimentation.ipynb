{
 "cells": [
  {
   "cell_type": "markdown",
   "metadata": {
    "collapsed": false
   },
   "source": []
  },
  {
   "cell_type": "code",
   "execution_count": 1,
   "metadata": {
    "collapsed": true
   },
   "outputs": [],
   "source": [
    "%matplotlib inline\n",
    "\n",
    "import numpy as np\n",
    "import pandas as pd\n",
    "import matplotlib.pyplot as plt\n",
    "from random import randrange"
   ]
  },
  {
   "cell_type": "code",
   "execution_count": 47,
   "metadata": {
    "collapsed": false
   },
   "outputs": [
    {
     "name": "stdout",
     "output_type": "stream",
     "text": [
      "396\n",
      "[0.53043075416836938, 0.37469769781994861, 0.81514483595437193, 0.83905088499537717, 0.61085199061772189]\n"
     ]
    },
    {
     "data": {
      "image/png": "[encoded data removed]",
      "text/plain": [
       "<matplotlib.figure.Figure at 0x6049f60>"
      ]
     },
     "metadata": {},
     "output_type": "display_data"
    }
   ],
   "source": [
    "##############Define dataset#############\n",
    "num_variables = 5\n",
    "num_samples = 1000\n",
    "##Correlation matrix\n",
    "cov = [[1.0, 0.3, 0.1, 0.2, 0.3], \n",
    "       [0.3, 1.0, 0.1, 0.1, 0.2], \n",
    "       [0.1, 0.1, 1.0, 0.9, 0.5], \n",
    "       [0.2, 0.1, 0.9, 1.0, 0.6], \n",
    "       [0.3, 0.2, 0.5, 0.6, 1.0]]\n",
    "mean = [0, 0, 0, 0, 0]\n",
    "std_dev = [1, 1, 1, 1, 1]\n",
    "##To ensure results remain consistent between runs for the same user definations\n",
    "random_state = 23\n",
    "##############Define dataset#############\n",
    "\n",
    "rnd = np.random.RandomState(random_state)\n",
    "\n",
    "## Creating cholesky decomposition matrix from correlation structure\n",
    "L = np.linalg.cholesky(cov)\n",
    "\n",
    "## Creating base dataset derived from standard normal distribution\n",
    "uncorrelated = rnd.standard_normal((num_variables, num_samples))\n",
    "\n",
    "## Imposing desired correlation structure on base dataset\n",
    "correlated = np.dot(L, uncorrelated)\n",
    "final_dataset = np.empty((num_variables, num_samples))\n",
    "\n",
    "## Imposing mean and standard deviation on dataset\n",
    "for i in range(0,num_variables):\n",
    "    final_dataset[i] = correlated[i] * std_dev[i] + mean[i]\n",
    "\n",
    "## Shape of numpy array as required by sklearn    \n",
    "final_dataset = final_dataset.T\n",
    "\n",
    "##function to created dependent variable valuea\n",
    "def gen_data(inp, param, noise=0, n_outliers=0, random_state=0):\n",
    "    rnd = np.random.RandomState(random_state)\n",
    "    t=np.copy(inp.T)\n",
    "    ##Reducing the effect of one the predictors\n",
    "    dependence_reducer = rnd.randint(0, len(t[0]), 500)\n",
    "    t[1][dependence_reducer] *= 0\n",
    "    print(len(np.where(t[1] == 0)[0]))\n",
    "    ##Parametric relation between dependant variable and predictors\n",
    "    y = param[0] * (t[0]) + param[1] * (t[1]) + param[2] * (t[2]) + param[3] * (t[3]) + param[5]\n",
    "    \n",
    "    ##Generating gaussian error\n",
    "    error = noise * rnd.randn(len(t[0]))\n",
    "    ##Randomly assigning outlier positions\n",
    "    outliers = rnd.randint(0, len(t[0]), n_outliers)\n",
    "    error[outliers] *= 3\n",
    "    #print(error)\n",
    "    return y + error\n",
    "\n",
    "##Model parameters\n",
    "param = [555, 555, 555, 555, 555, 100]\n",
    "noise = 100\n",
    "n_outliers = 50\n",
    "\n",
    "##Creating indendent predictor variables\n",
    "t_train = np.array([[randrange(5,200) for x in range(0,num_samples)],[randrange(400,800) for x in range(0,num_samples)]]).T\n",
    "\n",
    "##Using correlated predictor variables\n",
    "t_train = final_dataset\n",
    "\n",
    "y_data = gen_data(t_train, param, noise=noise, n_outliers=n_outliers, random_state=random_state)\n",
    "\n",
    "#print(pd.DataFrame(y_data).describe())\n",
    "y_correlation = [(np.corrcoef(y_data,idv)[0][1]) for idv in t_train.T]\n",
    "print(y_correlation)\n",
    "plt.hist(y_data.T)\n",
    "\n",
    "\n",
    "from sklearn.cross_validation import train_test_split\n",
    "\n",
    "x_train, x_test, y_train, y_test = train_test_split(\n",
    "    t_train, y_data, test_size=0.33)"
   ]
  },
  {
   "cell_type": "code",
   "execution_count": 84,
   "metadata": {
    "collapsed": false
   },
   "outputs": [
    {
     "name": "stdout",
     "output_type": "stream",
     "text": [
      "                x0           x1           x2           x3           x4  \\\n",
      "count  1000.000000  1000.000000  1000.000000  1000.000000  1000.000000   \n",
      "mean     -0.061227    -0.027429    -0.069579    -0.086693    -0.049535   \n",
      "std       0.962275     1.008724     1.017435     1.028833     0.994567   \n",
      "min      -2.585524    -3.312303    -2.905680    -3.179148    -3.292991   \n",
      "25%      -0.697393    -0.702359    -0.778946    -0.750114    -0.744847   \n",
      "50%      -0.074842    -0.015759    -0.053378    -0.085041    -0.053930   \n",
      "75%       0.606599     0.660507     0.616083     0.615528     0.612525   \n",
      "max       3.187503     3.122568     3.236443     3.326127     3.278580   \n",
      "\n",
      "           y_train  \n",
      "count  1000.000000  \n",
      "mean    -27.850612  \n",
      "std    1418.037767  \n",
      "min   -4529.499896  \n",
      "25%    -961.957887  \n",
      "50%     -10.744699  \n",
      "75%     939.971282  \n",
      "max    4384.578122  \n"
     ]
    },
    {
     "data": {
      "text/plain": [
       "array([[  6.66988056e-01,   1.68079599e+00,   1.16737752e+00,\n",
       "          6.48219022e-01,  -7.47753004e-01,   1.44016429e+03],\n",
       "       [  2.58130811e-02,  -1.40152721e+00,  -1.34043190e+00,\n",
       "         -9.44849175e-01,  -8.95162323e-01,  -1.87042375e+03],\n",
       "       [ -7.77619413e-01,  -4.23962861e-01,   1.05438326e+00,\n",
       "          1.21285872e+00,   4.26674258e-01,   9.46582013e+02],\n",
       "       ..., \n",
       "       [  9.25886737e-01,   2.92712005e-01,  -9.04861480e-01,\n",
       "         -3.01790728e-01,   1.57819420e-01,  -2.10589224e+01],\n",
       "       [  2.61216503e+00,   9.47826948e-01,  -4.63233426e-01,\n",
       "         -4.65965495e-01,   4.78594808e-02,   8.45172352e+02],\n",
       "       [  5.61044948e-02,   1.15930896e-01,   5.90503976e-01,\n",
       "          2.69784802e-01,   7.66073206e-01,   7.14340124e+02]])"
      ]
     },
     "execution_count": 84,
     "metadata": {},
     "output_type": "execute_result"
    }
   ],
   "source": [
    "df = pd.DataFrame({'x0':t_train.T[0], 'x1':t_train.T[1], 'x2':t_train.T[2], 'x3':t_train.T[3], 'x4':t_train.T[4],'y_train':y_data})\n",
    "print(df.describe())\n",
    "df.values"
   ]
  },
  {
   "cell_type": "code",
   "execution_count": 109,
   "metadata": {
    "collapsed": false
   },
   "outputs": [],
   "source": [
    "from sklearn.cluster import KMeans\n",
    "kmns = KMeans(n_clusters=3, max_iter=100000)\n",
    "kmns_fit = kmns.fit(df.values)\n",
    "\n",
    "import sklearn.metrics.pairwise as test\n",
    "test?"
   ]
  },
  {
   "cell_type": "code",
   "execution_count": 107,
   "metadata": {
    "collapsed": false
   },
   "outputs": [
    {
     "data": {
      "text/plain": [
       "array([-1, -1, -1, -1, -1, -1, -1, -1, -1, -1, -1, -1, -1, -1, -1, -1, -1,\n",
       "       -1, -1, -1, -1, -1, -1, -1, -1, -1, -1, -1, -1, -1, -1, -1, -1, -1,\n",
       "       -1, -1, -1, -1, -1, -1, -1, -1, -1, -1, -1, -1, -1, -1, -1, -1, -1,\n",
       "       -1, -1, -1, -1, -1, -1, -1, -1, -1, -1, -1, -1, -1, -1, -1, -1, -1,\n",
       "       -1, -1, -1, -1, -1, -1, -1, -1, -1, -1, -1, -1, -1, -1, -1, -1, -1,\n",
       "       -1, -1, -1, -1, -1, -1, -1, -1, -1, -1, -1, -1, -1, -1, -1, -1, -1,\n",
       "       -1, -1, -1, -1, -1, -1, -1, -1, -1, -1, -1, -1, -1, -1, -1, -1, -1,\n",
       "       -1, -1, -1, -1, -1, -1, -1, -1, -1, -1, -1, -1, -1, -1, -1, -1, -1,\n",
       "       -1, -1, -1, -1, -1, -1, -1, -1, -1, -1, -1, -1, -1, -1, -1, -1, -1,\n",
       "       -1, -1, -1, -1, -1, -1, -1, -1, -1, -1, -1, -1, -1, -1, -1, -1, -1,\n",
       "       -1, -1, -1, -1, -1, -1, -1, -1, -1, -1, -1, -1, -1, -1, -1, -1, -1,\n",
       "       -1, -1, -1, -1, -1, -1, -1, -1, -1, -1, -1, -1, -1, -1, -1, -1, -1,\n",
       "       -1, -1, -1, -1, -1, -1, -1, -1, -1, -1, -1, -1, -1, -1, -1, -1, -1,\n",
       "       -1, -1, -1, -1, -1, -1, -1, -1, -1, -1, -1, -1, -1, -1, -1, -1, -1,\n",
       "       -1, -1, -1, -1, -1, -1, -1, -1, -1, -1, -1, -1, -1, -1, -1, -1, -1,\n",
       "       -1, -1, -1, -1, -1, -1, -1, -1, -1, -1, -1, -1, -1, -1, -1, -1, -1,\n",
       "       -1, -1, -1, -1, -1, -1, -1, -1, -1, -1, -1, -1, -1, -1, -1, -1, -1,\n",
       "       -1, -1, -1, -1, -1, -1, -1, -1, -1, -1, -1, -1, -1, -1, -1, -1, -1,\n",
       "       -1, -1, -1, -1, -1, -1, -1, -1, -1, -1, -1, -1, -1, -1, -1, -1, -1,\n",
       "       -1, -1, -1, -1, -1, -1, -1, -1, -1, -1, -1, -1, -1, -1, -1, -1, -1,\n",
       "       -1, -1, -1, -1, -1, -1, -1, -1, -1, -1, -1, -1, -1, -1, -1, -1, -1,\n",
       "       -1, -1, -1, -1, -1, -1, -1, -1, -1, -1, -1, -1, -1, -1, -1, -1, -1,\n",
       "       -1, -1, -1, -1, -1, -1, -1, -1, -1, -1, -1, -1, -1, -1, -1, -1, -1,\n",
       "       -1, -1, -1, -1, -1, -1, -1, -1, -1, -1, -1, -1, -1, -1, -1, -1, -1,\n",
       "       -1, -1, -1, -1, -1, -1, -1, -1, -1, -1, -1, -1, -1, -1, -1, -1, -1,\n",
       "       -1, -1, -1, -1, -1, -1, -1, -1, -1, -1, -1, -1, -1, -1, -1, -1, -1,\n",
       "       -1, -1, -1, -1, -1, -1, -1, -1, -1, -1, -1, -1, -1, -1, -1, -1, -1,\n",
       "       -1, -1, -1, -1, -1, -1, -1, -1, -1, -1, -1, -1, -1, -1, -1, -1, -1,\n",
       "       -1, -1, -1, -1, -1, -1, -1, -1, -1, -1, -1, -1, -1, -1, -1, -1, -1,\n",
       "       -1, -1, -1, -1, -1, -1, -1, -1, -1, -1, -1, -1, -1, -1, -1, -1, -1,\n",
       "       -1, -1, -1, -1, -1, -1, -1, -1, -1, -1, -1, -1, -1, -1, -1, -1, -1,\n",
       "       -1, -1, -1, -1, -1, -1, -1, -1, -1, -1, -1, -1, -1, -1, -1, -1, -1,\n",
       "       -1, -1, -1, -1, -1, -1, -1, -1, -1, -1, -1, -1, -1, -1, -1, -1, -1,\n",
       "       -1, -1, -1, -1, -1, -1, -1, -1, -1, -1, -1, -1, -1, -1, -1, -1, -1,\n",
       "       -1, -1, -1, -1, -1, -1, -1, -1, -1, -1, -1, -1, -1, -1, -1, -1, -1,\n",
       "       -1, -1, -1, -1, -1, -1, -1, -1, -1, -1, -1, -1, -1, -1, -1, -1, -1,\n",
       "       -1, -1, -1, -1, -1, -1, -1, -1, -1, -1, -1, -1, -1, -1, -1, -1, -1,\n",
       "       -1, -1, -1, -1, -1, -1, -1, -1, -1, -1, -1, -1, -1, -1, -1, -1, -1,\n",
       "       -1, -1, -1, -1, -1, -1, -1, -1, -1, -1, -1, -1, -1, -1, -1, -1, -1,\n",
       "       -1, -1, -1, -1, -1, -1, -1, -1, -1, -1, -1, -1, -1, -1, -1, -1, -1,\n",
       "       -1, -1, -1, -1, -1, -1, -1, -1, -1, -1, -1, -1, -1, -1, -1, -1, -1,\n",
       "       -1, -1, -1, -1, -1, -1, -1, -1, -1, -1, -1, -1, -1, -1, -1, -1, -1,\n",
       "       -1, -1, -1, -1, -1, -1, -1, -1, -1, -1, -1, -1, -1, -1, -1, -1, -1,\n",
       "       -1, -1, -1, -1, -1, -1, -1, -1, -1, -1, -1, -1, -1, -1, -1, -1, -1,\n",
       "       -1, -1, -1, -1, -1, -1, -1, -1, -1, -1, -1, -1, -1, -1, -1, -1, -1,\n",
       "       -1, -1, -1, -1, -1, -1, -1, -1, -1, -1, -1, -1, -1, -1, -1, -1, -1,\n",
       "       -1, -1, -1, -1, -1, -1, -1, -1, -1, -1, -1, -1, -1, -1, -1, -1, -1,\n",
       "       -1, -1, -1, -1, -1, -1, -1, -1, -1, -1, -1, -1, -1, -1, -1, -1, -1,\n",
       "       -1, -1, -1, -1, -1, -1, -1, -1, -1, -1, -1, -1, -1, -1, -1, -1, -1,\n",
       "       -1, -1, -1, -1, -1, -1, -1, -1, -1, -1, -1, -1, -1, -1, -1, -1, -1,\n",
       "       -1, -1, -1, -1, -1, -1, -1, -1, -1, -1, -1, -1, -1, -1, -1, -1, -1,\n",
       "       -1, -1, -1, -1, -1, -1, -1, -1, -1, -1, -1, -1, -1, -1, -1, -1, -1,\n",
       "       -1, -1, -1, -1, -1, -1, -1, -1, -1, -1, -1, -1, -1, -1, -1, -1, -1,\n",
       "       -1, -1, -1, -1, -1, -1, -1, -1, -1, -1, -1, -1, -1, -1, -1, -1, -1,\n",
       "       -1, -1, -1, -1, -1, -1, -1, -1, -1, -1, -1, -1, -1, -1, -1, -1, -1,\n",
       "       -1, -1, -1, -1, -1, -1, -1, -1, -1, -1, -1, -1, -1, -1, -1, -1, -1,\n",
       "       -1, -1, -1, -1, -1, -1, -1, -1, -1, -1, -1, -1, -1, -1, -1, -1, -1,\n",
       "       -1, -1, -1, -1, -1, -1, -1, -1, -1, -1, -1, -1, -1, -1, -1, -1, -1,\n",
       "       -1, -1, -1, -1, -1, -1, -1, -1, -1, -1, -1, -1, -1, -1], dtype=int64)"
      ]
     },
     "execution_count": 107,
     "metadata": {},
     "output_type": "execute_result"
    }
   ],
   "source": [
    "from sklearn.cluster import DBSCAN\n",
    "dbscan = DBSCAN()\n",
    "dbscan_fit = dbscan.fit(df.values)\n",
    "dbscan_fit.labels_\n"
   ]
  },
  {
   "cell_type": "code",
   "execution_count": 5,
   "metadata": {
    "collapsed": false
   },
   "outputs": [
    {
     "data": {
      "text/plain": [
       "array([[-0.21913619, -0.16481722, -0.56774747, -0.59612256, -0.49710695],\n",
       "       [ 0.65491306,  0.68862813, -0.23119422, -0.20837436, -0.00309054],\n",
       "       [-0.05651906,  0.26412117,  0.41829676,  0.24345993, -0.83234649],\n",
       "       [ 0.70775598, -0.64315525, -0.05833829,  0.1671515 , -0.23257219],\n",
       "       [-0.13767822,  0.12336094, -0.6677099 ,  0.71694188, -0.07736031]])"
      ]
     },
     "execution_count": 5,
     "metadata": {},
     "output_type": "execute_result"
    }
   ],
   "source": [
    "from sklearn.decomposition import PCA\n",
    "pca=PCA(n_components=5)\n",
    "pca_res=pca.fit_transform(t_train)\n",
    "pca=pca.fit(t_train)\n",
    "pca.components_\n"
   ]
  },
  {
   "cell_type": "code",
   "execution_count": 6,
   "metadata": {
    "collapsed": false,
    "scrolled": false
   },
   "outputs": [
    {
     "name": "stdout",
     "output_type": "stream",
     "text": [
      "[0.4142308609026758, -0.37283030951872131, -0.032262053938371442, 0.091233617879457815, -0.1312871009816948]\n"
     ]
    }
   ],
   "source": [
    "## finding factor loadings\n",
    "print([np.corrcoef(pca_res[:,3],var)[0][1] for var in t_train.T])\n"
   ]
  },
  {
   "cell_type": "code",
   "execution_count": 110,
   "metadata": {
    "collapsed": false
   },
   "outputs": [
    {
     "ename": "NameError",
     "evalue": "name 'pca_res' is not defined",
     "output_type": "error",
     "traceback": [
      "\u001b[1;31m---------------------------------------------------------------------------\u001b[0m",
      "\u001b[1;31mNameError\u001b[0m                                 Traceback (most recent call last)",
      "\u001b[1;32m<ipython-input-110-48dcd3c36b82>\u001b[0m in \u001b[0;36m<module>\u001b[1;34m()\u001b[0m\n\u001b[0;32m      1\u001b[0m \u001b[1;32mfrom\u001b[0m \u001b[0mstatsmodels\u001b[0m\u001b[1;33m.\u001b[0m\u001b[0mformula\u001b[0m\u001b[1;33m.\u001b[0m\u001b[0mapi\u001b[0m \u001b[1;32mimport\u001b[0m \u001b[0mols\u001b[0m\u001b[1;33m,\u001b[0m\u001b[0mrlm\u001b[0m\u001b[1;33m\u001b[0m\u001b[0m\n\u001b[0;32m      2\u001b[0m \u001b[1;33m\u001b[0m\u001b[0m\n\u001b[1;32m----> 3\u001b[1;33m \u001b[0mdf\u001b[0m \u001b[1;33m=\u001b[0m \u001b[0mpd\u001b[0m\u001b[1;33m.\u001b[0m\u001b[0mDataFrame\u001b[0m\u001b[1;33m(\u001b[0m\u001b[1;33m{\u001b[0m\u001b[1;34m'x0'\u001b[0m\u001b[1;33m:\u001b[0m\u001b[0mpca_res\u001b[0m\u001b[1;33m[\u001b[0m\u001b[1;33m:\u001b[0m\u001b[1;33m,\u001b[0m\u001b[1;36m0\u001b[0m\u001b[1;33m]\u001b[0m\u001b[1;33m,\u001b[0m \u001b[1;34m'x1'\u001b[0m\u001b[1;33m:\u001b[0m\u001b[0mpca_res\u001b[0m\u001b[1;33m[\u001b[0m\u001b[1;33m:\u001b[0m\u001b[1;33m,\u001b[0m\u001b[1;36m1\u001b[0m\u001b[1;33m]\u001b[0m\u001b[1;33m,\u001b[0m \u001b[1;34m'x2'\u001b[0m\u001b[1;33m:\u001b[0m\u001b[0mpca_res\u001b[0m\u001b[1;33m[\u001b[0m\u001b[1;33m:\u001b[0m\u001b[1;33m,\u001b[0m\u001b[1;36m2\u001b[0m\u001b[1;33m]\u001b[0m\u001b[1;33m,\u001b[0m \u001b[1;34m'x3'\u001b[0m\u001b[1;33m:\u001b[0m\u001b[0mpca_res\u001b[0m\u001b[1;33m[\u001b[0m\u001b[1;33m:\u001b[0m\u001b[1;33m,\u001b[0m\u001b[1;36m3\u001b[0m\u001b[1;33m]\u001b[0m\u001b[1;33m,\u001b[0m \u001b[1;34m'x4'\u001b[0m\u001b[1;33m:\u001b[0m\u001b[0mpca_res\u001b[0m\u001b[1;33m[\u001b[0m\u001b[1;33m:\u001b[0m\u001b[1;33m,\u001b[0m\u001b[1;36m4\u001b[0m\u001b[1;33m]\u001b[0m\u001b[1;33m,\u001b[0m\u001b[1;34m'y'\u001b[0m\u001b[1;33m:\u001b[0m\u001b[0mY\u001b[0m\u001b[1;33m}\u001b[0m\u001b[1;33m)\u001b[0m\u001b[1;33m\u001b[0m\u001b[0m\n\u001b[0m\u001b[0;32m      4\u001b[0m \u001b[0mols_fit\u001b[0m \u001b[1;33m=\u001b[0m \u001b[0mols\u001b[0m\u001b[1;33m(\u001b[0m\u001b[1;34m\"y ~ x0+x1+x2+x3+x4+1\"\u001b[0m\u001b[1;33m,\u001b[0m \u001b[0mdf\u001b[0m\u001b[1;33m)\u001b[0m\u001b[1;33m.\u001b[0m\u001b[0mfit\u001b[0m\u001b[1;33m(\u001b[0m\u001b[1;33m)\u001b[0m\u001b[1;33m\u001b[0m\u001b[0m\n\u001b[0;32m      5\u001b[0m \u001b[1;33m\u001b[0m\u001b[0m\n",
      "\u001b[1;31mNameError\u001b[0m: name 'pca_res' is not defined"
     ]
    }
   ],
   "source": [
    "from statsmodels.formula.api import ols,rlm\n",
    "\n",
    "df = pd.DataFrame({'x0':pca_res[:,0], 'x1':pca_res[:,1], 'x2':pca_res[:,2], 'x3':pca_res[:,3], 'x4':pca_res[:,4],'y':Y})\n",
    "ols_fit = ols(\"y ~ x0+x1+x2+x3+x4+1\", df).fit()\n",
    "\n",
    "print(ols_fit.summary())\n",
    "print(np.mean((ols_fit.fittedvalues-df.y)**2)**.5)\n",
    "plt.scatter(Y,ols_fit.fittedvalues-Y)"
   ]
  },
  {
   "cell_type": "code",
   "execution_count": 112,
   "metadata": {
    "collapsed": false
   },
   "outputs": [
    {
     "name": "stdout",
     "output_type": "stream",
     "text": [
      "                            OLS Regression Results                            \n",
      "==============================================================================\n",
      "Dep. Variable:                y_train   R-squared:                       0.928\n",
      "Model:                            OLS   Adj. R-squared:                  0.927\n",
      "Method:                 Least Squares   F-statistic:                     2135.\n",
      "Date:                Fri, 22 Jul 2016   Prob (F-statistic):               0.00\n",
      "Time:                        16:16:39   Log-Likelihood:                -4938.8\n",
      "No. Observations:                 670   AIC:                             9888.\n",
      "Df Residuals:                     665   BIC:                             9910.\n",
      "Df Model:                           4                                         \n",
      "Covariance Type:            nonrobust                                         \n",
      "==============================================================================\n",
      "                 coef    std err          t      P>|t|      [95.0% Conf. Int.]\n",
      "------------------------------------------------------------------------------\n",
      "Intercept    110.7453     14.979      7.393      0.000        81.334   140.157\n",
      "x0           525.8376     16.287     32.286      0.000       493.858   557.817\n",
      "x1           348.6626     15.449     22.569      0.000       318.329   378.997\n",
      "x3          1080.6488     18.744     57.652      0.000      1043.844  1117.454\n",
      "x4           -17.2838     20.050     -0.862      0.389       -56.654    22.086\n",
      "==============================================================================\n",
      "Omnibus:                        0.151   Durbin-Watson:                   2.021\n",
      "Prob(Omnibus):                  0.927   Jarque-Bera (JB):                0.146\n",
      "Skew:                           0.036   Prob(JB):                        0.929\n",
      "Kurtosis:                       2.988   Cond. No.                         2.29\n",
      "==============================================================================\n",
      "\n",
      "Warnings:\n",
      "[1] Standard Errors assume that the covariance matrix of the errors is correctly specified.\n",
      "384.69809583764516\n",
      "<matplotlib.collections.PathCollection object at 0x000000000CC590F0>\n",
      "379.355320308\n"
     ]
    },
    {
     "data": {
      "image/png": "[encoded data removed]",
      "text/plain": [
       "<matplotlib.figure.Figure at 0xcb26160>"
      ]
     },
     "metadata": {},
     "output_type": "display_data"
    }
   ],
   "source": [
    "from statsmodels.formula.api import ols,rlm\n",
    "\n",
    "df = pd.DataFrame({'x0':x_train.T[0], 'x1':x_train.T[1], 'x2':x_train.T[2], 'x3':x_train.T[3], 'x4':x_train.T[4],'y_train':y_train})\n",
    "ols_fit = ols(\"y_train ~ x0+x1 +x3+x4+1\", df).fit()\n",
    "df_test = pd.DataFrame({'x0':x_test.T[0], 'x1':x_test.T[1], 'x2':x_test.T[2], 'x3':x_test.T[3], 'x4':x_test.T[4],'y_test':y_test})\n",
    "print(ols_fit.summary())\n",
    "print(np.mean((ols_fit.fittedvalues-df.y_train)**2)**.5)\n",
    "print(plt.scatter(ols_fit.fittedvalues,ols_fit.fittedvalues-y_train))\n",
    "print(np.mean((ols_fit.predict(df_test)-y_test)**2)**.5)\n"
   ]
  },
  {
   "cell_type": "code",
   "execution_count": 113,
   "metadata": {
    "collapsed": false
   },
   "outputs": [
    {
     "name": "stdout",
     "output_type": "stream",
     "text": [
      "[ 0.18607222  0.09666492  0.61378969  0.10347318]\n",
      "414.023744938\n",
      "2.08541816473e-11\n",
      "[[ 1.          0.95444482]\n",
      " [ 0.95444482  1.        ]]\n"
     ]
    },
    {
     "data": {
      "text/plain": [
       "<matplotlib.collections.PathCollection at 0xe538470>"
      ]
     },
     "execution_count": 113,
     "metadata": {},
     "output_type": "execute_result"
    },
    {
     "data": {
      "image/png": "[encoded data removed]",
      "text/plain": [
       "<matplotlib.figure.Figure at 0xe4f5208>"
      ]
     },
     "metadata": {},
     "output_type": "display_data"
    }
   ],
   "source": [
    "from sklearn.ensemble import ExtraTreesRegressor\n",
    "forest = ExtraTreesRegressor(n_estimators=1000,random_state=0)\n",
    "forest_fit = forest.fit(x_train[:,[0,1,3,4]], y_train)\n",
    "importances = forest_fit.feature_importances_\n",
    "print(importances)\n",
    "print(np.mean((forest_fit.predict(x_test[:,[0,1,3,4]])-y_test)**2)**.5)\n",
    "print(np.mean((forest_fit.predict(x_train[:,[0,1,3,4]])-y_train)**2)**.5)\n",
    "print(np.corrcoef(forest_fit.predict(x_test[:,[0,1,3,4]]),y_test))\n",
    "plt.scatter(forest_fit.predict(x_test[:,[0,1,3,4]]),forest_fit.predict(x_test[:,[0,1,3,4]])-y_test)"
   ]
  },
  {
   "cell_type": "code",
   "execution_count": 92,
   "metadata": {
    "collapsed": false,
    "scrolled": true
   },
   "outputs": [
    {
     "name": "stdout",
     "output_type": "stream",
     "text": [
      "[  482.29804089   404.83728791  1076.3931414    -21.16622916]\n",
      "0.935387369255\n"
     ]
    },
    {
     "data": {
      "text/plain": [
       "<matplotlib.collections.PathCollection at 0x1cc88be0>"
      ]
     },
     "execution_count": 92,
     "metadata": {},
     "output_type": "execute_result"
    },
    {
     "data": {
      "image/png": "[encoded data removed]",
      "text/plain": [
       "<matplotlib.figure.Figure at 0x1cac2f28>"
      ]
     },
     "metadata": {},
     "output_type": "display_data"
    }
   ],
   "source": [
    "from sklearn.linear_model import LinearRegression\n",
    "lm = LinearRegression()\n",
    "lm_fit = lm.fit(t_train[:,[0,1,3,4]], y_data)\n",
    "print(lm_fit.coef_)\n",
    "print(lm_fit.score(t_train[:,[0,1,3,4]], y_data))\n",
    "plt.scatter(y_data, lm_fit.predict(t_train[:,[0,1,3,4]]) - y_data)"
   ]
  },
  {
   "cell_type": "code",
   "execution_count": 93,
   "metadata": {
    "collapsed": false
   },
   "outputs": [
    {
     "name": "stdout",
     "output_type": "stream",
     "text": [
      "[ 0.22855545  0.36529011  0.25998944  0.146165  ]\n",
      "428.536932077\n",
      "249.441754523\n",
      "[[ 1.          0.95110454]\n",
      " [ 0.95110454  1.        ]]\n"
     ]
    },
    {
     "data": {
      "text/plain": [
       "<matplotlib.collections.PathCollection at 0xdff9be0>"
      ]
     },
     "execution_count": 93,
     "metadata": {},
     "output_type": "execute_result"
    },
    {
     "data": {
      "image/png": "[encoded data removed]",
      "text/plain": [
       "<matplotlib.figure.Figure at 0xcb30f98>"
      ]
     },
     "metadata": {},
     "output_type": "display_data"
    }
   ],
   "source": [
    "from sklearn.ensemble import GradientBoostingRegressor\n",
    "gbm = GradientBoostingRegressor(loss='huber',n_estimators=147)\n",
    "gbm_fit = gbm.fit(x_train[:,[0,1,3,4]], y_train)\n",
    "importances = gbm_fit.feature_importances_\n",
    "print(importances)\n",
    "print(np.mean((gbm_fit.predict(x_test[:,[0,1,3,4]])-y_test)**2)**.5)\n",
    "print(np.mean((gbm_fit.predict(x_train[:,[0,1,3,4]])-y_train)**2)**.5)\n",
    "print(np.corrcoef(gbm_fit.predict(x_test[:,[0,1,3,4]]),y_test))\n",
    "plt.scatter(y_train,gbm_fit.predict(x_train[:,[0,1,3,4]])-y_train)"
   ]
  },
  {
   "cell_type": "markdown",
   "metadata": {},
   "source": [
    "### Bagging Implementation"
   ]
  },
  {
   "cell_type": "code",
   "execution_count": 66,
   "metadata": {
    "collapsed": false
   },
   "outputs": [
    {
     "name": "stderr",
     "output_type": "stream",
     "text": [
      "100%|███████████████████████████████████████| 100/100 [00:00<00:00, 699.26it/s]\n"
     ]
    },
    {
     "name": "stdout",
     "output_type": "stream",
     "text": [
      "[  482.11410316   404.16772197  1075.43007128   -20.61324983]\n"
     ]
    }
   ],
   "source": [
    "\n",
    "from tqdm import tqdm\n",
    "coef = [0,0,0,0]\n",
    "comb=np.concatenate((t_train,Y.reshape(1000,1)),axis=1)\n",
    "for i in tqdm(range(0,100)):\n",
    "    resampled = resample(comb,n_samples=1000)\n",
    "    lm = LinearRegression()\n",
    "    lm_fit = lm.fit(resampled[:,[0,1,3,4]],resampled[:,-1])\n",
    "    coef+=lm_fit.coef_\n",
    "\n",
    "print(coef/100)\n",
    "    "
   ]
  },
  {
   "cell_type": "code",
   "execution_count": 86,
   "metadata": {
    "collapsed": false
   },
   "outputs": [],
   "source": [
    "from sklearn.grid_search import RandomizedSearchCV\n",
    "\n",
    "rndmCV = RandomizedSearchCV(gbm,{'n_estimators':range(10,200)})\n",
    "rndmCV_fit = rndmCV.fit(df[[0,1,3,4]].values,df.y_train.values)\n",
    "\n"
   ]
  },
  {
   "cell_type": "code",
   "execution_count": 100,
   "metadata": {
    "collapsed": false
   },
   "outputs": [
    {
     "ename": "SyntaxError",
     "evalue": "invalid syntax (<ipython-input-100-985fae20e76c>, line 1)",
     "output_type": "error",
     "traceback": [
      "\u001b[1;36m  File \u001b[1;32m\"<ipython-input-100-985fae20e76c>\"\u001b[1;36m, line \u001b[1;32m1\u001b[0m\n\u001b[1;33m    pd.dropna()?\u001b[0m\n\u001b[1;37m               ^\u001b[0m\n\u001b[1;31mSyntaxError\u001b[0m\u001b[1;31m:\u001b[0m invalid syntax\n"
     ]
    }
   ],
   "source": [
    "pd.dropna"
   ]
  }
 ],
 "metadata": {
  "kernelspec": {
   "display_name": "Python 3",
   "language": "python",
   "name": "python3"
  },
  "language_info": {
   "codemirror_mode": {
    "name": "ipython",
    "version": 3
   },
   "file_extension": ".py",
   "mimetype": "text/x-python",
   "name": "python",
   "nbconvert_exporter": "python",
   "pygments_lexer": "ipython3",
   "version": "3.4.4"
  }
 },
 "nbformat": 4,
 "nbformat_minor": 0
}
