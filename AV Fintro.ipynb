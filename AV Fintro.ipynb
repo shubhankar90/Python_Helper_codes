{
 "cells": [
  {
   "cell_type": "code",
   "execution_count": 1,
   "metadata": {
    "collapsed": true
   },
   "outputs": [],
   "source": [
    "%matplotlib inline\n",
    "\n",
    "import numpy as np\n",
    "import pandas as pd\n",
    "import matplotlib.pyplot as plt\n",
    "from sklearn_pandas import DataFrameMapper, cross_val_score\n",
    "import sklearn\n",
    "import datetime\n"
   ]
  },
  {
   "cell_type": "code",
   "execution_count": 2,
   "metadata": {
    "collapsed": false
   },
   "outputs": [],
   "source": [
    "av_test = pd.read_csv('C:\\\\Users\\\\alienware\\\\Downloads\\\\Test_wyCirpO.csv')\n",
    "av_train = pd.read_csv('C:\\\\Users\\\\alienware\\\\Downloads\\\\Train_pjb2QcD.csv')"
   ]
  },
  {
   "cell_type": "markdown",
   "metadata": {},
   "source": [
    "## Basic Data Exploration"
   ]
  },
  {
   "cell_type": "code",
   "execution_count": 3,
   "metadata": {
    "collapsed": false
   },
   "outputs": [
    {
     "name": "stdout",
     "output_type": "stream",
     "text": [
      "(5045, 22)\n",
      "(9527, 23)\n",
      "ID                              0.000000\n",
      "Office_PIN                      0.000000\n",
      "Application_Receipt_Date        0.000000\n",
      "Applicant_City_PIN              1.018159\n",
      "Applicant_Gender                0.703264\n",
      "Applicant_BirthDate             0.766243\n",
      "Applicant_Marital_Status        0.766243\n",
      "Applicant_Occupation           12.816207\n",
      "Applicant_Qualification         0.902698\n",
      "Manager_DOJ                     7.169098\n",
      "Manager_Joining_Designation     7.169098\n",
      "Manager_Current_Designation     7.169098\n",
      "Manager_Grade                   7.169098\n",
      "Manager_Status                  7.169098\n",
      "Manager_Gender                  7.169098\n",
      "Manager_DoB                     7.169098\n",
      "Manager_Num_Application         7.169098\n",
      "Manager_Num_Coded               7.169098\n",
      "Manager_Business                7.169098\n",
      "Manager_Num_Products            7.169098\n",
      "Manager_Business2               7.169098\n",
      "Manager_Num_Products2           7.169098\n",
      "Business_Sourced                0.000000\n",
      "dtype: float64\n",
      "ID                              0.000000\n",
      "Office_PIN                      0.000000\n",
      "Application_Receipt_Date        0.000000\n",
      "Applicant_City_PIN              0.673935\n",
      "Applicant_Gender                0.436075\n",
      "Applicant_BirthDate             0.455897\n",
      "Applicant_Marital_Status        0.594648\n",
      "Applicant_Occupation           19.900892\n",
      "Applicant_Qualification         0.872151\n",
      "Manager_DOJ                    16.333003\n",
      "Manager_Joining_Designation    16.333003\n",
      "Manager_Current_Designation    16.333003\n",
      "Manager_Grade                  16.333003\n",
      "Manager_Status                 16.333003\n",
      "Manager_Gender                 16.333003\n",
      "Manager_DoB                    16.333003\n",
      "Manager_Num_Application        16.333003\n",
      "Manager_Num_Coded              16.333003\n",
      "Manager_Business               16.333003\n",
      "Manager_Num_Products           16.333003\n",
      "Manager_Business2              16.333003\n",
      "Manager_Num_Products2          16.333003\n",
      "dtype: float64\n",
      "ID                              object\n",
      "Office_PIN                       int64\n",
      "Application_Receipt_Date        object\n",
      "Applicant_City_PIN             float64\n",
      "Applicant_Gender                object\n",
      "Applicant_BirthDate             object\n",
      "Applicant_Marital_Status        object\n",
      "Applicant_Occupation            object\n",
      "Applicant_Qualification         object\n",
      "Manager_DOJ                     object\n",
      "Manager_Joining_Designation     object\n",
      "Manager_Current_Designation     object\n",
      "Manager_Grade                  float64\n",
      "Manager_Status                  object\n",
      "Manager_Gender                  object\n",
      "Manager_DoB                     object\n",
      "Manager_Num_Application        float64\n",
      "Manager_Num_Coded              float64\n",
      "Manager_Business               float64\n",
      "Manager_Num_Products           float64\n",
      "Manager_Business2              float64\n",
      "Manager_Num_Products2          float64\n",
      "Business_Sourced                 int64\n",
      "dtype: object\n"
     ]
    }
   ],
   "source": [
    "print(av_test.shape)\n",
    "print(av_train.shape)\n",
    "print((av_train.shape[0]-av_train.count(axis=0))*100/av_train.shape[0])\n",
    "print((av_test.shape[0]-av_test.count(axis=0))*100/av_test.shape[0])\n",
    "print(av_train.dtypes)\n",
    "\n"
   ]
  },
  {
   "cell_type": "code",
   "execution_count": 5,
   "metadata": {
    "collapsed": false
   },
   "outputs": [
    {
     "data": {
      "text/plain": [
       "[<matplotlib.lines.Line2D at 0xae9ef98>]"
      ]
     },
     "execution_count": 5,
     "metadata": {},
     "output_type": "execute_result"
    },
    {
     "data": {
      "image/png": "[encoded data removed]",
      "text/plain": [
       "<matplotlib.figure.Figure at 0x982c5c0>"
      ]
     },
     "metadata": {},
     "output_type": "display_data"
    }
   ],
   "source": [
    "train_trchk=pd.DataFrame(av_train.Business_Sourced.values, index=pd.to_datetime\n",
    "                         (av_train.Application_Receipt_Date).values, columns=['DV'])\n",
    "train_trchk_grpd_count = train_trchk.groupby([pd.TimeGrouper('M')]).count()\n",
    "train_trchk_grpd_sum = train_trchk.groupby([pd.TimeGrouper('M')]).sum()\n",
    "\n",
    "fig, ax1 = plt.subplots()\n",
    "\n",
    "ax2 = ax1.twinx()\n",
    "\n",
    "ax1.plot(train_trchk_grpd_sum.index,train_trchk_grpd_sum.DV, color='g')\n",
    "ax1.plot(train_trchk_grpd_count.index,train_trchk_grpd_count.DV, color='b')\n",
    "ax2.plot(train_trchk_grpd_count.index,train_trchk_grpd_sum.DV/train_trchk_grpd_count.DV, color='r')"
   ]
  },
  {
   "cell_type": "code",
   "execution_count": 27,
   "metadata": {
    "collapsed": false
   },
   "outputs": [
    {
     "data": {
      "text/plain": [
       "[<matplotlib.lines.Line2D at 0xac66978>]"
      ]
     },
     "execution_count": 27,
     "metadata": {},
     "output_type": "execute_result"
    },
    {
     "data": {
      "image/png": "[encoded data removed]",
      "text/plain": [
       "<matplotlib.figure.Figure at 0xaaf0be0>"
      ]
     },
     "metadata": {},
     "output_type": "display_data"
    }
   ],
   "source": [
    "test_trchk=pd.DataFrame(av_test.ID.values, index=pd.to_datetime\n",
    "                         (av_test.Application_Receipt_Date).values, columns=['DV'])\n",
    "test_trchk_grpd_count = test_trchk.groupby([pd.TimeGrouper('M')]).count()\n",
    "plt.plot(test_trchk_grpd_count.index,test_trchk_grpd_count.DV, color='g')"
   ]
  },
  {
   "cell_type": "code",
   "execution_count": 32,
   "metadata": {
    "collapsed": false
   },
   "outputs": [
    {
     "data": {
      "text/plain": [
       "[<matplotlib.lines.Line2D at 0xac945f8>]"
      ]
     },
     "execution_count": 32,
     "metadata": {},
     "output_type": "execute_result"
    },
    {
     "data": {
      "image/png": "[encoded data removed]",
      "text/plain": [
       "<matplotlib.figure.Figure at 0xaaaee48>"
      ]
     },
     "metadata": {},
     "output_type": "display_data"
    }
   ],
   "source": [
    "train_trchk=pd.DataFrame(av_train[ds_tr.Manager_Joining_Designation != 'Other'].Business_Sourced.values\n",
    "                         , index=(av_train[ds_tr.Manager_Joining_Designation != 'Other'].Manager_Joining_Designation\n",
    "                                                                  .apply(lambda x: (str(x).replace('Level ','')))\n",
    "                                                                  .astype('float')).values, columns=['DV'])\n",
    "train_trchk_grpd_count = train_trchk.groupby([train_trchk.index]).count()\n",
    "train_trchk_grpd_sum = train_trchk.groupby([train_trchk.index]).sum()\n",
    "\n",
    "fig, ax1 = plt.subplots()\n",
    "\n",
    "ax2 = ax1.twinx()\n",
    "\n",
    "ax1.plot(train_trchk_grpd_sum.index,train_trchk_grpd_sum.DV, color='g')\n",
    "ax1.plot(train_trchk_grpd_count.index,train_trchk_grpd_count.DV, color='b')\n",
    "ax2.plot(train_trchk_grpd_count.index,train_trchk_grpd_sum.DV/train_trchk_grpd_count.DV, color='r')"
   ]
  },
  {
   "cell_type": "code",
   "execution_count": 29,
   "metadata": {
    "collapsed": false
   },
   "outputs": [
    {
     "ename": "SyntaxError",
     "evalue": "invalid syntax (<ipython-input-29-212e707547fe>, line 1)",
     "output_type": "error",
     "traceback": [
      "\u001b[1;36m  File \u001b[1;32m\"<ipython-input-29-212e707547fe>\"\u001b[1;36m, line \u001b[1;32m1\u001b[0m\n\u001b[1;33m    pd.to_datetime(av_train.Application_Receipt_Date)<\u001b[0m\n\u001b[1;37m                                                      ^\u001b[0m\n\u001b[1;31mSyntaxError\u001b[0m\u001b[1;31m:\u001b[0m invalid syntax\n"
     ]
    }
   ],
   "source": [
    "pd.to_datetime(av_train.Application_Receipt_Date)<"
   ]
  },
  {
   "cell_type": "code",
   "execution_count": 6,
   "metadata": {
    "collapsed": true
   },
   "outputs": [
    {
     "data": {
      "text/plain": [
       "0      2008-07-02\n",
       "1      2008-07-02\n",
       "2      2008-07-02\n",
       "3      2008-07-02\n",
       "4      2008-07-02\n",
       "5      2008-07-02\n",
       "6      2008-07-02\n",
       "7      2008-07-02\n",
       "8      2008-07-02\n",
       "9      2008-07-02\n",
       "10     2008-07-03\n",
       "11     2008-07-03\n",
       "12     2008-07-03\n",
       "13     2008-07-03\n",
       "14     2008-07-03\n",
       "15     2008-07-03\n",
       "16     2008-07-03\n",
       "17     2008-07-03\n",
       "18     2008-07-03\n",
       "19     2008-07-03\n",
       "20     2008-07-03\n",
       "21     2008-07-03\n",
       "22     2008-07-03\n",
       "23     2008-07-03\n",
       "24     2008-07-03\n",
       "25     2008-07-03\n",
       "26     2008-07-03\n",
       "27     2008-07-03\n",
       "28     2008-07-03\n",
       "29     2008-07-03\n",
       "          ...    \n",
       "5015   2009-01-01\n",
       "5016   2009-01-01\n",
       "5017   2009-01-01\n",
       "5018   2009-01-01\n",
       "5019   2009-01-01\n",
       "5020   2009-01-01\n",
       "5021   2009-01-01\n",
       "5022   2009-01-01\n",
       "5023   2009-01-01\n",
       "5024   2009-01-01\n",
       "5025   2009-01-01\n",
       "5026   2009-01-01\n",
       "5027   2009-01-01\n",
       "5028   2009-01-01\n",
       "5029   2009-01-01\n",
       "5030   2009-01-01\n",
       "5031   2009-01-01\n",
       "5032   2009-01-01\n",
       "5033   2009-01-01\n",
       "5034   2009-01-01\n",
       "5035   2009-01-01\n",
       "5036   2009-01-01\n",
       "5037   2009-01-01\n",
       "5038   2009-01-01\n",
       "5039   2009-01-01\n",
       "5040   2009-01-01\n",
       "5041   2009-01-01\n",
       "5042   2009-01-01\n",
       "5043   2009-01-01\n",
       "5044   2009-01-01\n",
       "Name: Application_Receipt_Date, dtype: datetime64[ns]"
      ]
     },
     "execution_count": 6,
     "metadata": {},
     "output_type": "execute_result"
    }
   ],
   "source": [
    "pd.to_datetime(av_test.Application_Receipt_Date)"
   ]
  },
  {
   "cell_type": "markdown",
   "metadata": {},
   "source": [
    "### Feature Creation"
   ]
  },
  {
   "cell_type": "code",
   "execution_count": 7,
   "metadata": {
    "collapsed": false
   },
   "outputs": [],
   "source": [
    "ds_tr = av_train.copy()\n",
    "ds_ts = av_test.copy()\n",
    "ds_ts['Business_Sourced'] = 0"
   ]
  },
  {
   "cell_type": "code",
   "execution_count": 8,
   "metadata": {
    "collapsed": true
   },
   "outputs": [],
   "source": [
    "ds_tr['Applicant_Age'] = (pd.to_datetime(ds_tr.Application_Receipt_Date) - pd.to_datetime(ds_tr.Applicant_BirthDate)).astype('timedelta64[Y]')\n",
    "ds_ts['Applicant_Age'] = (pd.to_datetime(ds_ts.Application_Receipt_Date) - pd.to_datetime(ds_ts.Applicant_BirthDate)).astype('timedelta64[Y]')\n",
    "\n",
    "ds_tr['Manager_Exp'] = (pd.to_datetime(ds_tr.Application_Receipt_Date) - pd.to_datetime(ds_tr.Manager_DOJ)).astype('timedelta64[Y]')\n",
    "ds_ts['Manager_Exp'] = (pd.to_datetime(ds_ts.Application_Receipt_Date) - pd.to_datetime(ds_ts.Manager_DOJ)).astype('timedelta64[Y]')\n",
    "\n",
    "ds_tr['Manager_Age'] = (pd.to_datetime(ds_tr.Application_Receipt_Date) - pd.to_datetime(ds_tr.Manager_DoB)).astype('timedelta64[Y]')\n",
    "ds_ts['Manager_Age'] = (pd.to_datetime(ds_ts.Application_Receipt_Date) - pd.to_datetime(ds_ts.Manager_DoB)).astype('timedelta64[Y]')\n"
   ]
  },
  {
   "cell_type": "code",
   "execution_count": 9,
   "metadata": {
    "collapsed": false
   },
   "outputs": [],
   "source": [
    "ds_tr.loc[ds_tr.Manager_Joining_Designation == 'Other', 'Manager_Joining_Designation'] = '0'\n",
    "ds_tr['Manager_Promotion'] = ds_tr.Manager_Current_Designation.apply(lambda x: (str(x).replace('Level ',''))).astype('float') \\\n",
    "- ds_tr.Manager_Joining_Designation.apply(lambda x: (str(x).replace('Level ',''))).astype('float')\n",
    "ds_ts.loc[ds_ts.Manager_Joining_Designation == 'Other', 'Manager_Joining_Designation'] = '0'\n",
    "ds_ts['Manager_Promotion'] = ds_ts.Manager_Current_Designation.apply(lambda x: (str(x).replace('Level ',''))).astype('float')\\\n",
    "- ds_ts.Manager_Joining_Designation.apply(lambda x: (str(x).replace('Level ',''))).astype('float')"
   ]
  },
  {
   "cell_type": "code",
   "execution_count": 10,
   "metadata": {
    "collapsed": false
   },
   "outputs": [],
   "source": [
    "ds_tr.index = pd.to_datetime(ds_tr.Application_Receipt_Date).values\n",
    "ds_tr=ds_tr[['Office_PIN','Applicant_Gender', 'Applicant_Age','Applicant_Marital_Status','Applicant_Occupation'\n",
    "       ,'Applicant_Qualification','Manager_Joining_Designation','Manager_Current_Designation',\n",
    "       'Manager_Grade', 'Manager_Status', 'Manager_Gender','Manager_Num_Application', 'Manager_Num_Coded', 'Manager_Business',\n",
    "      'Manager_Num_Products', 'Manager_Business2', 'Manager_Num_Products2', 'Manager_Exp', 'Manager_Age','Manager_Promotion'\n",
    "      ,'Business_Sourced']]\n",
    "ds_ts.index = pd.to_datetime(ds_ts.Application_Receipt_Date).values\n",
    "ds_ts=ds_ts[['Office_PIN','Applicant_Gender', 'Applicant_Age','Applicant_Marital_Status','Applicant_Occupation'\n",
    "       ,'Applicant_Qualification','Manager_Joining_Designation','Manager_Current_Designation',\n",
    "       'Manager_Grade', 'Manager_Status', 'Manager_Gender','Manager_Num_Application', 'Manager_Num_Coded', 'Manager_Business',\n",
    "      'Manager_Num_Products', 'Manager_Business2', 'Manager_Num_Products2', 'Manager_Exp', 'Manager_Age','Manager_Promotion'\n",
    "      ,'Business_Sourced']]\n"
   ]
  },
  {
   "cell_type": "code",
   "execution_count": 11,
   "metadata": {
    "collapsed": false
   },
   "outputs": [
    {
     "data": {
      "text/plain": [
       "['Manager_Gender',\n",
       " 'Applicant_Marital_Status',\n",
       " 'Applicant_Qualification',\n",
       " 'Office_PIN',\n",
       " 'Manager_Current_Designation',\n",
       " 'Applicant_Gender',\n",
       " 'Applicant_Occupation',\n",
       " 'Manager_Joining_Designation',\n",
       " 'Manager_Status',\n",
       " 'Manager_Grade']"
      ]
     },
     "execution_count": 11,
     "metadata": {},
     "output_type": "execute_result"
    }
   ],
   "source": [
    "target_col = ['Business_Sourced']\n",
    "num_cols = ['Manager_Num_Application', 'Manager_Num_Coded', 'Manager_Business',\n",
    "      'Manager_Num_Products', 'Manager_Business2', 'Manager_Num_Products2', 'Manager_Exp', 'Manager_Age','Manager_Promotion',\n",
    "          'Applicant_Age']\n",
    "cat_cols = list(set(ds_ts.columns) - set(target_col) - set(num_cols))\n",
    "cat_cols"
   ]
  },
  {
   "cell_type": "code",
   "execution_count": 12,
   "metadata": {
    "collapsed": false
   },
   "outputs": [],
   "source": [
    "ds_tr_1=ds_tr.copy()\n",
    "ds_ts_1=ds_ts.copy()\n",
    "\n",
    "\n",
    "cat_dummy_cols = {}\n",
    "for col in cat_cols:\n",
    "    ds_tr_1 = pd.concat([pd.get_dummies(ds_tr_1[col], prefix=col, dummy_na=False),ds_tr_1], axis=1)\n",
    "    cat_dummy_cols[col] = pd.get_dummies(ds_tr_1[col], prefix=col, dummy_na=False).columns\n",
    "\n",
    "    \n",
    "for col in cat_cols:\n",
    "    ds_ts_1 = pd.concat([pd.get_dummies(ds_ts_1[col], prefix=col, dummy_na=False),ds_ts_1], axis=1)"
   ]
  },
  {
   "cell_type": "code",
   "execution_count": 13,
   "metadata": {
    "collapsed": false
   },
   "outputs": [
    {
     "data": {
      "text/plain": [
       "['Applicant_Marital_Status_D',\n",
       " 'Applicant_Marital_Status_W',\n",
       " 'Manager_Grade_1.0',\n",
       " 'Manager_Grade_7.0',\n",
       " 'Manager_Grade_8.0',\n",
       " 'Manager_Grade_9.0',\n",
       " 'Manager_Grade_10.0',\n",
       " 'Applicant_Qualification_Associate / Fellow of Institute of Chartered Accountans of India',\n",
       " 'Applicant_Qualification_Associate/Fellow of Acturial Society of India',\n",
       " 'Applicant_Qualification_Associate/Fellow of Institute of Company Secretories of India',\n",
       " 'Applicant_Qualification_Associate/Fellow of Insurance Institute of India',\n",
       " 'Applicant_Qualification_Certified Associateship of Indian Institute of Bankers',\n",
       " 'Applicant_Qualification_Professional Qualification in Marketing',\n",
       " 'Office_PIN_110034',\n",
       " 'Office_PIN_124001',\n",
       " 'Office_PIN_143001',\n",
       " 'Office_PIN_144001',\n",
       " 'Office_PIN_282001',\n",
       " 'Office_PIN_313001',\n",
       " 'Office_PIN_334002',\n",
       " 'Office_PIN_395001',\n",
       " 'Office_PIN_423203',\n",
       " 'Office_PIN_444001',\n",
       " 'Office_PIN_517503',\n",
       " 'Office_PIN_620018',\n",
       " 'Office_PIN_625016',\n",
       " 'Office_PIN_636004',\n",
       " 'Office_PIN_641018',\n",
       " 'Office_PIN_826001',\n",
       " 'Manager_Joining_Designation_Level 5',\n",
       " 'Manager_Joining_Designation_Level 6',\n",
       " 'Manager_Joining_Designation_Level 7']"
      ]
     },
     "execution_count": 13,
     "metadata": {},
     "output_type": "execute_result"
    }
   ],
   "source": [
    "cat_dummy_cols_dropped = []\n",
    "for head in cat_dummy_cols:\n",
    "    for dummy in cat_dummy_cols[head]:\n",
    "        if (ds_tr_1[dummy].sum())<=30:\n",
    "            cat_dummy_cols_dropped.append(dummy)\n",
    "            \n",
    "cat_dummy_cols_dropped"
   ]
  },
  {
   "cell_type": "code",
   "execution_count": 14,
   "metadata": {
    "collapsed": false
   },
   "outputs": [
    {
     "name": "stderr",
     "output_type": "stream",
     "text": [
      "C:\\WinPython-64bit-3.4.4.1\\python-3.4.4.amd64\\lib\\site-packages\\ipykernel\\__main__.py:6: SettingWithCopyWarning: \n",
      "A value is trying to be set on a copy of a slice from a DataFrame.\n",
      "Try using .loc[row_indexer,col_indexer] = value instead\n",
      "\n",
      "See the caveats in the documentation: http://pandas.pydata.org/pandas-docs/stable/indexing.html#indexing-view-versus-copy\n"
     ]
    }
   ],
   "source": [
    "features=list(set(ds_tr_1.columns) - set(cat_cols) - set(cat_dummy_cols_dropped) - set(target_col))\n",
    "ds_tr_2=ds_tr_1[list(set(features) | set(target_col))]\n",
    "ds_ts_2=ds_ts_1[list((set(features) & set(ds_ts_1.columns)) | set(target_col))]\n",
    "\n",
    "for col in set(features) - (set(features) & set(ds_ts_1.columns)):\n",
    "    ds_ts_2[col] = 0"
   ]
  },
  {
   "cell_type": "code",
   "execution_count": 15,
   "metadata": {
    "collapsed": false
   },
   "outputs": [
    {
     "data": {
      "text/plain": [
       "Index(['Manager_Num_Coded', 'Manager_Exp', 'Manager_Num_Products',\n",
       "       'Manager_Promotion', 'Applicant_Age', 'Manager_Business',\n",
       "       'Manager_Num_Application', 'Manager_Business2', 'Manager_Num_Products2',\n",
       "       'Manager_Age'],\n",
       "      dtype='object')"
      ]
     },
     "execution_count": 15,
     "metadata": {},
     "output_type": "execute_result"
    }
   ],
   "source": [
    "dt=((ds_tr_2.shape[0]-ds_tr_2.count(axis=0))*100/ds_tr_2.shape[0])\n",
    "dt[dt.values>0].index"
   ]
  },
  {
   "cell_type": "code",
   "execution_count": 16,
   "metadata": {
    "collapsed": false
   },
   "outputs": [
    {
     "name": "stderr",
     "output_type": "stream",
     "text": [
      "C:\\WinPython-64bit-3.4.4.1\\python-3.4.4.amd64\\lib\\site-packages\\pandas\\core\\generic.py:2862: SettingWithCopyWarning: \n",
      "A value is trying to be set on a copy of a slice from a DataFrame\n",
      "\n",
      "See the caveats in the documentation: http://pandas.pydata.org/pandas-docs/stable/indexing.html#indexing-view-versus-copy\n",
      "  self._update_inplace(new_data)\n"
     ]
    },
    {
     "data": {
      "text/plain": [
       "Index(['Manager_Num_Coded', 'Manager_Exp', 'Manager_Num_Products',\n",
       "       'Manager_Promotion', 'Manager_Business', 'Manager_Num_Application',\n",
       "       'Manager_Business2', 'Manager_Num_Products2', 'Manager_Age'],\n",
       "      dtype='object')"
      ]
     },
     "execution_count": 16,
     "metadata": {},
     "output_type": "execute_result"
    }
   ],
   "source": [
    "ds_tr_2['Applicant_Age'].fillna(ds_tr_2['Applicant_Age'].mean(), inplace=True)\n",
    "ds_ts_2['Applicant_Age'].fillna(ds_tr_2['Applicant_Age'].mean(), inplace=True)\n",
    "\n",
    "dt=((ds_tr_2.shape[0]-ds_tr_2.count(axis=0))*100/ds_tr_2.shape[0])\n",
    "dt[dt.values>0].index"
   ]
  },
  {
   "cell_type": "code",
   "execution_count": 17,
   "metadata": {
    "collapsed": false
   },
   "outputs": [],
   "source": [
    "ds_tr_WMan = ds_tr_2.dropna().copy()\n"
   ]
  },
  {
   "cell_type": "code",
   "execution_count": 18,
   "metadata": {
    "collapsed": true
   },
   "outputs": [],
   "source": [
    "features_WoutMan = list(set(features) - set(dt[dt.values>0].index))\n",
    "ds_tr_WoutMan = ds_tr_2[list(set(features_WoutMan) | set(target_col))]"
   ]
  },
  {
   "cell_type": "code",
   "execution_count": 19,
   "metadata": {
    "collapsed": false
   },
   "outputs": [],
   "source": [
    "train_WMan = ds_tr_WMan.ix[ds_tr_WMan.index<datetime.datetime(2008,2,1)]\n",
    "test_WMan = ds_tr_WMan.ix[ds_tr_WMan.index>=datetime.datetime(2008,2,1)]\n"
   ]
  },
  {
   "cell_type": "code",
   "execution_count": 20,
   "metadata": {
    "collapsed": false
   },
   "outputs": [
    {
     "name": "stdout",
     "output_type": "stream",
     "text": [
      "(5045, 126)\n"
     ]
    },
    {
     "name": "stderr",
     "output_type": "stream",
     "text": [
      "C:\\WinPython-64bit-3.4.4.1\\python-3.4.4.amd64\\lib\\site-packages\\ipykernel\\__main__.py:2: SettingWithCopyWarning: \n",
      "A value is trying to be set on a copy of a slice from a DataFrame.\n",
      "Try using .loc[row_indexer,col_indexer] = value instead\n",
      "\n",
      "See the caveats in the documentation: http://pandas.pydata.org/pandas-docs/stable/indexing.html#indexing-view-versus-copy\n",
      "  from ipykernel import kernelapp as app\n"
     ]
    }
   ],
   "source": [
    "print((ds_ts_2).shape)\n",
    "ds_ts_2['ID'] = av_test.ID.values\n"
   ]
  },
  {
   "cell_type": "code",
   "execution_count": 21,
   "metadata": {
    "collapsed": false
   },
   "outputs": [],
   "source": [
    "ds_ts_2_WMan = ds_ts_2[~pd.isnull(ds_ts_2.Manager_Business2).values]\n",
    "ds_ts_2_WoutMan = ds_ts_2[pd.isnull(ds_ts_2.Manager_Business2).values]"
   ]
  },
  {
   "cell_type": "code",
   "execution_count": 22,
   "metadata": {
    "collapsed": false
   },
   "outputs": [
    {
     "data": {
      "text/plain": [
       "(824, 127)"
      ]
     },
     "execution_count": 22,
     "metadata": {},
     "output_type": "execute_result"
    }
   ],
   "source": [
    "ds_ts_2_WoutMan.shape"
   ]
  },
  {
   "cell_type": "code",
   "execution_count": 24,
   "metadata": {
    "collapsed": false
   },
   "outputs": [],
   "source": [
    "from sklearn.ensemble import GradientBoostingClassifier\n",
    "from sklearn.ensemble import ExtraTreesClassifier\n",
    "from sklearn.linear_model import LogisticRegressionCV\n",
    "\n",
    "gbm_WMan = LogisticRegressionCV()\n",
    "\n",
    "gbm_WMan_fit = gbm_WMan.fit(ds_tr_WMan[features].values, ds_tr_WMan[target_col].T.values[0])\n",
    "\n",
    "gbm_WoutMan = GradientBoostingClassifier()\n",
    "\n",
    "gbm_WoutMan_fit = gbm_WoutMan.fit(ds_tr_2[features_WoutMan].values, ds_tr_2[target_col].T.values[0])\n",
    "\n",
    "\n",
    "ts_WMan = pd.DataFrame([ds_ts_2_WMan.ID.values,gbm_WMan_fit.predict_proba(ds_ts_2_WMan[features]).T[1]]).T\n",
    "\n",
    "ts_WoutMan = pd.DataFrame([ds_ts_2_WoutMan.ID.values,gbm_WoutMan_fit.predict_proba(ds_ts_2_WoutMan[features_WoutMan]).T[1]]).T\n",
    "\n",
    "\n",
    "ts_WMan.append([ts_WoutMan]).to_csv('F:\\\\tst.csv')\n"
   ]
  },
  {
   "cell_type": "code",
   "execution_count": 23,
   "metadata": {
    "collapsed": true
   },
   "outputs": [],
   "source": [
    "from sklearn import metrics\n",
    "def scorer(estimator, X, y):\n",
    "    status = estimator.predict_proba(X)\n",
    "    fpr, tpr, _ = metrics.roc_curve(y, status[:,1])\n",
    "    return(metrics.auc(fpr, tpr))\n",
    "    "
   ]
  },
  {
   "cell_type": "code",
   "execution_count": null,
   "metadata": {
    "collapsed": false
   },
   "outputs": [],
   "source": [
    "from sklearn.grid_search import GridSearchCV\n",
    "\n",
    "param_grid = {'learning_rate': [0.1, 0.05, 0.02, 0.01],\n",
    "              'max_depth': [4, 6],\n",
    "              'min_samples_leaf': [3, 5, 9, 17],\n",
    "              # 'max_features': [1.0, 0.3, 0.1] ## not possible in our example (only 1 fx)\n",
    "              }\n",
    "\n",
    "param_grid_test = {\n",
    "              'n_estimators': [3, 5, 9],\n",
    "              # 'max_features': [1.0, 0.3, 0.1] ## not possible in our example (only 1 fx)\n",
    "              }\n",
    "\n",
    "gbm_WMan = GradientBoostingClassifier()\n",
    "gbm_WManCV_fit = GridSearchCV(gbm_WMan, param_grid_test, scoring=scorer, n_jobs=4)\\\n",
    ".fit(ds_tr_WMan[features].values, ds_tr_WMan[target_col].T.values[0])\n",
    "\n",
    "#gbm_WoutMan = GradientBoostingClassifier(n_estimators=300)\n",
    "#gbm_WoutManCV_fit = GridSearchCV(gbm_WoutMan, param_grid, n_jobs=4).fit(ds_tr_WoutMan[features_WoutMan].values, ds_tr_WoutMan[target_col].T.values[0])\n"
   ]
  },
  {
   "cell_type": "code",
   "execution_count": 180,
   "metadata": {
    "collapsed": false
   },
   "outputs": [
    {
     "data": {
      "text/plain": [
       "0       (B, u, s, i, n, e, s, s, _, S, o, u, r, c, e, d)\n",
       "1       (B, u, s, i, n, e, s, s, _, S, o, u, r, c, e, d)\n",
       "2       (B, u, s, i, n, e, s, s, _, S, o, u, r, c, e, d)\n",
       "3       (B, u, s, i, n, e, s, s, _, S, o, u, r, c, e, d)\n",
       "4       (B, u, s, i, n, e, s, s, _, S, o, u, r, c, e, d)\n",
       "5       (B, u, s, i, n, e, s, s, _, S, o, u, r, c, e, d)\n",
       "6       (B, u, s, i, n, e, s, s, _, S, o, u, r, c, e, d)\n",
       "7       (B, u, s, i, n, e, s, s, _, S, o, u, r, c, e, d)\n",
       "8       (B, u, s, i, n, e, s, s, _, S, o, u, r, c, e, d)\n",
       "9       (B, u, s, i, n, e, s, s, _, S, o, u, r, c, e, d)\n",
       "10      (B, u, s, i, n, e, s, s, _, S, o, u, r, c, e, d)\n",
       "11      (B, u, s, i, n, e, s, s, _, S, o, u, r, c, e, d)\n",
       "12      (B, u, s, i, n, e, s, s, _, S, o, u, r, c, e, d)\n",
       "13      (B, u, s, i, n, e, s, s, _, S, o, u, r, c, e, d)\n",
       "14      (B, u, s, i, n, e, s, s, _, S, o, u, r, c, e, d)\n",
       "15      (B, u, s, i, n, e, s, s, _, S, o, u, r, c, e, d)\n",
       "16      (B, u, s, i, n, e, s, s, _, S, o, u, r, c, e, d)\n",
       "17      (B, u, s, i, n, e, s, s, _, S, o, u, r, c, e, d)\n",
       "18      (B, u, s, i, n, e, s, s, _, S, o, u, r, c, e, d)\n",
       "19      (B, u, s, i, n, e, s, s, _, S, o, u, r, c, e, d)\n",
       "20      (B, u, s, i, n, e, s, s, _, S, o, u, r, c, e, d)\n",
       "21      (B, u, s, i, n, e, s, s, _, S, o, u, r, c, e, d)\n",
       "22      (B, u, s, i, n, e, s, s, _, S, o, u, r, c, e, d)\n",
       "23      (B, u, s, i, n, e, s, s, _, S, o, u, r, c, e, d)\n",
       "24      (B, u, s, i, n, e, s, s, _, S, o, u, r, c, e, d)\n",
       "25      (B, u, s, i, n, e, s, s, _, S, o, u, r, c, e, d)\n",
       "26      (B, u, s, i, n, e, s, s, _, S, o, u, r, c, e, d)\n",
       "27      (B, u, s, i, n, e, s, s, _, S, o, u, r, c, e, d)\n",
       "28      (B, u, s, i, n, e, s, s, _, S, o, u, r, c, e, d)\n",
       "29      (B, u, s, i, n, e, s, s, _, S, o, u, r, c, e, d)\n",
       "                              ...                       \n",
       "8814    (B, u, s, i, n, e, s, s, _, S, o, u, r, c, e, d)\n",
       "8815    (B, u, s, i, n, e, s, s, _, S, o, u, r, c, e, d)\n",
       "8816    (B, u, s, i, n, e, s, s, _, S, o, u, r, c, e, d)\n",
       "8817    (B, u, s, i, n, e, s, s, _, S, o, u, r, c, e, d)\n",
       "8818    (B, u, s, i, n, e, s, s, _, S, o, u, r, c, e, d)\n",
       "8819    (B, u, s, i, n, e, s, s, _, S, o, u, r, c, e, d)\n",
       "8820    (B, u, s, i, n, e, s, s, _, S, o, u, r, c, e, d)\n",
       "8821    (B, u, s, i, n, e, s, s, _, S, o, u, r, c, e, d)\n",
       "8822    (B, u, s, i, n, e, s, s, _, S, o, u, r, c, e, d)\n",
       "8823    (B, u, s, i, n, e, s, s, _, S, o, u, r, c, e, d)\n",
       "8824    (B, u, s, i, n, e, s, s, _, S, o, u, r, c, e, d)\n",
       "8825    (B, u, s, i, n, e, s, s, _, S, o, u, r, c, e, d)\n",
       "8826    (B, u, s, i, n, e, s, s, _, S, o, u, r, c, e, d)\n",
       "8827    (B, u, s, i, n, e, s, s, _, S, o, u, r, c, e, d)\n",
       "8828    (B, u, s, i, n, e, s, s, _, S, o, u, r, c, e, d)\n",
       "8829    (B, u, s, i, n, e, s, s, _, S, o, u, r, c, e, d)\n",
       "8830    (B, u, s, i, n, e, s, s, _, S, o, u, r, c, e, d)\n",
       "8831    (B, u, s, i, n, e, s, s, _, S, o, u, r, c, e, d)\n",
       "8832    (B, u, s, i, n, e, s, s, _, S, o, u, r, c, e, d)\n",
       "8833    (B, u, s, i, n, e, s, s, _, S, o, u, r, c, e, d)\n",
       "8834    (B, u, s, i, n, e, s, s, _, S, o, u, r, c, e, d)\n",
       "8835    (B, u, s, i, n, e, s, s, _, S, o, u, r, c, e, d)\n",
       "8836    (B, u, s, i, n, e, s, s, _, S, o, u, r, c, e, d)\n",
       "8837    (B, u, s, i, n, e, s, s, _, S, o, u, r, c, e, d)\n",
       "8838    (B, u, s, i, n, e, s, s, _, S, o, u, r, c, e, d)\n",
       "8839    (B, u, s, i, n, e, s, s, _, S, o, u, r, c, e, d)\n",
       "8840    (B, u, s, i, n, e, s, s, _, S, o, u, r, c, e, d)\n",
       "8841    (B, u, s, i, n, e, s, s, _, S, o, u, r, c, e, d)\n",
       "8842    (B, u, s, i, n, e, s, s, _, S, o, u, r, c, e, d)\n",
       "8843    (B, u, s, i, n, e, s, s, _, S, o, u, r, c, e, d)\n",
       "dtype: object"
      ]
     },
     "execution_count": 180,
     "metadata": {},
     "output_type": "execute_result"
    }
   ],
   "source": [
    "(ds_tr_WMan[target_col])"
   ]
  },
  {
   "cell_type": "code",
   "execution_count": 74,
   "metadata": {
    "collapsed": true
   },
   "outputs": [
    {
     "name": "stderr",
     "output_type": "stream",
     "text": [
      "C:\\WinPython-64bit-3.4.4.1\\python-3.4.4.amd64\\lib\\site-packages\\pandas\\core\\generic.py:2862: SettingWithCopyWarning: \n",
      "A value is trying to be set on a copy of a slice from a DataFrame\n",
      "\n",
      "See the caveats in the documentation: http://pandas.pydata.org/pandas-docs/stable/indexing.html#indexing-view-versus-copy\n",
      "  self._update_inplace(new_data)\n"
     ]
    }
   ],
   "source": [
    "## Do not run\n",
    "for col in dt[dt.values>0].index:\n",
    "    ds_tr_2[col].fillna(ds_tr_2[col].mean(), inplace=True)\n",
    "    ds_ts_2[col].fillna(ds_tr_2[col].mean(), inplace=True)"
   ]
  },
  {
   "cell_type": "code",
   "execution_count": 75,
   "metadata": {
    "collapsed": false
   },
   "outputs": [],
   "source": [
    "train_1 = ds_tr_2.ix[ds_tr_2.index<datetime.datetime(2008,2,1)]\n",
    "test_1 = ds_tr_2.ix[ds_tr_2.index>=datetime.datetime(2008,2,1)]\n"
   ]
  },
  {
   "cell_type": "code",
   "execution_count": 76,
   "metadata": {
    "collapsed": false
   },
   "outputs": [
    {
     "name": "stdout",
     "output_type": "stream",
     "text": [
      "(6924, 126)\n",
      "(2603, 126)\n"
     ]
    }
   ],
   "source": [
    "print(train_1.shape)\n",
    "print((test_1).shape)"
   ]
  },
  {
   "cell_type": "code",
   "execution_count": 77,
   "metadata": {
    "collapsed": false
   },
   "outputs": [
    {
     "data": {
      "text/plain": [
       "array([0, 1, 0, ..., 0, 0, 0], dtype=int64)"
      ]
     },
     "execution_count": 77,
     "metadata": {},
     "output_type": "execute_result"
    }
   ],
   "source": [
    "train_1[target_col].values.reshape(len(train_1[target_col]),)"
   ]
  },
  {
   "cell_type": "code",
   "execution_count": 82,
   "metadata": {
    "collapsed": false
   },
   "outputs": [
    {
     "name": "stdout",
     "output_type": "stream",
     "text": [
      "0.697429231658\n",
      "0.614291202459\n",
      "0.726346457711\n",
      "0.571092637932\n"
     ]
    }
   ],
   "source": [
    "from sklearn.ensemble import GradientBoostingClassifier\n",
    "\n",
    "gbm = GradientBoostingClassifier()\n",
    "\n",
    "gbm_fit = gbm.fit(train_1[features].values, train_1[target_col].values.reshape(len(train_1[target_col]),))\n",
    "\n",
    "from sklearn import metrics\n",
    "\n",
    "print(metrics.accuracy_score(train_1[target_col].values.reshape(len(train_1[target_col]),), gbm_fit.predict(train_1[features].values)))\n",
    "\n",
    "print(metrics.accuracy_score(test_1[target_col].values.reshape(len(test_1[target_col]),), gbm_fit.predict(test_1[features].values)))\n",
    "\n",
    "#sum((test_1[target_col].values.reshape(len(test_1[target_col]),))-gbm_fit.predict(test_1[features].values))\n",
    "\n",
    "status = gbm_fit.predict_proba(train_1[features].values)\n",
    "fpr, tpr, _ = metrics.roc_curve(train_1[target_col[0]].values, status[:,1])\n",
    "print(metrics.auc(fpr, tpr))\n",
    "\n",
    "status = gbm_fit.predict_proba(test_1[features].values)\n",
    "fpr, tpr, _ = metrics.roc_curve(test_1[target_col[0]].values, status[:,1])\n",
    "print(metrics.auc(fpr, tpr))\n",
    "\n",
    "pd.DataFrame(gbm_fit.predict_proba(ds_ts_2[list(set(features) & set(ds_ts_2.columns))].values).T[1]).to_excel('F:\\\\tst.xlsx')\n",
    "\n",
    "\n",
    "\n",
    "\n",
    "\n",
    "\n"
   ]
  },
  {
   "cell_type": "code",
   "execution_count": null,
   "metadata": {
    "collapsed": false
   },
   "outputs": [],
   "source": [
    "plt.plot(fpr,tpr)"
   ]
  }
 ],
 "metadata": {
  "kernelspec": {
   "display_name": "Python 3",
   "language": "python",
   "name": "python3"
  },
  "language_info": {
   "codemirror_mode": {
    "name": "ipython",
    "version": 3
   },
   "file_extension": ".py",
   "mimetype": "text/x-python",
   "name": "python",
   "nbconvert_exporter": "python",
   "pygments_lexer": "ipython3",
   "version": "3.4.4"
  }
 },
 "nbformat": 4,
 "nbformat_minor": 0
}
