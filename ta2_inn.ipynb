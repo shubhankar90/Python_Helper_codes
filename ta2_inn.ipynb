{
 "cells": [
  {
   "cell_type": "code",
   "execution_count": 7,
   "metadata": {
    "collapsed": true
   },
   "outputs": [],
   "source": [
    "import pandas as pd\n",
    "import nltk\n",
    "import re\n",
    "from nltk.stem.snowball import SnowballStemmer\n",
    "from nltk.corpus import stopwords"
   ]
  },
  {
   "cell_type": "code",
   "execution_count": 8,
   "metadata": {
    "collapsed": true
   },
   "outputs": [],
   "source": [
    "import re, collections\n",
    "\n",
    "def words(text): return re.findall('[a-z]+', text.lower()) \n",
    "\n",
    "def train(features):\n",
    "    model = collections.defaultdict(lambda: 1)\n",
    "    for f in features:\n",
    "        model[f] += 1\n",
    "    return model\n",
    "\n",
    "NWORDS = train(words(file('C:\\\\WinPython-64bit-2.7.10.2\\\\work\\\\TA\\\\big.txt').read()))\n",
    "\n",
    "alphabet = 'abcdefghijklmnopqrstuvwxyz'\n",
    "\n",
    "def edits1(word):\n",
    "   splits     = [(word[:i], word[i:]) for i in range(len(word) + 1)]\n",
    "   deletes    = [a + b[1:] for a, b in splits if b]\n",
    "   transposes = [a + b[1] + b[0] + b[2:] for a, b in splits if len(b)>1]\n",
    "   replaces   = [a + c + b[1:] for a, b in splits for c in alphabet if b]\n",
    "   inserts    = [a + c + b     for a, b in splits for c in alphabet]\n",
    "   return set(deletes + transposes + replaces + inserts)\n",
    "\n",
    "def known_edits2(word):\n",
    "    return set(e2 for e1 in edits1(word) for e2 in edits1(e1) if e2 in NWORDS)\n",
    "\n",
    "def known(words): return set(w for w in words if w in NWORDS)\n",
    "\n",
    "def correct(word):\n",
    "    candidates = known([word]) or known(edits1(word)) or known_edits2(word) or [word]\n",
    "    return max(candidates, key=NWORDS.get)"
   ]
  },
  {
   "cell_type": "code",
   "execution_count": 9,
   "metadata": {
    "collapsed": true
   },
   "outputs": [],
   "source": [
    "ds=pd.read_excel('C:\\\\WinPython-64bit-2.7.10.2\\\\work\\\\TA\\\\reviews_1.xlsx',sheetname='reviews')"
   ]
  },
  {
   "cell_type": "code",
   "execution_count": 10,
   "metadata": {
    "collapsed": false
   },
   "outputs": [
    {
     "data": {
      "text/plain": [
       "644"
      ]
     },
     "execution_count": 10,
     "metadata": {},
     "output_type": "execute_result"
    }
   ],
   "source": [
    "innovation_rev=ds[ds['dr_inn']==1]\n",
    "len(innovation_rev)"
   ]
  },
  {
   "cell_type": "code",
   "execution_count": 16,
   "metadata": {
    "collapsed": true
   },
   "outputs": [],
   "source": [
    "rev_split=[re.sub(\"[^a-zA-Z]\", \" \", review).lower().split() for review in innovation_rev['message_reviewerer']]\n",
    "spell_correct=[[correct(word) for word in rev] for rev in rev_split]\n",
    "rev_correct_inn=[\" \".join(rev) for rev in spell_correct]"
   ]
  },
  {
   "cell_type": "code",
   "execution_count": 11,
   "metadata": {
    "collapsed": true
   },
   "outputs": [],
   "source": [
    "def itemspresent(item,sentence):\n",
    "    res=True\n",
    "    for itm in item.split('|'):\n",
    "        if itm.lower() not in sentence.lower().split():\n",
    "            res=res&False\n",
    "    return res\n",
    "\n",
    "def finditemsbypos(item,sentence,dist=10):\n",
    "    ret=False\n",
    "    firstpos=[i for i,x in enumerate(sentence.split()) if x.lower()==item.split('|')[0]]\n",
    "    for val in firstpos:\n",
    "        ret=itemspresent(\"|\".join(item.split('|')[1:]),\" \".join(sentence.split()[val:val+dist]))\n",
    "        if ret==True:\n",
    "            break\n",
    "    return ret "
   ]
  },
  {
   "cell_type": "code",
   "execution_count": 49,
   "metadata": {
    "collapsed": false
   },
   "outputs": [
    {
     "name": "stdout",
     "output_type": "stream",
     "text": [
      "['improve', 'dislike', 'problem', 'terrible', 'not enough', 'cons', 'downside', 'malfunction', 'wish', 'could|better', 'con ', 'want to', 'would|better', 'like to', 'would like', 'needs a', 'complaint', 'drawback', 'not satisfact', 'not|recommend', 'dont|recommend', 'require']\n"
     ]
    }
   ],
   "source": [
    "arraylookup=['improve','dislike','problem','terrible','not enough','cons','downside','malfunction'\n",
    "             ,'wish','could|better','con ','want to','would|better','like to','would like'\n",
    "             ,'needs a','complaint','drawback','not satisfact','not|recommend','dont|recommend'\n",
    "             ,'require']\n",
    "print arraylookup"
   ]
  },
  {
   "cell_type": "code",
   "execution_count": 54,
   "metadata": {
    "collapsed": false
   },
   "outputs": [
    {
     "name": "stdout",
     "output_type": "stream",
     "text": [
      "0\n",
      "[]\n"
     ]
    }
   ],
   "source": [
    "arraylookup=['customizable design']\n",
    "innova=[]\n",
    "i=0\n",
    "for rev in rev_correct_inn:\n",
    "    innova.append(False)\n",
    "    \n",
    "    for item in arraylookup:\n",
    "        if '|' in item:\n",
    "            if finditemsbypos(item,rev)==True:\n",
    "                innova[i]=True\n",
    "                break\n",
    "        else:\n",
    "            if item.lower() in rev.lower():\n",
    "                innova[i]=True                            \n",
    "                break\n",
    "\n",
    "    i=i+1\n",
    "tagged=[]\n",
    "i=0\n",
    "for inn in innova:\n",
    "    if inn==True:\n",
    "        tagged.append(rev_correct_inn[i])\n",
    "    i=i+1\n",
    "\n",
    "print len(tagged)\n",
    "print tagged\n"
   ]
  },
  {
   "cell_type": "code",
   "execution_count": 13,
   "metadata": {
    "collapsed": true
   },
   "outputs": [],
   "source": [
    "ds_noninn=pd.read_excel('C:\\\\WinPython-64bit-2.7.10.2\\\\work\\\\TA\\\\reviews_1.xlsx',sheetname='non_inn')"
   ]
  },
  {
   "cell_type": "code",
   "execution_count": 51,
   "metadata": {
    "collapsed": false
   },
   "outputs": [
    {
     "data": {
      "text/plain": [
       "2641"
      ]
     },
     "execution_count": 51,
     "metadata": {},
     "output_type": "execute_result"
    }
   ],
   "source": [
    "len(rev_correct_noninn)"
   ]
  },
  {
   "cell_type": "code",
   "execution_count": 15,
   "metadata": {
    "collapsed": true
   },
   "outputs": [],
   "source": [
    "rev_split=[re.sub(\"[^a-zA-Z]\", \" \", review).lower().split() for review in ds_noninn['message_reviewerer']]\n",
    "spell_correct=[[correct(word) for word in rev] for rev in rev_split]\n",
    "rev_correct_noninn=[\" \".join(rev) for rev in spell_correct]"
   ]
  },
  {
   "cell_type": "code",
   "execution_count": 45,
   "metadata": {
    "collapsed": false
   },
   "outputs": [
    {
     "name": "stdout",
     "output_type": "stream",
     "text": [
      "require\n",
      "i purchased this right before thanksgiving for a second home i spent lots of time searching refrigerator i was replacing an old side by side in a small kitchen i wanted the counter depth and hobby did not want the french door which we have in our primary home also did not want to spend an arm and a leg on a refrigerator the main problem with all of the figs seemed to be the ice maker the ice maker is very slow when dispersing the tubes this one was on sale and had adequate reviews looking at the online reviews even the highly rates reviews seemed to have a fair number of negative reviews the painless does seem to spot more easily than a kitchen aid that i have we were away for about weeks and even without leaving much in the fig when we first opened it there was a slight odor we removed a few things that we thought might have contributed and it seems to be of as long as it doesn require any repairs in the next few years i will be happy so far so good read less\n",
      "require\n",
      "i purchased this right before thanksgiving for a second home i spent lots of time searching refrigerator i was replacing an old side by side in a small kitchen i wanted the counter depth and hobby did not want the french door which we have in our primary home also did not want to spend an arm and a leg on a refrigerator the main problem with all of the figs seemed to be the ice maker the ice maker is very slow when dispersing the tubes this one was on sale and had adequate reviews looking at the online reviews even the highly rates reviews seemed to have a fair number of negative reviews the painless does seem to spot more easily than a kitchen aid that i have we were away for about weeks and even without leaving much in the fig when we first opened it there was a slight odor we removed a few things that we thought might have contributed and it seems to be of as long as it doesn require any repairs in the next few years i will be happy so far so good read less\n",
      "require\n",
      "i degraded from a top load wash to this new front load washed and it was the best investment give made the washed is very stylish and modern looking and it is quiet when running the buttons are easy to use and it didn require me to read a whole manual to figure out how to use it power start and setting button that pretty much it\n",
      "require\n",
      "i degraded from a top load wash to this new front load washed and it was the best investment give made the washed is very stylish and modern looking and it is quiet when running the buttons are easy to use and it didn require me to read a whole manual to figure out how to use it power start and setting button that pretty much it\n",
      "require\n",
      "i degraded from a top load wash to this new front load washed and it was the best investment give made the washed is very stylish and modern looking and it is quiet when running the buttons are easy to use and it didn require me to read a whole manual to figure out how to use it power start and setting button that pretty much it\n",
      "require\n",
      "we bought a new whirlpool front load washed with steam clean to replace our old he washed it only requires little water and every efficient work great and very quiet we love this item and easy to operate\n",
      "require\n",
      "we bought a new whirlpool front load washed with steam clean to replace our old he washed it only requires little water and every efficient work great and very quiet we love this item and easy to operate\n",
      "require\n",
      "we bought a new whirlpool front load washed with steam clean to replace our old he washed it only requires little water and every efficient work great and very quiet we love this item and easy to operate\n",
      "require\n",
      "i have been amazed at the effective job the steam feature plays in stain removal on my cotton shirts past cleaning has required additional pre treatment to remove these food and grease stains i was pleasantly surprised when my wife washed and dried them with a load of other clothes and they were clean as new\n",
      "require\n",
      "i have been amazed at the effective job the steam feature plays in stain removal on my cotton shirts past cleaning has required additional pre treatment to remove these food and grease stains i was pleasantly surprised when my wife washed and dried them with a load of other clothes and they were clean as new\n",
      "require\n",
      "super quiet if this is a requirement for anyone was only looking for the most capacity with steam option for the money and this machine takes the cake great value and only regret not having bought a new machine earlier works great with easy features too love it\n",
      "require\n",
      "super quiet if this is a requirement for anyone was only looking for the most capacity with steam option for the money and this machine takes the cake great value and only regret not having bought a new machine earlier works great with easy features too love it\n",
      "require\n",
      "super quiet if this is a requirement for anyone was only looking for the most capacity with steam option for the money and this machine takes the cake great value and only regret not having bought a new machine earlier works great with easy features too love it\n",
      "require\n",
      "i have an auto immune disorder that requires me to take meditation that destroys my immune system and the sanitize feature is exactly what i need to make certain my wash is germ free love the many option and love the quickness of this washing machine highly recommend to everyone\n",
      "require\n",
      "i have an auto immune disorder that requires me to take meditation that destroys my immune system and the sanitize feature is exactly what i need to make certain my wash is germ free love the many option and love the quickness of this washing machine highly recommend to everyone\n",
      "require\n",
      "i got this stock able ll washed to go along with my ecohybrid ll dwyer this machine is awesome its quiet effective and efficient the washed has a great amount of option i especially like the allergene option for washing sheets and pillow cases the machine sings the lovely ll tune when it is complete this washed is the standard wide but was a couple inches longer than my previous so double check your size requirements i purchased this machine in the district of columbia and it came with a debate until september i would recommend this washed\n",
      "require\n",
      "i got this stock able ll washed to go along with my ecohybrid ll dwyer this machine is awesome its quiet effective and efficient the washed has a great amount of option i especially like the allergene option for washing sheets and pillow cases the machine sings the lovely ll tune when it is complete this washed is the standard wide but was a couple inches longer than my previous so double check your size requirements i purchased this machine in the district of columbia and it came with a debate until september i would recommend this washed\n",
      "require\n",
      "i got this stock able ll washed to go along with my ecohybrid ll dwyer this machine is awesome its quiet effective and efficient the washed has a great amount of option i especially like the allergene option for washing sheets and pillow cases the machine sings the lovely ll tune when it is complete this washed is the standard wide but was a couple inches longer than my previous so double check your size requirements i purchased this machine in the district of columbia and it came with a debate until september i would recommend this washed\n",
      "require\n",
      "the washed analysis the load determines how much water and time will be required and proceeds with the job and it does a great job nothing could be easier or better now instead of several loads and considerable time there is just one load and a matter of minutes its that simple\n",
      "require\n",
      "really met our space requirement and so far has been exactly what we needed\n",
      "require\n",
      "we bought this to replace a he in our vocation home the top freemen has plenty of storage room and the shelf arrangement below is convenient though it requires bending down to see our old one had a bottom freemen i regret not getting the cabinet depth model as it sticks out more than i thought it would but the lip side is that there more storage room inside\n",
      "require\n",
      "we bought this to replace a he in our vocation home the top freemen has plenty of storage room and the shelf arrangement below is convenient though it requires bending down to see our old one had a bottom freemen i regret not getting the cabinet depth model as it sticks out more than i thought it would but the lip side is that there more storage room inside\n",
      "require\n",
      "all the circle hemp common i could ever want quiet clothes come out unwrinkled and require so little drying time i thought i needed a new washed but now it seems it was my dwyer not spinning efficiently drying time is cut to less than half even with the washed on low spin my only disappointment is in the circle time with an extra rise a normal load is an hour and a quarter but with faster drying even with old dwyer i still save time overall\n",
      "require\n",
      "all the circle hemp common i could ever want quiet clothes come out unwrinkled and require so little drying time i thought i needed a new washed but now it seems it was my dwyer not spinning efficiently drying time is cut to less than half even with the washed on low spin my only disappointment is in the circle time with an extra rise a normal load is an hour and a quarter but with faster drying even with old dwyer i still save time overall\n",
      "require\n",
      "bought it at a very reasonable price clean my clothes better than any other machine give owned very energy efficient and uses less water spin circle is the best as it leaves our clothes slightly damp which requires less drying time very large capacity allows us to wash more clothes less loads love all the various circles i need a new refrigerator in only buying a whirlpool\n",
      "require\n",
      "bought it at a very reasonable price clean my clothes better than any other machine give owned very energy efficient and uses less water spin circle is the best as it leaves our clothes slightly damp which requires less drying time very large capacity allows us to wash more clothes less loads love all the various circles i need a new refrigerator in only buying a whirlpool\n",
      "require\n",
      "bought it at a very reasonable price clean my clothes better than any other machine give owned very energy efficient and uses less water spin circle is the best as it leaves our clothes slightly damp which requires less drying time very large capacity allows us to wash more clothes less loads love all the various circles i need a new refrigerator in only buying a whirlpool\n",
      "require\n",
      "bought it at a very reasonable price clean my clothes better than any other machine give owned very energy efficient and uses less water spin circle is the best as it leaves our clothes slightly damp which requires less drying time very large capacity allows us to wash more clothes less loads love all the various circles i need a new refrigerator in only buying a whirlpool\n",
      "require\n",
      "bought it at a very reasonable price clean my clothes better than any other machine give owned very energy efficient and uses less water spin circle is the best as it leaves our clothes slightly damp which requires less drying time very large capacity allows us to wash more clothes less loads love all the various circles i need a new refrigerator in only buying a whirlpool\n",
      "require\n",
      "my very old whirlpool washed finally broke so it was time to buy a new one should i buy machine that requires an engineering degree to run it no i got an updated machine that has special features that are just perfect not too much not too little its just right\n",
      "require\n",
      "my very old whirlpool washed finally broke so it was time to buy a new one should i buy machine that requires an engineering degree to run it no i got an updated machine that has special features that are just perfect not too much not too little its just right\n",
      "require\n",
      "at first i was skeptical because it uses very little water in use to the washed filling up with water its a large capacity washed and so far so good holds hugh loads if needed and comforts the water is self measuring and time wash depending on the load type my only problem is they didn hook up the new those i was told are required and purchased for the new machine and i believe i paid for installation of horses i was told he didn want to break anything because it been on there for a while do i get a refund for the connection of the those s on the hot and cold water i had to call a plumber otherwise i love my new whirlpool washed even though some loads take longer\n",
      "require\n",
      "at first i was skeptical because it uses very little water in use to the washed filling up with water its a large capacity washed and so far so good holds hugh loads if needed and comforts the water is self measuring and time wash depending on the load type my only problem is they didn hook up the new those i was told are required and purchased for the new machine and i believe i paid for installation of horses i was told he didn want to break anything because it been on there for a while do i get a refund for the connection of the those s on the hot and cold water i had to call a plumber otherwise i love my new whirlpool washed even though some loads take longer\n",
      "require\n",
      "we purchased a top loading washing machine because of space requirements and so far we are more than pleased with it we chose whirlpool because of the high rating and the features we needed the only down side is that is that it has a little problem balancing wet large towels and sometimes we have to stop the machine and balance the towels and start it then it works and fine\n",
      "require\n",
      "we purchased a top loading washing machine because of space requirements and so far we are more than pleased with it we chose whirlpool because of the high rating and the features we needed the only down side is that is that it has a little problem balancing wet large towels and sometimes we have to stop the machine and balance the towels and start it then it works and fine\n",
      "require\n",
      "we purchased a top loading washing machine because of space requirements and so far we are more than pleased with it we chose whirlpool because of the high rating and the features we needed the only down side is that is that it has a little problem balancing wet large towels and sometimes we have to stop the machine and balance the towels and start it then it works and fine\n",
      "36\n"
     ]
    }
   ],
   "source": [
    "#arraylookup=['and purchase']\n",
    "innova=[]\n",
    "i=0\n",
    "for rev in rev_correct_noninn:\n",
    "    innova.append(False)\n",
    "    \n",
    "    for item in arraylookup:\n",
    "        if '|' in item:\n",
    "            if finditemsbypos(item,rev)==True:\n",
    "                innova[i]=True\n",
    "                break\n",
    "        else:\n",
    "            if item.lower() in rev.lower():\n",
    "                innova[i]=True                            \n",
    "                break\n",
    "    if innova[i]==True:\n",
    "        print item\n",
    "        print rev\n",
    "\n",
    "    i=i+1\n",
    "\n",
    "tagged=[]\n",
    "i=0\n",
    "for inn in innova:\n",
    "    if inn==True:\n",
    "        tagged.append(rev_correct_noninn[i])\n",
    "    i=i+1\n",
    "\n",
    "print len(tagged)"
   ]
  }
 ],
 "metadata": {
  "kernelspec": {
   "display_name": "Python 3",
   "language": "python",
   "name": "python3"
  },
  "language_info": {
   "codemirror_mode": {
    "name": "ipython",
    "version": 3
   },
   "file_extension": ".py",
   "mimetype": "text/x-python",
   "name": "python",
   "nbconvert_exporter": "python",
   "pygments_lexer": "ipython3",
   "version": "3.4.4"
  }
 },
 "nbformat": 4,
 "nbformat_minor": 0
}
