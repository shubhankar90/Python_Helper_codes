{
 "cells": [
  {
   "cell_type": "code",
   "execution_count": 3,
   "metadata": {
    "collapsed": false
   },
   "outputs": [],
   "source": [
    "%matplotlib inline\n",
    "import numpy as np\n",
    "import pandas as pd\n",
    "import matplotlib.pyplot as plt"
   ]
  },
  {
   "cell_type": "code",
   "execution_count": 4,
   "metadata": {
    "collapsed": false
   },
   "outputs": [],
   "source": [
    "data = pd.read_excel('F:\\\\data.xlsx')"
   ]
  },
  {
   "cell_type": "code",
   "execution_count": 5,
   "metadata": {
    "collapsed": false
   },
   "outputs": [
    {
     "ename": "AttributeError",
     "evalue": "'DataFrame' object has no attribute 'x'",
     "output_type": "error",
     "traceback": [
      "\u001b[1;31m---------------------------------------------------------------------------\u001b[0m",
      "\u001b[1;31mAttributeError\u001b[0m                            Traceback (most recent call last)",
      "\u001b[1;32m<ipython-input-5-5b8545c45509>\u001b[0m in \u001b[0;36m<module>\u001b[1;34m()\u001b[0m\n\u001b[1;32m----> 1\u001b[1;33m \u001b[0mdata\u001b[0m\u001b[1;33m.\u001b[0m\u001b[0mx\u001b[0m\u001b[1;33m\u001b[0m\u001b[0m\n\u001b[0m",
      "\u001b[1;32mC:\\WinPython-64bit-3.4.4.1\\python-3.4.4.amd64\\lib\\site-packages\\pandas\\core\\generic.py\u001b[0m in \u001b[0;36m__getattr__\u001b[1;34m(self, name)\u001b[0m\n\u001b[0;32m   2358\u001b[0m                 \u001b[1;32mreturn\u001b[0m \u001b[0mself\u001b[0m\u001b[1;33m[\u001b[0m\u001b[0mname\u001b[0m\u001b[1;33m]\u001b[0m\u001b[1;33m\u001b[0m\u001b[0m\n\u001b[0;32m   2359\u001b[0m             raise AttributeError(\"'%s' object has no attribute '%s'\" %\n\u001b[1;32m-> 2360\u001b[1;33m                                  (type(self).__name__, name))\n\u001b[0m\u001b[0;32m   2361\u001b[0m \u001b[1;33m\u001b[0m\u001b[0m\n\u001b[0;32m   2362\u001b[0m     \u001b[1;32mdef\u001b[0m \u001b[0m__setattr__\u001b[0m\u001b[1;33m(\u001b[0m\u001b[0mself\u001b[0m\u001b[1;33m,\u001b[0m \u001b[0mname\u001b[0m\u001b[1;33m,\u001b[0m \u001b[0mvalue\u001b[0m\u001b[1;33m)\u001b[0m\u001b[1;33m:\u001b[0m\u001b[1;33m\u001b[0m\u001b[0m\n",
      "\u001b[1;31mAttributeError\u001b[0m: 'DataFrame' object has no attribute 'x'"
     ]
    }
   ],
   "source": [
    "data.x"
   ]
  },
  {
   "cell_type": "code",
   "execution_count": 6,
   "metadata": {
    "collapsed": false
   },
   "outputs": [
    {
     "name": "stdout",
     "output_type": "stream",
     "text": [
      "          x0          x1         x2          x3          x4         x5  \\\n",
      "0  46.669881  192.079599  80.008530  121.027378  121.027378 -59.973620   \n",
      "1  40.258131 -116.152721  49.914817  -78.106147  -78.106147 -78.104966   \n",
      "2  32.223806  -18.396286  78.652599  191.607341  191.607341  84.480934   \n",
      "3  49.486338  -70.636179  65.274854   -2.840670   -2.840670  -6.288344   \n",
      "4  47.016718 -218.649568  71.102783   74.226698   74.226698 -52.642619   \n",
      "\n",
      "          x6     x7     x8     x9  x10  x11   x12        y_train  \n",
      "0 -59.973620  onnn1  onnn2  onnn2    1    1   ygy  137539.042481  \n",
      "1 -78.104966  onnn2  onnn3  onnn3    2    2  nhub  -57606.257039  \n",
      "2  84.480934  onnn3  onnn4  onnn4    3    3   nkn  167998.320232  \n",
      "3  -6.288344  onnn4  onnn5  onnn5    4    4   ygy   23032.223177  \n",
      "4 -52.642619  onnn5  onnn6  onnn6    5    5  nhub  106917.015056  \n",
      "['x0', 'x1', 'x2', 'x3', 'x4', 'x5', 'x6']\n"
     ]
    }
   ],
   "source": [
    "print(data.head())\n",
    "print(list(data.columns[0:7]))\n"
   ]
  },
  {
   "cell_type": "code",
   "execution_count": 7,
   "metadata": {
    "collapsed": false
   },
   "outputs": [],
   "source": [
    "def change_dtypes(df, cols, dtype):\n",
    "    for col in cols:\n",
    "        try:\n",
    "            df[col] = df[col].astype(dtype)\n",
    "        except:\n",
    "            print('Conversion error for column: '+col)\n",
    "    "
   ]
  },
  {
   "cell_type": "code",
   "execution_count": 14,
   "metadata": {
    "collapsed": false
   },
   "outputs": [
    {
     "name": "stdout",
     "output_type": "stream",
     "text": [
      "x0          float64\n",
      "x1          float64\n",
      "x2          float64\n",
      "x3          float64\n",
      "x4          float64\n",
      "x5          float64\n",
      "x6          float64\n",
      "x7         category\n",
      "x8         category\n",
      "x9         category\n",
      "x10        category\n",
      "x11           int32\n",
      "x12        category\n",
      "y_train     float64\n",
      "dtype: object\n"
     ]
    },
    {
     "data": {
      "text/html": [
       "<div>\n",
       "<table border=\"1\" class=\"dataframe\">\n",
       "  <thead>\n",
       "    <tr style=\"text-align: right;\">\n",
       "      <th></th>\n",
       "      <th>x0</th>\n",
       "      <th>x1</th>\n",
       "      <th>x2</th>\n",
       "      <th>x3</th>\n",
       "      <th>x4</th>\n",
       "      <th>x5</th>\n",
       "      <th>x6</th>\n",
       "      <th>x7</th>\n",
       "      <th>x8</th>\n",
       "      <th>x9</th>\n",
       "      <th>x10</th>\n",
       "      <th>x11</th>\n",
       "      <th>x12</th>\n",
       "      <th>y_train</th>\n",
       "    </tr>\n",
       "  </thead>\n",
       "  <tbody>\n",
       "    <tr>\n",
       "      <th>1</th>\n",
       "      <td>40.258131</td>\n",
       "      <td>-116.152721</td>\n",
       "      <td>49.914817</td>\n",
       "      <td>-78.106147</td>\n",
       "      <td>-78.106147</td>\n",
       "      <td>-78.104966</td>\n",
       "      <td>-78.104966</td>\n",
       "      <td>onnn2</td>\n",
       "      <td>onnn3</td>\n",
       "      <td>onnn3</td>\n",
       "      <td>2</td>\n",
       "      <td>2</td>\n",
       "      <td>nhub</td>\n",
       "      <td>-57606.257039</td>\n",
       "    </tr>\n",
       "    <tr>\n",
       "      <th>2</th>\n",
       "      <td>32.223806</td>\n",
       "      <td>-18.396286</td>\n",
       "      <td>78.652599</td>\n",
       "      <td>191.607341</td>\n",
       "      <td>191.607341</td>\n",
       "      <td>84.480934</td>\n",
       "      <td>84.480934</td>\n",
       "      <td>onnn3</td>\n",
       "      <td>onnn4</td>\n",
       "      <td>onnn4</td>\n",
       "      <td>3</td>\n",
       "      <td>3</td>\n",
       "      <td>nkn</td>\n",
       "      <td>167998.320232</td>\n",
       "    </tr>\n",
       "  </tbody>\n",
       "</table>\n",
       "</div>"
      ],
      "text/plain": [
       "          x0          x1         x2          x3          x4         x5  \\\n",
       "1  40.258131 -116.152721  49.914817  -78.106147  -78.106147 -78.104966   \n",
       "2  32.223806  -18.396286  78.652599  191.607341  191.607341  84.480934   \n",
       "\n",
       "          x6     x7     x8     x9 x10  x11   x12        y_train  \n",
       "1 -78.104966  onnn2  onnn3  onnn3   2    2  nhub  -57606.257039  \n",
       "2  84.480934  onnn3  onnn4  onnn4   3    3   nkn  167998.320232  "
      ]
     },
     "execution_count": 14,
     "metadata": {},
     "output_type": "execute_result"
    }
   ],
   "source": [
    "change_dtypes(data,['x7','x8','x9','x10','x12'],'category')\n",
    "change_dtypes(data,list(data.columns[0:7]),'float')\n",
    "change_dtypes(data,['x11'],'int')\n",
    "print(data.dtypes)\n",
    "data[data.dtypes[(data.dtypes=='float')].index.values]\n",
    "data[1:3]"
   ]
  }
 ],
 "metadata": {
  "kernelspec": {
   "display_name": "Python 3",
   "language": "python",
   "name": "python3"
  },
  "language_info": {
   "codemirror_mode": {
    "name": "ipython",
    "version": 3
   },
   "file_extension": ".py",
   "mimetype": "text/x-python",
   "name": "python",
   "nbconvert_exporter": "python",
   "pygments_lexer": "ipython3",
   "version": "3.4.4"
  }
 },
 "nbformat": 4,
 "nbformat_minor": 0
}
